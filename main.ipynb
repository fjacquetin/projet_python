{
 "cells": [
  {
   "cell_type": "markdown",
   "metadata": {},
   "source": [
    "---\n",
    "## La décote immobilière sur les littoraux\n",
    "Par Florian Jacquetin & Philémon Pensier, groupe 8\n",
    "\n",
    "##### La décote littorale représente la dépréciation des valeurs immobilières liées aux risques cotiers (montée des eaux, submersion, érosion). A partir des transactions recensées par DVF en 2023 et de l'application Géorisques, nous construisons un modèle hédonique et spatial pour évaluer l'effet causal de la présence en zone inondable. Selon ce modèle, les appartements exposés ubiraient une décote de près de 8%, tandis que les transactions liées aux maisons resteraient insensibles, ce qui traduirait un effet de myopie persistant des achats des particuliers\n",
    "---\n",
    "*Important : la version de Python à utiliser est la 3.12.8*\n",
    "\n",
    "*Note : la plupart des fonctions ont été rassemblées dans des scripts et ne sont pas détaillées dans le notebook.*"
   ]
  },
  {
   "cell_type": "markdown",
   "metadata": {},
   "source": [
    "## Sommaire\n",
    "\n",
    "1. [Introduction : la décote littorale](#1-introduction--la-decote-littorale)  \n",
    "2. [Initialisation : installation et import des modules](#2-initialisation--installation-et-import-des-modules)  \n",
    "3. [Les communes côtières](#3-les-communes-cotieres)  \n",
    "   3.1. [Jointure spatiale entre communes et trait de côte](#3.1-jointure-spatiale-entre-communes-et-trait-de-cote)  \n",
    "   3.2. [Données sur les communes côtières](#3.2-donnees-sur-les-communes-cotieres)  \n",
    "   3.3. [Localiser les lieux importants](#3.3-localiser-les-lieux-importants)  \n",
    "4. [Les transactions côtières](#4-les-transactions-cotieres)  \n",
    "   4.1. [Créer le fichier des transactions côtières](#4.1-creer-le-fichier-des-transactions-cotieres)  \n",
    "   4.2. [Identifier une ligne par transaction](#4.2-identifier-une-ligne-par-transaction)  \n",
    "5. [Les zones inondables](#5-les-zones-inondables)  \n",
    "   5.1. [Géorisques](#5.1-georisques)  \n",
    "   5.2. [Moyennes des prix en zone inondable](#5.2-moyennes-des-prix-en-zone-inondable)  \n",
    "6. [Les cartes](#6-les-cartes)  \n",
    "   6.1. [Associer les transactions aux TRI](#6.1-associer-les-transactions-aux-TRI)  \n",
    "   6.2. [Visualisation](#6.2-visualisation)  \n",
    "7. [Les caractéristiques des logements](#7-les-caracteristiques-des-logements)  \n",
    "8. [Le modèle économétrique](#8-le-modele-econometrique)  \n",
    "   8.1. [Le risque de submersion marine](#8.1-le-risque-de-submersion-marine)  \n",
    "   8.2. [Variables spatiales](#8.2-variables-spatiales)  \n",
    "   8.3. [Variables climatiques](#8.3-variables-climatiques)  \n",
    "   8.4. [Variables hédoniques](#8.4-variables-hedoniques)  \n",
    "   8.5. [Estimation par la méthode des MCO](#8.5-estimation-par-la-methode-des-MCO)  \n",
    "   8.6. [Résultats finaux](#8.6-resultats-finaux)  \n"
   ]
  },
  {
   "cell_type": "markdown",
   "metadata": {},
   "source": [
    "---\n",
    "# 1. Introduction : la decote littorale"
   ]
  },
  {
   "cell_type": "markdown",
   "metadata": {},
   "source": [
    "Selon l'INRAE, 20% de la population mondiale vit à moins de 30 km des côtes. Cette population est donc particulièrement exposée aux risques associés au changement climatique. France Stratégie (Robinet & Delahais, 2023) recense notamment les risques cotiers suivants :\n",
    "- la montée du niveau de la mer\n",
    "- les risques de submersion marine\n",
    "- les risques de submersion fluviale, en particulier dans les communes à l'embouchure des fleuves\n",
    "\n",
    "Ces risques peuvent peuvent conduire, en France, à la reconnaissance par l'Etat d'une situation de catastrophe naturelle. Par exemple, en 2010, la tempête Xynthia a frappé le littoral atlantique et les digues ont cédé dans plusieurs zones, notamment en Vendée et Charente-Maritime.\n",
    "\n",
    "En plus des dégâts matériels et humains, ces risques affectent le marché immobilier local. Cela fait peser des risques sur le patrimoine des propriétaires (ménages, investisseurs) mais aussi sur les acteurs financiers qui financent ces acquisitions. L'INRAE (2023) estime par exemple que les prix en zone inondable seraient plus bas de 10 à 21 % par rapport à des biens similaires à proximité.\n",
    "\n",
    "Nous nous proposons d'évaluer la __*décote climatique*__, c'est-à-dire la dévalorisation d'un bien immobilier associée à la prise en compte du risque climatique. Nous utiliserons notamment la base DVF (Demande de Valeurs Foncières), les API de géolocalisation (OverPass, API Adresse) et l'API de localisation des risques inondation Géoriques, qui recense les localisations dans TRI (territoires à Risques importants d'Inondation). Enfin, nous utilisons les bases de données cadastrales pour identifier les caractéristiques immobilières des parcelles.\n",
    "\n",
    "Par un modèle à la fois hédonique (la valeur d'un bien dépend de ses caractéristiques spécifiques) et spatial (cette valeur dépend de sa situation géographique dans la commune), nous confirmons l'existence de ce discount (__*8% en moyenne pour les transactions d'appartements*__), mais cette valeur moyenne cache d'importantes hétérogénéités et surtout dépend du type d'acquisition et du type de risque associé."
   ]
  },
  {
   "cell_type": "markdown",
   "metadata": {},
   "source": [
    "---\n",
    "# 2. Initialisation : installation et import des modules\n",
    "[Retour au sommaire](#sommaire)"
   ]
  },
  {
   "cell_type": "code",
   "execution_count": null,
   "metadata": {},
   "outputs": [],
   "source": [
    "## La version de python utilisée est 3.12.8\n",
    "\n",
    "%pip install -r requirements.txt -q"
   ]
  },
  {
   "cell_type": "code",
   "execution_count": 2,
   "metadata": {},
   "outputs": [],
   "source": [
    "import os\n",
    "import ast\n",
    "import numpy as np\n",
    "import pandas as pd\n",
    "import geopandas as gpd\n",
    "from geopy.distance import geodesic\n",
    "import overpy\n",
    "from concurrent.futures import ThreadPoolExecutor # Utilisée dans une requête intermédiaire de Géorisques\n",
    "from IPython.display import display\n",
    "\n",
    "from script import get_data_zones_inondables\n",
    "from script import process_data\n",
    "from script import geolocaliser\n",
    "from script import request_tri # Utilisée dans la requête intermédiaire de Géorisques\n",
    "from script import mapping\n",
    "from script import modeling\n",
    "\n",
    "# Pour faciliter la lecture, on retire les warnings non essentiels\n",
    "import warnings\n",
    "warnings.filterwarnings(\"ignore\")"
   ]
  },
  {
   "cell_type": "markdown",
   "metadata": {},
   "source": [
    "---\n",
    "# 3. Les communes cotieres\n",
    "[Retour au sommaire](#sommaire)"
   ]
  },
  {
   "cell_type": "markdown",
   "metadata": {},
   "source": [
    "Objectif : produire un fichier qui recense les communes côtières, leurs coordonnées et localise leurs lieux importants"
   ]
  },
  {
   "cell_type": "markdown",
   "metadata": {},
   "source": [
    "### 3.1. Jointure spatiale entre communes et trait de cote"
   ]
  },
  {
   "cell_type": "markdown",
   "metadata": {},
   "source": [
    "On récupère la liste des communes françaises, puis on retient les communes cotières à partir d'une jointure spatiale avec le trait de cote."
   ]
  },
  {
   "cell_type": "code",
   "execution_count": null,
   "metadata": {},
   "outputs": [],
   "source": [
    "get_data_zones_inondables.get_communes_france()\n",
    "get_data_zones_inondables.get_communes_cotieres()"
   ]
  },
  {
   "cell_type": "markdown",
   "metadata": {},
   "source": [
    "On aboutit à un geodataframe exhaustif de toutes les communes françaises (métropolitaines) qui ont un accès à la mer, enregistrée dans \"data/communes_cotieres/communes_cotieres.shp\""
   ]
  },
  {
   "cell_type": "code",
   "execution_count": null,
   "metadata": {},
   "outputs": [],
   "source": [
    "get_data_zones_inondables.show_communes_cotieres()"
   ]
  },
  {
   "cell_type": "markdown",
   "metadata": {},
   "source": [
    "On répertorie les communes dans une liste (pour filtrer les cartes suivantes)."
   ]
  },
  {
   "cell_type": "code",
   "execution_count": 5,
   "metadata": {},
   "outputs": [],
   "source": [
    "df_cotieres = gpd.read_file(\"data/communes_cotieres/communes_cotieres.shp\")\n",
    "df_cotieres = df_cotieres[['code', 'nom', 'NumDep']].drop_duplicates(subset='nom').sort_values(by='nom').reset_index(drop=True)\n",
    "liste_cotieres = df_cotieres['nom'].unique().tolist()"
   ]
  },
  {
   "cell_type": "markdown",
   "metadata": {},
   "source": [
    "### 3.2. Donnees sur les communes cotieres"
   ]
  },
  {
   "cell_type": "markdown",
   "metadata": {},
   "source": [
    "On associe les départements et les régions à chaque commune."
   ]
  },
  {
   "cell_type": "code",
   "execution_count": 6,
   "metadata": {},
   "outputs": [],
   "source": [
    "df_cotieres = df_cotieres.rename(columns={'nom': 'Nom commune', 'code': 'code_commune', 'NumDep': 'departement'})\n",
    "df_cotieres['departement'] = df_cotieres['departement'].astype(str).astype(int)\n",
    "\n",
    "region = pd.read_csv('data/code_region.csv',encoding=\"utf8\",sep=\";\")\n",
    "\n",
    "df_cotieres = df_cotieres.merge(region, left_on='departement',  right_on='departmentCode',  how='left' )"
   ]
  },
  {
   "cell_type": "markdown",
   "metadata": {},
   "source": [
    "On renseigne les populations à partir des bases de recensement."
   ]
  },
  {
   "cell_type": "code",
   "execution_count": 7,
   "metadata": {},
   "outputs": [],
   "source": [
    "url = \"https://www.insee.fr/fr/statistiques/fichier/7739582/ensemble.zip\"\n",
    "df_population = process_data.process_population_data(url)\n",
    "df_cotieres = df_cotieres.merge(df_population,left_on='code_commune',right_on='code_commune')"
   ]
  },
  {
   "cell_type": "markdown",
   "metadata": {},
   "source": [
    "On calcule des statistiques descriptives sur les populations cotières, par région. Nos communes couvrent bien toutes les régions littorales. Il y a 1097 communes, couvrant près de 8 millions d'habitants."
   ]
  },
  {
   "cell_type": "code",
   "execution_count": null,
   "metadata": {},
   "outputs": [],
   "source": [
    "process_data.display_region_and_commune_stats(df_cotieres)"
   ]
  },
  {
   "cell_type": "markdown",
   "metadata": {},
   "source": [
    "Les principales communes sont : Nice, Nantes et Bordeaux."
   ]
  },
  {
   "cell_type": "markdown",
   "metadata": {},
   "source": [
    "### 3.3. Localiser les lieux importants"
   ]
  },
  {
   "cell_type": "markdown",
   "metadata": {},
   "source": [
    "On repère déjà le centre de la commune pour fixer les cartes"
   ]
  },
  {
   "cell_type": "code",
   "execution_count": 9,
   "metadata": {},
   "outputs": [],
   "source": [
    "gdf_communes = gpd.read_file('data/communes_france/communes_france.shp').to_crs(4326)\n",
    "gdf_communes_cotieres = geolocaliser.calculate_commune_centers(gdf_communes, df_cotieres)"
   ]
  },
  {
   "cell_type": "markdown",
   "metadata": {},
   "source": [
    "On utilise l'API Overpass (module *overpy*) pour successivement géolocaliser les mairies, les stations de transport et les plages de la commune.\n",
    "\n",
    "Cette API repose sur les 3 structures suivantes :\n",
    "\n",
    "- Un *node* est un point géographique défini par des coordonnées de latitude et de longitude.\n",
    "- Un *way* est une séquence de nodes qui forment une ligne ou une zone. Les ways peuvent être utilisés pour représenter des objets linéaires (routes, rivières) ou des zones fermées (bâtiments, parcs, lacs).\n",
    "- Une *relation* est un groupe de nodes, ways et d'autres relations qui sont regroupés pour définir des objets plus complexes"
   ]
  },
  {
   "cell_type": "code",
   "execution_count": 10,
   "metadata": {},
   "outputs": [],
   "source": [
    "# Lance une instance pour communiqurre avec Overpass\n",
    "api = overpy.Overpass()"
   ]
  },
  {
   "cell_type": "markdown",
   "metadata": {},
   "source": [
    "Exemple de requête d'Overpass : la mairie de Cannes. On cherche exclusivement des nodes (amenity = townhall)"
   ]
  },
  {
   "cell_type": "code",
   "execution_count": null,
   "metadata": {},
   "outputs": [],
   "source": [
    "query = f\"\"\"\n",
    "[out:json];\n",
    "area[name=\"Cannes\"]->.searchArea;\n",
    "node[\"amenity\"=\"townhall\"](area.searchArea);\n",
    "out body;\n",
    "\"\"\"\n",
    "# Exécuter la requête\n",
    "result = api.query(query)\n",
    "print(result.nodes)"
   ]
  },
  {
   "cell_type": "markdown",
   "metadata": {},
   "source": [
    "Ici il n'y a qu'un résultat. Parfois il y en a plusieurs, on sélectionne alors le premier.\n",
    "\n",
    "On a réalisé cette recherche pour toutes les communes cotières. On laisse le code des mairies ci-dessous en commentaires pour un gain de temps "
   ]
  },
  {
   "cell_type": "code",
   "execution_count": 12,
   "metadata": {},
   "outputs": [],
   "source": [
    "# gdf_communes_cotieres[['latitude_mairie', 'longitude_mairie']] = gdf_communes_cotieres.apply(\n",
    "#     lambda row: pd.Series(geolocaliser.get_townhall_coordinates(row['nom'], api)), axis=1\n",
    "#     )"
   ]
  },
  {
   "cell_type": "markdown",
   "metadata": {},
   "source": [
    "Dans le cas où Overpass ne permet pas de géolocaliser la mairie, on a fait une recherche par mot-clé à partir de l'API Adresse de l'Institut National Géographique (en vérifiant que les localisations trouvées appartiennent à la commune)."
   ]
  },
  {
   "cell_type": "code",
   "execution_count": 13,
   "metadata": {},
   "outputs": [],
   "source": [
    "# # Liste des mots-clés pour localiser les mairies\n",
    "# mots_cles = [\n",
    "#     \"Mairie+de\", \n",
    "#     \"Hotel+de+ville+de\", \n",
    "#     \"Bureau+du+Maire+de\", \n",
    "#     \"Salle+des+Fêtes+de\", \n",
    "#     \"Maison+Communale+de\", \n",
    "#     \"Centre+Administratif+de\", \n",
    "#     \"Hôtel+de+Ville\", \n",
    "#     \"Bâtiment+Municipal+de\", \n",
    "#     \"Mairie+municipale+de\", \n",
    "#     \"Maison+des+Services+de\"\n",
    "# ]\n",
    "\n",
    "# # Compléter les coordonnées manquantes\n",
    "# gdf_communes_cotieres = geolocaliser.geolocaliser_mot_cle(\n",
    "#     gdf_communes_cotieres, \n",
    "#     mots_cles=mots_cles, \n",
    "#     colonne_latitude='latitude_mairie', \n",
    "#     colonne_longitude='longitude_mairie'\n",
    "#     )"
   ]
  },
  {
   "cell_type": "markdown",
   "metadata": {},
   "source": [
    "Et on a procédé de même pour tous les autres lieux importants : plages, port, stations de transport. Les résultats sont ajoutés ici via un fichier préalablement enregistré."
   ]
  },
  {
   "cell_type": "code",
   "execution_count": 14,
   "metadata": {},
   "outputs": [],
   "source": [
    "communes_avec_lieux = pd.read_csv('data/communes_avec_lieux.csv',encoding='utf8',sep=\";\")\n",
    "gdf_communes_cotieres = gdf_communes_cotieres.merge(communes_avec_lieux,how='left',on='nom')"
   ]
  },
  {
   "cell_type": "markdown",
   "metadata": {},
   "source": [
    "Pour les stations et les plages, qui peuvent être nombreux pour une seule commune, on retient des listes exhaustives de coordonnées, puis on les convertit en tuples."
   ]
  },
  {
   "cell_type": "code",
   "execution_count": 15,
   "metadata": {},
   "outputs": [],
   "source": [
    "gdf_communes_cotieres['station'] = gdf_communes_cotieres['station'].apply(process_data.fix_coordinates_format)\n",
    "gdf_communes_cotieres['beach_coordinates'] = gdf_communes_cotieres['beach_coordinates'].apply(process_data.fix_coordinates_format)"
   ]
  },
  {
   "cell_type": "markdown",
   "metadata": {},
   "source": [
    "Si on ne trouve pas de plage, le ports est ajouté à cette liste. En effet, la présence d'un port capte également un effet positif lié à la proximité de l'habitation à la mer."
   ]
  },
  {
   "cell_type": "code",
   "execution_count": 16,
   "metadata": {},
   "outputs": [],
   "source": [
    "gdf_communes_cotieres[\"beach_coordinates\"] = gdf_communes_cotieres.apply(\n",
    "    lambda row: row[\"beach_coordinates\"] + [(row[\"latitude_plage\"], row[\"longitude_plage\"])] if row[\"latitude_plage\"] is not None and row[\"longitude_plage\"] is not None else row[\"beach_coordinates\"],\n",
    "    axis=1\n",
    "    )"
   ]
  },
  {
   "cell_type": "markdown",
   "metadata": {},
   "source": [
    "On supprime les premières coordonnées trouvées sur OverPass (une fois ajoutées à la liste)"
   ]
  },
  {
   "cell_type": "code",
   "execution_count": 17,
   "metadata": {},
   "outputs": [],
   "source": [
    "gdf_communes_cotieres = gdf_communes_cotieres.drop(columns=['latitude_plage','longitude_plage','latitude_gare','longitude_gare','code'])"
   ]
  },
  {
   "cell_type": "markdown",
   "metadata": {},
   "source": [
    "On résume ici la complétude du renseignement de ces informations :\n",
    "- on recense des plages et des stations pour toutes les communes\n",
    "- une mairie est localisée dans 9 communes sur 10\n",
    "- un port est localisé dans 6 communes sur 10"
   ]
  },
  {
   "cell_type": "code",
   "execution_count": null,
   "metadata": {},
   "outputs": [],
   "source": [
    "process_data.calculate_variable_summary(gdf_communes_cotieres)"
   ]
  },
  {
   "cell_type": "markdown",
   "metadata": {},
   "source": [
    "Enregistrement de la base intermédiaire de la partie 1 _*. data/communes_cotieres.csv*_ qui contient :\n",
    "- la liste des communes cotières (nom et numéro)\n",
    "- le département et la région associée\n",
    "- la population recensée\n",
    "- les coordonnées des principaux lieux (mairie, port, plages(s), station(s))"
   ]
  },
  {
   "cell_type": "code",
   "execution_count": 19,
   "metadata": {},
   "outputs": [],
   "source": [
    "gdf_communes_cotieres.to_csv('data/communes_cotieres.csv',encoding=\"utf8\",sep=\";\",index=False)"
   ]
  },
  {
   "cell_type": "markdown",
   "metadata": {},
   "source": [
    "---\n",
    "# 4. Les transactions cotieres\n",
    "[Retour au sommaire](#sommaire)"
   ]
  },
  {
   "cell_type": "markdown",
   "metadata": {},
   "source": [
    "Objectif : créer un fichier des transactions d'habitations dans les communes côtières et les géolcaliser."
   ]
  },
  {
   "cell_type": "markdown",
   "metadata": {},
   "source": [
    "### 4.1. Creer le fichier des transactions cotieres"
   ]
  },
  {
   "cell_type": "markdown",
   "metadata": {},
   "source": [
    "On télécharge, pour 2023, la base Demande de valeurs foncières (DVF) qui référence l'ensemble des mutations à titre onéreux (en majeure partie géolocalisées) : https://files.data.gouv.fr/geo-dvf/latest/csv/2023/full.csv.gz\n",
    "\n",
    "Les informations sont issues de la Base nationale des données patrimoniales, alimentées par le système d'information de la DGFiP et couvrent la France métropolitaine à l'exception des départements du Bas-Rhin, du Haut-Rhin et de Moselle.\n",
    "\n",
    "La base recense des actes (id_mutation), qui comportent une ou plusieurs mutations distinctes, repérées par le numéro de disposition (numero_disposition).\n",
    "\n",
    "Les observations de la base, appelées \"lignes de restitution\", concernent les différents locaux d'une mutation (Appartement, Maison, Dépendance, Local Industriel), ventilées selon autant de natures de culture présentes dans l'immeuble."
   ]
  },
  {
   "cell_type": "code",
   "execution_count": 20,
   "metadata": {},
   "outputs": [],
   "source": [
    "url = \"https://files.data.gouv.fr/geo-dvf/latest/csv/2023/full.csv.gz\"\n",
    "output_csv_path = \"full.csv\"\n",
    "\n",
    "process_data.download_and_extract_csv(url,output_csv_path)\n",
    "df = pd.read_csv(output_csv_path,encoding=\"utf-8\")\n",
    "os.remove(output_csv_path)"
   ]
  },
  {
   "cell_type": "markdown",
   "metadata": {},
   "source": [
    "On allège le fichier des transactions."
   ]
  },
  {
   "cell_type": "code",
   "execution_count": 21,
   "metadata": {},
   "outputs": [],
   "source": [
    "df.drop(columns=process_data.colonnes_a_supprimer_dans_dvf, inplace=True)"
   ]
  },
  {
   "cell_type": "markdown",
   "metadata": {},
   "source": [
    "Les données présentes dans le fichier sont les suivantes :\n",
    "- *Identifiant de mutation / Numéro de disposition* : Chaque couple est un identifiant unique d'un acte de vente\n",
    "- *Nature de la mutation* : Il s'agit du type de vente qui a eu lieu. Il peut s'agir d'une vente classique, d'une vente en l’état futur d’achèvement, d'une vente de terrain à bâtir, d'une adjudication, ou d'une expropriation ou échange.\n",
    "- *Valeur foncière* : Montant de la vente. Il est TTC et n'inclut pas les frais de notaire et les éventuels frais d'agence.\n",
    "- *Adresse* : L'adresse exacte du bien est communiquée via plusieurs colonnes comme le numéro de voie, le code postal etc.\n",
    "- *Latitude/Longitude* : Remplies de manière presque exhaustive.\n",
    "- *Informations cadastrales* : Des informations cadastrales sont fournies telles que l'identifiant de parcelle.\n",
    "- *Nombre de lots* (restitués jusqu'à 5)\n",
    "- *Type de local*: Il peut s'agir d'une maison, d'un appartement, d'une dépendance (isolée), ou d'un local industriel et commercial ou assimilés.\n",
    "- *Surface réelle bâti*, mesurée au sol entre les murs, différente de la surface Carrez.\n",
    "- *Nombre de pièces principales* du bien immobilier\n",
    "- *Nature culture* : Pour les terrains une nature de culture est renseignée afin de connaître son utilisation. Les types de terrains qui nous intéressent sont les sols.\n",
    "- *Surface Terrain*: Surface cadastrale du terrain."
   ]
  },
  {
   "cell_type": "markdown",
   "metadata": {},
   "source": [
    "On reprend le fichier des communes cotières et on ne retient dans DVF que les transactions liées à ces communes"
   ]
  },
  {
   "cell_type": "code",
   "execution_count": 22,
   "metadata": {},
   "outputs": [],
   "source": [
    "df_cotieres = pd.read_csv('data/communes_cotieres.csv',sep=\";\")\n",
    "df_cotieres = df_cotieres.rename(columns={'latitude': 'latitude_centre', 'longitude': 'longitude_centre'})\n",
    "liste_cotieres = sorted(df_cotieres['nom'].unique().tolist())"
   ]
  },
  {
   "cell_type": "markdown",
   "metadata": {},
   "source": [
    "1er filtre : On restreint DVF aux seules communes côtières."
   ]
  },
  {
   "cell_type": "code",
   "execution_count": null,
   "metadata": {},
   "outputs": [],
   "source": [
    "pourcentage_supprime = 100 - (len(df[df['nom_commune'].isin(liste_cotieres)]) / len(df) * 100)\n",
    "print(f\"{pourcentage_supprime:.2f}% des lignes sont supprimées après le filtre des communes littorales.\")\n",
    "df = df[df['nom_commune'].isin(liste_cotieres)]"
   ]
  },
  {
   "cell_type": "markdown",
   "metadata": {},
   "source": [
    "2ème filtre : on ne retient que les ventes."
   ]
  },
  {
   "cell_type": "code",
   "execution_count": null,
   "metadata": {},
   "outputs": [],
   "source": [
    "pourcentage_supprime = 100 - (len(df[df['nature_mutation'] == 'Vente']) / len(df) * 100)\n",
    "print(f\"{pourcentage_supprime:.2f}% des lignes sont supprimées après le filtre sur 'Vente'.\")\n",
    "df = df[df['nature_mutation'] == 'Vente']\n",
    "df = df.drop(columns=['nature_mutation'])"
   ]
  },
  {
   "cell_type": "markdown",
   "metadata": {},
   "source": [
    "3ème filtre : On ne retient que les mutations dont la valeur foncière est renseignée"
   ]
  },
  {
   "cell_type": "code",
   "execution_count": null,
   "metadata": {},
   "outputs": [],
   "source": [
    "pourcentage_supprime = 100 - (len(df[df['valeur_fonciere'] > 0]) / len(df) * 100)\n",
    "print(f\"{pourcentage_supprime:.2f}% des lignes sont supprimées après le filtre sur les montants.\")\n",
    "df = df[df['valeur_fonciere'] > 0]"
   ]
  },
  {
   "cell_type": "markdown",
   "metadata": {},
   "source": [
    "### 4.2. Identifier une ligne par transaction"
   ]
  },
  {
   "cell_type": "markdown",
   "metadata": {},
   "source": [
    "Cas le plus typique : un seul local dans une seule mutation"
   ]
  },
  {
   "cell_type": "code",
   "execution_count": null,
   "metadata": {},
   "outputs": [],
   "source": [
    "process_data.afficher_tableau_par_id_mutation(df, '2023-457573')"
   ]
  },
  {
   "cell_type": "markdown",
   "metadata": {},
   "source": [
    "Cas n°2 : Plusieurs locaux dans une mutation. Dans ce cas, il faut identifier si la mutation concerne une maison, un appartement, ou autre chose."
   ]
  },
  {
   "cell_type": "code",
   "execution_count": null,
   "metadata": {},
   "outputs": [],
   "source": [
    "process_data.afficher_tableau_par_id_mutation(df, '2023-457574')"
   ]
  },
  {
   "cell_type": "markdown",
   "metadata": {},
   "source": [
    "Cas n°3 : Quand une disposition comporte plusieurs locaux et plusieurs natures de culture, le fichier de restitution comporte autant de lignes qu’il y a de locaux ou de nature de culture concernés par la mutation.\n",
    "Ainsi, pour une même publication, il peut y avoir 1 à n ligne(s) de restitution. Les données génériques (ainsi que le prix) sont alors répétées sur chaque ligne.\n",
    "On retire d abord les nature_culture autre que \"sols\" puis on repère le type de local principal"
   ]
  },
  {
   "cell_type": "code",
   "execution_count": null,
   "metadata": {},
   "outputs": [],
   "source": [
    "process_data.afficher_tableau_par_id_mutation(df, '2023-457957')"
   ]
  },
  {
   "cell_type": "markdown",
   "metadata": {},
   "source": [
    "On ne retient que les surfaces d'habitation, donc celles avec nature_culture vide ou égale à sols."
   ]
  },
  {
   "cell_type": "code",
   "execution_count": 29,
   "metadata": {},
   "outputs": [],
   "source": [
    "df = df[df['nature_culture'].isna() | (df['nature_culture'] == 'sols')]"
   ]
  },
  {
   "cell_type": "markdown",
   "metadata": {},
   "source": [
    "On agrège DVF pour retenir une seule transaction par ligne"
   ]
  },
  {
   "cell_type": "code",
   "execution_count": 30,
   "metadata": {},
   "outputs": [],
   "source": [
    "df = df.groupby(['id_mutation', 'numero_disposition']).apply(process_data.process_group).reset_index(drop=True)"
   ]
  },
  {
   "cell_type": "markdown",
   "metadata": {},
   "source": [
    "Puis on ne retient que les appartements et les maisons, dont le montant est renseigné"
   ]
  },
  {
   "cell_type": "code",
   "execution_count": 31,
   "metadata": {},
   "outputs": [],
   "source": [
    "df = df[(df['appart_present'] == True) | (df['maison_present'] == True)]\n",
    "df = df[df['surface_reelle_bati'] > 0]\n",
    "\n",
    "# On  assigne \"Appartement\" ou \"Maison\" à la colonne type_local\n",
    "df['type_local'] = df.apply(lambda row: 'Maison' if row['maison_present'] else 'Appartement', axis=1).drop(columns=['appart_present', 'maison_present'])"
   ]
  },
  {
   "cell_type": "markdown",
   "metadata": {},
   "source": [
    "Il reste des doublons. La plupart concernent les exactes mêmes transactions (mais ont des numéros de disposition différentes). Seules quelques unes concernent des dispositions à des adresses différentes. Comme on ne peut pas différencier les prix, on les supprime"
   ]
  },
  {
   "cell_type": "code",
   "execution_count": null,
   "metadata": {},
   "outputs": [],
   "source": [
    "df = df[~df.duplicated(subset=['id_mutation'], keep='first')]\n",
    "print(f\"Nombre total de transactions côtières retenues en 2023 : {len(df)}\")"
   ]
  },
  {
   "cell_type": "markdown",
   "metadata": {},
   "source": [
    "Les maisons représentent près de 60% des transactions cotières, les appartements 40%."
   ]
  },
  {
   "cell_type": "code",
   "execution_count": null,
   "metadata": {},
   "outputs": [],
   "source": [
    "display(process_data.compute_percentage(df, 'type_local'))"
   ]
  },
  {
   "cell_type": "code",
   "execution_count": null,
   "metadata": {},
   "outputs": [],
   "source": [
    "display(process_data.compute_percentage(df, 'nombre_pieces_principales').iloc[0:7])"
   ]
  },
  {
   "cell_type": "markdown",
   "metadata": {},
   "source": [
    "On calcule le prix au mètre carré (par rapport aux seules surfaces habitables et réelles, pas la Carrez, hors surface des terrains)"
   ]
  },
  {
   "cell_type": "code",
   "execution_count": 35,
   "metadata": {},
   "outputs": [],
   "source": [
    "df['prix_m2'] = df['valeur_fonciere'] / df['surface_reelle_bati']"
   ]
  },
  {
   "cell_type": "markdown",
   "metadata": {},
   "source": [
    "La densité des prix fait apparaître une queue lourde, ce qui est cohérent avec des prix souvent asymétriques avec une forte queue à droite : l'échantillon semble pertinent."
   ]
  },
  {
   "cell_type": "code",
   "execution_count": null,
   "metadata": {},
   "outputs": [],
   "source": [
    "process_data.plot_density(df[df['type_local']=='Appartement'], 'prix_m2', xlim=(0, 10000), type = 'Appartements')"
   ]
  },
  {
   "cell_type": "code",
   "execution_count": null,
   "metadata": {},
   "outputs": [],
   "source": [
    "process_data.plot_density(df[df['type_local']=='Maison'], 'prix_m2', xlim=(0, 10000), type = 'Maisons')"
   ]
  },
  {
   "cell_type": "markdown",
   "metadata": {},
   "source": [
    "### 4.4. Géolocalisation des transactions"
   ]
  },
  {
   "cell_type": "markdown",
   "metadata": {},
   "source": [
    "Toutes les couples latitude/longitude ne sont pas renseignés, nous allons compléter en recomposant les adresses des habitations."
   ]
  },
  {
   "cell_type": "code",
   "execution_count": 38,
   "metadata": {},
   "outputs": [],
   "source": [
    "df = process_data.nettoyer_colonnes(df, ['adresse_numero', 'code_postal'])\n",
    "\n",
    "# Convertir la colonne 'code_commune' en type string et la mettre sur 5 chiffres\n",
    "df['code_commune'] = df['code_commune'].astype('string')\n",
    "df['code_commune'] = [x.zfill(5) if len(x) == 4 else x for x in df['code_commune']]"
   ]
  },
  {
   "cell_type": "markdown",
   "metadata": {},
   "source": [
    "On identifie les abbréviations (ex: \"AV\") à des types de voie (\"Avenue\")."
   ]
  },
  {
   "cell_type": "code",
   "execution_count": 39,
   "metadata": {},
   "outputs": [],
   "source": [
    "voie = pd.read_csv(\"data/voie.csv\",sep=\";\",encoding=\"utf-8\")\n",
    "abbreviations = voie['abreviation'].tolist()\n",
    "result = [process_data.check_abbreviation(adresse,abbreviations) for adresse in df['adresse_nom_voie']]\n",
    "\n",
    "df['type_voie'] = [x[0] for x in result]\n",
    "df['nom_voie'] = [x[1] for x in result]\n",
    "df = df.merge(voie,left_on=['type_voie'],right_on=['abreviation'])"
   ]
  },
  {
   "cell_type": "markdown",
   "metadata": {},
   "source": [
    "On recompose les adresses complètes pour les géolocaliser dans l'API Adresse"
   ]
  },
  {
   "cell_type": "code",
   "execution_count": null,
   "metadata": {},
   "outputs": [],
   "source": [
    "df['Adresse'] = df['adresse_numero'] + '+' + df['type_voie_complet'] + '+' + df['nom_voie'] + '+' + df['code_postal'] + '+' + df['nom_commune']\n",
    "display(df['Adresse'].head())"
   ]
  },
  {
   "cell_type": "code",
   "execution_count": 41,
   "metadata": {},
   "outputs": [],
   "source": [
    "df_cotieres = df_cotieres.drop_duplicates(subset=['nom'],keep='first')"
   ]
  },
  {
   "cell_type": "markdown",
   "metadata": {},
   "source": [
    "On renseigne les données spatiales pour chaque transaction"
   ]
  },
  {
   "cell_type": "code",
   "execution_count": 42,
   "metadata": {},
   "outputs": [],
   "source": [
    "df = pd.merge(df, df_cotieres, how='left', left_on='nom_commune', right_on='nom')\n",
    "commune = pd.read_csv('data/communes_code.csv', sep=';',encoding=\"utf-8\")\n",
    "df = df.merge(commune, left_on=[\"code_commune\"], right_on=['code'], how='left').sort_values(by='code_commune', ascending=True)"
   ]
  },
  {
   "cell_type": "markdown",
   "metadata": {},
   "source": [
    "On souhaite compléter le maximum des transactions qui n'ont pas été géolocalisées précisément dans leur commune."
   ]
  },
  {
   "cell_type": "code",
   "execution_count": null,
   "metadata": {},
   "outputs": [],
   "source": [
    "# Calcul du pourcentage de transactions non géolocalisées\n",
    "total_transactions_renseignees = df.shape[0]\n",
    "non_geolocalisees = df[df['latitude'].isna() | df['longitude'].isna()].shape[0]\n",
    "pourcentage_non_geolocalisees = (non_geolocalisees / total_transactions_renseignees) * 100\n",
    "\n",
    "print(f\"Sur les {total_transactions_renseignees} transactions renseignées, {pourcentage_non_geolocalisees:.2f}% ne sont pas géolocalisées.\")"
   ]
  },
  {
   "cell_type": "code",
   "execution_count": 44,
   "metadata": {},
   "outputs": [],
   "source": [
    "df_missing = df[df['latitude'].isna()].drop(columns=['latitude', 'longitude'])"
   ]
  },
  {
   "cell_type": "markdown",
   "metadata": {},
   "source": [
    "On complète les coordonnées des ventes manquantes avec l'API Adresse de l'Institut Géographique National"
   ]
  },
  {
   "cell_type": "code",
   "execution_count": 45,
   "metadata": {},
   "outputs": [],
   "source": [
    "df_missing = geolocaliser.geolocaliser_actifs(df_missing, 'Adresse', 'latitude', 'longitude')"
   ]
  },
  {
   "cell_type": "markdown",
   "metadata": {},
   "source": [
    "On ajoute les nouvelles coordonnées et on supprime les dernières transactions non localisées"
   ]
  },
  {
   "cell_type": "code",
   "execution_count": 46,
   "metadata": {},
   "outputs": [],
   "source": [
    "df_missing = df_missing.dropna(subset=['latitude'])\n",
    "df_final = pd.concat([df, df_missing], ignore_index=True).drop(columns=['communeName','code'])\n",
    "df_final['code_departement'] = df_final['code_departement'].astype(str)"
   ]
  },
  {
   "cell_type": "markdown",
   "metadata": {},
   "source": [
    "2ème base intermédiaire : Enregistre la base des transactions côtières gélocalisées"
   ]
  },
  {
   "cell_type": "code",
   "execution_count": 47,
   "metadata": {},
   "outputs": [],
   "source": [
    "df_final.to_parquet(\"data/base.parquet\", index=False,engine='pyarrow')"
   ]
  },
  {
   "cell_type": "markdown",
   "metadata": {},
   "source": [
    "---\n",
    "# 5. Les zones inondables\n",
    "[Retour au sommaire](#sommaire)"
   ]
  },
  {
   "cell_type": "markdown",
   "metadata": {},
   "source": [
    "Objectif : renseigner pour chaque transaction la présence ou non en zone inondable"
   ]
  },
  {
   "cell_type": "markdown",
   "metadata": {},
   "source": [
    "### 5.1. Georisques"
   ]
  },
  {
   "cell_type": "markdown",
   "metadata": {},
   "source": [
    "Charge les transactions côtières (2ème base intermédiaire précédente)"
   ]
  },
  {
   "cell_type": "code",
   "execution_count": 48,
   "metadata": {},
   "outputs": [],
   "source": [
    "transactions = pd.read_parquet(\"data/base.parquet\", engine=\"pyarrow\")"
   ]
  },
  {
   "cell_type": "markdown",
   "metadata": {},
   "source": [
    "On utilise l'API Géorisques (https://georisques.gouv.fr/api/v1/tri_zonage).\n",
    "Les requêtes étant assez longues, on utilise une méthode de parallélisation (threads simultanés) pour requêter simultanément jusqu'à 5 transactions.\n",
    "\n",
    "On récupère :\n",
    "- la présence ou non dans une zone inondable (results)\n",
    "- si présence, la zone géographique TRI (Territoire à Risque Important d'Inondation) à laquelle la coordonnée est associée \n",
    "- si présence, le code scénario associé. Il existe 4 scénarios distincts (associée à une période de retour (PR), durée moyenne après laquelle un évènement d'une même intensité est amené à se reproduire) :\n",
    "    - l'aléa de forte probabilité (01For) dénommé \"évènement fréquent\" avec une PR de 10 à 30 ans\n",
    "    - l'aléa de moyenne probabilité (02Moy) dénommé \"évènement moyen\", avec une PR de 100 à 300 ans\n",
    "    - l'aléa de moyenne probabilité avec changement climatique (03Mcc) dénommé \"évènement moyen avec changement climatique\" (qui est une majoration d'un évènement moyen)\n",
    "    - l'aléa de faible probabilité (03Fai), dénommé \"évènement extrême\" avec une PR d'au moins 1000 ans\n",
    "\n",
    "- si présence, l'aléa d'inondation associé : submersion marine, débordement des cours d'eau, débordement des eaux souterraines et ruissellement"
   ]
  },
  {
   "cell_type": "code",
   "execution_count": 49,
   "metadata": {},
   "outputs": [],
   "source": [
    "# # Préparer les données nécessaires (coordonnées)\n",
    "# coordinates = list(zip(transactions['latitude'], transactions['longitude']))\n",
    "\n",
    "# # Requêtes simultanées\n",
    "# with ThreadPoolExecutor(max_workers=8) as executor:  # Limite de 8 threads\n",
    "#     results = list(executor.map(request_tri.check_inondable_parallel, coordinates))\n",
    "\n",
    "# # Fusionner les résultats avec les données originales\n",
    "# results_df = pd.DataFrame(results, columns=['results', 'identifiant_tri', 'libelle_type_inondation', 'code_scenario'])\n",
    "# transactions = pd.concat([transactions.reset_index(drop=True), results_df.reset_index(drop=True)], axis=1)"
   ]
  },
  {
   "cell_type": "markdown",
   "metadata": {},
   "source": [
    "Problème : les requêtes de géorisques sont très aléatoires, l'API est parfois surchargée et ne renvoie pas toujours les mêmes réponses. On fait appel à une base intermédiaire enregistrée en parquet."
   ]
  },
  {
   "cell_type": "code",
   "execution_count": 50,
   "metadata": {},
   "outputs": [],
   "source": [
    "georisques = pd.read_parquet('data/georisques.parquet', engine='pyarrow')\n",
    "transactions = transactions.merge(georisques, on='id_mutation', how='left')"
   ]
  },
  {
   "cell_type": "code",
   "execution_count": null,
   "metadata": {},
   "outputs": [],
   "source": [
    "display(process_data.compute_percentage(transactions,'code_scenario'))"
   ]
  },
  {
   "cell_type": "markdown",
   "metadata": {},
   "source": [
    "3ème base intermédiaire : les transactions renseignées sur leur présence en zone inondable"
   ]
  },
  {
   "cell_type": "code",
   "execution_count": 52,
   "metadata": {},
   "outputs": [],
   "source": [
    "transactions.to_parquet(\"data/transactions_with_zone_inondable.parquet\", index=False, engine=\"pyarrow\")"
   ]
  },
  {
   "cell_type": "markdown",
   "metadata": {},
   "source": [
    "### 5.2. Moyennes des prix en zone inondable"
   ]
  },
  {
   "cell_type": "markdown",
   "metadata": {},
   "source": [
    "On retient les communes qui comptent au moins 10 transactions dont 5 en zones inondables"
   ]
  },
  {
   "cell_type": "code",
   "execution_count": 53,
   "metadata": {},
   "outputs": [],
   "source": [
    "transactions = pd.read_parquet(\"data/transactions_with_zone_inondable.parquet\", engine=\"pyarrow\")"
   ]
  },
  {
   "cell_type": "code",
   "execution_count": 54,
   "metadata": {},
   "outputs": [],
   "source": [
    "filtered_transactions = transactions.groupby(['nom_commune']).filter(\n",
    "    lambda group: len(group) >= 10 and group['zone_inondable'].sum() > 1\n",
    ")"
   ]
  },
  {
   "cell_type": "markdown",
   "metadata": {},
   "source": [
    "On compare les prix moyens en zone inondable. Pour les appartements, les écarts sont à première vue importants mais ne vont pas dans le même sens selon les communes"
   ]
  },
  {
   "cell_type": "code",
   "execution_count": null,
   "metadata": {},
   "outputs": [],
   "source": [
    "appart_table = process_data.produce_stats(filtered_transactions[filtered_transactions['type_local']=='Appartement'], 'data/moyenne_appartements.csv')\n",
    "display(appart_table)"
   ]
  },
  {
   "cell_type": "markdown",
   "metadata": {},
   "source": [
    "Pour les maisons, on fait un constat similaire. Il n'y a, à première vue, pas de différence marquée, au global entre le prix des maisons en zone inondable et celles en zone non-inondables"
   ]
  },
  {
   "cell_type": "code",
   "execution_count": null,
   "metadata": {},
   "outputs": [],
   "source": [
    "maison_table = process_data.produce_stats(filtered_transactions[filtered_transactions['type_local']=='Maison'], 'data/moyenne_maisons.csv')\n",
    "display(maison_table.style.hide(axis=\"index\").set_caption(f\"Top 10 des communes les plus peuplées - Maisons\")) "
   ]
  },
  {
   "cell_type": "markdown",
   "metadata": {},
   "source": [
    "On observe que la valorisation moyenne des maisons et des appartements est, pour une même commune, très différente, ce qui nous pousse à différencier 2 modèles par la suite. D'autre part, il n'existe pas de sens univoque entre prix en zone inondable et zone non inondable : moins élevé en zone inondable pour Nice (-11%), Bordeaux (-21%), Toulon (-19%) et plus élevé pour Nantes (+6%), Caen (+12%) ou Cherbourg (+7%). On doit donc intégrer des variables manquantes pour compléter l'analyse et faire un modèle plus exhaustif."
   ]
  },
  {
   "cell_type": "code",
   "execution_count": null,
   "metadata": {},
   "outputs": [],
   "source": [
    "process_data.plot_ecart_prix(appart_table,\"Appartement\")"
   ]
  },
  {
   "cell_type": "markdown",
   "metadata": {},
   "source": [
    "Le constat d'hétérogénéité est similaire pour les maisons, même si l'ordre des prix est parfois modifié."
   ]
  },
  {
   "cell_type": "code",
   "execution_count": null,
   "metadata": {},
   "outputs": [],
   "source": [
    "process_data.plot_ecart_prix(maison_table,\"Maison\")"
   ]
  },
  {
   "cell_type": "markdown",
   "metadata": {},
   "source": [
    "# 6. Les cartes\n",
    "[Retour au sommaire](#sommaire)"
   ]
  },
  {
   "cell_type": "markdown",
   "metadata": {},
   "source": [
    "Objectif : Mettre en évidence un gradient spatial décroissant dans les zones inondables"
   ]
  },
  {
   "cell_type": "markdown",
   "metadata": {},
   "source": [
    " ### 6.1. Associer les transactions aux TRI"
   ]
  },
  {
   "cell_type": "markdown",
   "metadata": {},
   "source": [
    "En préalable, on a récupéré les fichiers shp des Territoires à Risques importants d'Inondation (TRI).Celles-ci sont trop volumineuses pour être importées directement dans le programme.\n",
    "\n",
    "Les zones inondables sont localisées en système Lambert-93 (coordonnées planes, EPSG 2154). On les convertit dans le système GPS longitude/latitude (WGS 84, EPSG 4326)"
   ]
  },
  {
   "cell_type": "markdown",
   "metadata": {},
   "source": [
    "On repart de la base des transactions côtières (3ème base intermédiaire)"
   ]
  },
  {
   "cell_type": "code",
   "execution_count": 59,
   "metadata": {},
   "outputs": [],
   "source": [
    "base = pd.read_parquet('data/transactions_with_zone_inondable.parquet',engine='pyarrow')"
   ]
  },
  {
   "cell_type": "markdown",
   "metadata": {},
   "source": [
    "Certaines villes sont dans une commune côtières mais ne sont pas directement localisées au bord de mer.\n",
    "Pour éviter ce biais, nous ne retenons que les communes qui ont recensé des transactions dans des zones soumises au risque de submersion marine et où une des zones TRI est présenet."
   ]
  },
  {
   "cell_type": "code",
   "execution_count": 60,
   "metadata": {},
   "outputs": [],
   "source": [
    "communes_submersion = base.loc[base['libelle_type_inondation'] == \"submersion marine\", 'nom_commune'].unique()\n",
    "\n",
    "base = base[\n",
    "    base['nom_commune'].isin(communes_submersion) & \n",
    "    base.groupby('nom_commune')['identifiant_tri'].transform('any')\n",
    "]"
   ]
  },
  {
   "cell_type": "markdown",
   "metadata": {},
   "source": [
    "On présente cette fois le nombre de transactions par zone TRI. Celle-ci peut parfois couvrir plusieurs communes (et plusieurs communes peuvent également être affectées par plusieurs zones)"
   ]
  },
  {
   "cell_type": "code",
   "execution_count": null,
   "metadata": {},
   "outputs": [],
   "source": [
    "tri_by_commune = process_data.analyze_top_communes(base)\n",
    "display(tri_by_commune)"
   ]
  },
  {
   "cell_type": "code",
   "execution_count": 62,
   "metadata": {},
   "outputs": [],
   "source": [
    "communes_coordinates = pd.read_csv('data/communes_cotieres.csv', sep=\";\", encoding=\"utf8\").sort_values(by='Population', ascending=False).rename(columns={'nom': 'nom_commune'})"
   ]
  },
  {
   "cell_type": "markdown",
   "metadata": {},
   "source": [
    "### 6.2. Visualisation"
   ]
  },
  {
   "cell_type": "markdown",
   "metadata": {},
   "source": [
    "On importe et on fusionne les fichiers des zones inondables des départements côtiers en un seul shapefile"
   ]
  },
  {
   "cell_type": "code",
   "execution_count": null,
   "metadata": {},
   "outputs": [],
   "source": [
    "get_data_zones_inondables.get_zones_inondables()\n",
    "get_data_zones_inondables.fusion_fichiers_inondations()"
   ]
  },
  {
   "cell_type": "markdown",
   "metadata": {},
   "source": [
    "Les heatmap ont été enregistrées dans le dossier /maps"
   ]
  },
  {
   "cell_type": "code",
   "execution_count": 64,
   "metadata": {},
   "outputs": [],
   "source": [
    "gdf = gpd.read_file('data/zones_inondables/zones_inondables.shp').to_crs(4326).drop(columns=['id','dept'])"
   ]
  },
  {
   "cell_type": "markdown",
   "metadata": {},
   "source": [
    "On regarde par exemple la zone inondable \"Forte\" associée au TRI de Nice dans les Alpes-Maritimes (06)."
   ]
  },
  {
   "cell_type": "code",
   "execution_count": null,
   "metadata": {},
   "outputs": [],
   "source": [
    "get_data_zones_inondables.edition_carte_zones_inondables()"
   ]
  },
  {
   "cell_type": "markdown",
   "metadata": {},
   "source": [
    "Pour la localisation des sites (plages, stations), on convertit les chaînes de coordonnées en listes de tuples."
   ]
  },
  {
   "cell_type": "code",
   "execution_count": 66,
   "metadata": {},
   "outputs": [],
   "source": [
    "communes_coordinates['beach_coordinates'] = communes_coordinates['beach_coordinates'].apply(mapping.force_convert_to_tuple_list)\n",
    "communes_coordinates['station'] = communes_coordinates['station'].apply(mapping.force_convert_to_tuple_list)"
   ]
  },
  {
   "cell_type": "markdown",
   "metadata": {},
   "source": [
    "Lorsque la zone inondable est plus large, le gradient de prix est perturbé, mais s'éloigne de la zone.\n",
    "\n",
    "1er exemple : à Ouistreham, la zone inondable (lié au débordement du fleuve) coupe la ville en 2. Le gradient négatif vers cette zone puis positif au delà."
   ]
  },
  {
   "cell_type": "code",
   "execution_count": null,
   "metadata": {},
   "outputs": [],
   "source": [
    "mapping.display_map_in_notebook('Ouistreham', base, communes_coordinates, gdf, zoom=14,latitude_add=0.0,longitude_add=0.00)"
   ]
  },
  {
   "cell_type": "markdown",
   "metadata": {},
   "source": [
    "2ème exemple à Andernos, les gradients sont très forts auprès des différentes plages, mais deviennent négatifs sur le reste du littoral, qui est inondable."
   ]
  },
  {
   "cell_type": "code",
   "execution_count": null,
   "metadata": {},
   "outputs": [],
   "source": [
    "mapping.display_map_in_notebook('Andernos-les-Bains', base, communes_coordinates, gdf, zoom=14,latitude_add=-0.02,longitude_add=-0.01)"
   ]
  },
  {
   "cell_type": "markdown",
   "metadata": {},
   "source": [
    "3ème et dernier exemple à Cannes, le gradient est très fort vers la plage de la Darse (à côté du port), mais devient négatif aussitôt qu'on s'en éloigne ou qu'on se rapproche des zones inondables (le long des côtes)."
   ]
  },
  {
   "cell_type": "code",
   "execution_count": null,
   "metadata": {},
   "outputs": [],
   "source": [
    "mapping.display_map_in_notebook('Cannes', base, communes_coordinates, gdf, zoom=14, latitude_add=-0.005, longitude_add=0.0)"
   ]
  },
  {
   "cell_type": "markdown",
   "metadata": {},
   "source": [
    "# 7. Les caracteristiques des logements"
   ]
  },
  {
   "cell_type": "markdown",
   "metadata": {},
   "source": [
    "On utilise les bases de données cadastrales de la Base nationale du bâtiment (BDNB), diffusées en open data sous licence v2.0 d'Etalab : https://www.data.gouv.fr/fr/datasets/base-de-donnees-nationale-des-batiments\n",
    "\n",
    "Les fichiers étant particulièrement lourds, nous présentons le fichier parcelle.csv issu d'une jointure préalable entre le fichier de DPE, et des tables de relation entre groupes de bâtiment et parcelle (via l'identifiant de groupe)\n",
    "\n",
    "Cette jointure nous permet, à partir de l'identifiant des parcelles de DVF, de déterminer l'année de construction et le DPE représentatif d'une grande partie des logements."
   ]
  },
  {
   "cell_type": "code",
   "execution_count": 70,
   "metadata": {},
   "outputs": [],
   "source": [
    "df = pd.read_parquet(\"data/transactions_with_zone_inondable.parquet\", engine=\"pyarrow\")"
   ]
  },
  {
   "cell_type": "code",
   "execution_count": 71,
   "metadata": {},
   "outputs": [],
   "source": [
    "parcelle = pd.read_parquet(\"data/parcelle_dpe.parquet\", engine=\"pyarrow\")"
   ]
  },
  {
   "cell_type": "code",
   "execution_count": null,
   "metadata": {},
   "outputs": [],
   "source": [
    "display(parcelle.head())"
   ]
  },
  {
   "cell_type": "code",
   "execution_count": 73,
   "metadata": {},
   "outputs": [],
   "source": [
    "# Effectuer le merge\n",
    "df2 = pd.merge(df, parcelle, how='left', left_on='id_parcelle', right_on='parcelle_id')"
   ]
  },
  {
   "cell_type": "markdown",
   "metadata": {},
   "source": [
    "Toutes les données ne sont pas renseignées : les parcelles sont exhaustives dans la BNDB, mais pas les caractéristiques des bâtiments (25% des années, 42% des DPE non renseignés). Cela va réduire la taille de l'échantillon d'apprentissage."
   ]
  },
  {
   "cell_type": "code",
   "execution_count": null,
   "metadata": {},
   "outputs": [],
   "source": [
    "display(process_data.compute_percentage(df2, 'periode_construction_dpe'))"
   ]
  },
  {
   "cell_type": "code",
   "execution_count": null,
   "metadata": {},
   "outputs": [],
   "source": [
    "display(process_data.compute_percentage(df2, 'classe_bilan_dpe'))"
   ]
  },
  {
   "cell_type": "markdown",
   "metadata": {},
   "source": [
    "On supprime les transactions pour lesquelles ces informations ne sont pas renseignées."
   ]
  },
  {
   "cell_type": "code",
   "execution_count": 76,
   "metadata": {},
   "outputs": [],
   "source": [
    "df2['periode_construction_dpe'] = df2['periode_construction_dpe'].replace(['NaN', 'none', ''], np.nan)\n",
    "df2['classe_bilan_dpe'] = df2['classe_bilan_dpe'].replace(['NaN', 'none', ''], np.nan)\n",
    "df2 = df2.dropna(subset=['periode_construction_dpe'])\n",
    "df2 = df2.dropna(subset=['classe_bilan_dpe'])"
   ]
  },
  {
   "cell_type": "markdown",
   "metadata": {},
   "source": [
    "4ème base intermédiaire : le fichier des transactions avec zone inondable, DPE et période de construction"
   ]
  },
  {
   "cell_type": "code",
   "execution_count": 77,
   "metadata": {},
   "outputs": [],
   "source": [
    "df2.to_parquet('data/transactions_with_inondable_et_dpe.parquet',index=False,engine='pyarrow')"
   ]
  },
  {
   "cell_type": "markdown",
   "metadata": {},
   "source": [
    "---\n",
    "# 8. Le modele econometrique\n",
    "[Retour au sommaire](#sommaire)"
   ]
  },
  {
   "cell_type": "markdown",
   "metadata": {},
   "source": [
    "Objectif : prouver et quantifier l'impact négatif du risque d'inondation sur la valorisation immobilière."
   ]
  },
  {
   "cell_type": "markdown",
   "metadata": {},
   "source": [
    "### 8.1. Statistiques descriptives"
   ]
  },
  {
   "cell_type": "markdown",
   "metadata": {},
   "source": [
    "On repart de la base des transactions en zone inondable et avec caractéristiques hédoniques (4ème base intermédiaire)"
   ]
  },
  {
   "cell_type": "code",
   "execution_count": 78,
   "metadata": {},
   "outputs": [],
   "source": [
    "transactions = pd.read_parquet(\"data/transactions_with_inondable_et_dpe.parquet\", engine='pyarrow')"
   ]
  },
  {
   "cell_type": "markdown",
   "metadata": {},
   "source": [
    "On crée les variables indicatrices de terrain et de dépendance."
   ]
  },
  {
   "cell_type": "code",
   "execution_count": 79,
   "metadata": {},
   "outputs": [],
   "source": [
    "transactions['terrain'] = (transactions['surface_terrain'] > 0).astype(int)\n",
    "transactions['dependance'] = transactions['dependance'].fillna(False).astype(int)"
   ]
  },
  {
   "cell_type": "markdown",
   "metadata": {},
   "source": [
    "On ajoute le port dans la liste des plages, dans le cas où les requêtes n'ont pas identifié pas de plage dans la commune."
   ]
  },
  {
   "cell_type": "code",
   "execution_count": 80,
   "metadata": {},
   "outputs": [],
   "source": [
    "transactions['beach_coordinates'] = transactions.apply(\n",
    "    lambda row: (row['latitude_port'], row['longitude_port']) \n",
    "    if pd.isna(row['beach_coordinates']) else row['beach_coordinates'], \n",
    "    axis=1\n",
    ")"
   ]
  },
  {
   "cell_type": "markdown",
   "metadata": {},
   "source": [
    "Nous ne gardons que les communes ayant au moins une transaction exposée à la submersion marine. En effet, c'est un bon indicateur pour exclure les communes qui ne sont pas directement situées au bord de mer, ou celles qui ne sont pas situées dans un TRI"
   ]
  },
  {
   "cell_type": "code",
   "execution_count": 81,
   "metadata": {},
   "outputs": [],
   "source": [
    "communes_submersion = transactions.loc[transactions['libelle_type_inondation'] == \"submersion marine\", 'nom_commune'].unique()\n",
    "df = transactions[transactions['nom_commune'].isin(communes_submersion)]"
   ]
  },
  {
   "cell_type": "markdown",
   "metadata": {},
   "source": [
    "Cela exclut de faire certaines grandes communes comme Nantes, Perpignan ou Rouen. Si Brest est au bord de la mer, la ville n'est pas associée à un TRI et est donc exclue de l'échantillon."
   ]
  },
  {
   "cell_type": "code",
   "execution_count": null,
   "metadata": {},
   "outputs": [],
   "source": [
    "communes_non_submersion = transactions[~transactions['nom_commune'].isin(communes_submersion)][['nom_commune', 'Population']].drop_duplicates(subset='nom_commune').sort_values(by='Population', ascending=False).reset_index(drop=True)\n",
    "display(communes_non_submersion.head())"
   ]
  },
  {
   "cell_type": "markdown",
   "metadata": {},
   "source": [
    "On présente les principales statistiques descriptives de notre échantillon d'apprentissage. Il est composé à 2/3 d'appartements et compte près de 10% de transactions en zone inondable, dont près d'une sur deux est due au risque de submersion marine."
   ]
  },
  {
   "cell_type": "code",
   "execution_count": null,
   "metadata": {},
   "outputs": [],
   "source": [
    "stats = modeling.get_transactions_info(df)\n",
    "display(stats.style.set_table_styles([\n",
    "    {\"selector\": \"table\", \"props\": [(\"border-collapse\", \"collapse\"), (\"width\", \"100%\")]}, \n",
    "    {\"selector\": \"th, td\", \"props\": [(\"border\", \"1px solid black\"), (\"padding\", \"5px\"), (\"text-align\", \"center\")]}, \n",
    "    {\"selector\": \"th:first-child, td:first-child\", \"props\": [(\"text-align\", \"left\")]}  # Alignement de la première colonne\n",
    "]).hide(axis=\"index\"))"
   ]
  },
  {
   "cell_type": "markdown",
   "metadata": {},
   "source": [
    "A noter que cet échantillon sera (à nouveau) réduit une fois qu'on introduira les variables spatiales, dès le modèle 2 (cf. ci-dessous)."
   ]
  },
  {
   "cell_type": "markdown",
   "metadata": {},
   "source": [
    "### 8.2. Variables spatiales"
   ]
  },
  {
   "cell_type": "markdown",
   "metadata": {},
   "source": [
    "On fait un modèle géographique : on calcule, pour chaque transaction, la distance aux lieux géographiques (mairie, plage, station)."
   ]
  },
  {
   "cell_type": "code",
   "execution_count": 84,
   "metadata": {},
   "outputs": [],
   "source": [
    "# Calcul de la distance entre les logements et la mairie\n",
    "df['distance_centre_ville'] = df.apply(\n",
    "    lambda row: geodesic(\n",
    "        (row['latitude'], row['longitude']),\n",
    "        (row['latitude_mairie'], row['longitude_mairie'])\n",
    "    ).kilometers if not (np.isnan(row['latitude']) or np.isnan(row['longitude']) or np.isnan(row['latitude_mairie']) or np.isnan(row['longitude_mairie'])) else None,\n",
    "    axis=1\n",
    ")"
   ]
  },
  {
   "cell_type": "markdown",
   "metadata": {},
   "source": [
    "On remets les coordonnées sous forme de liste de tuples"
   ]
  },
  {
   "cell_type": "code",
   "execution_count": 85,
   "metadata": {},
   "outputs": [],
   "source": [
    "# Puis les plages et les stations : on convertit d'abord les chaînes en listes de tuples\n",
    "df[\"station\"] = df[\"station\"].apply(lambda x: ast.literal_eval(x) if isinstance(x, str) else x)\n",
    "df[\"beach_coordinates\"] = df[\"beach_coordinates\"].apply(modeling.nettoyer_coordinates).apply(mapping.force_convert_to_tuple_list)\n",
    "df[\"station\"] = df[\"station\"].apply(modeling.nettoyer_coordinates).apply(mapping.force_convert_to_tuple_list)"
   ]
  },
  {
   "cell_type": "markdown",
   "metadata": {},
   "source": [
    "Pour la liste des plages (qui inclut également le port) et des stations, on calcule les distances de l'actif à chaque lieu et on retient la distance la plus courte."
   ]
  },
  {
   "cell_type": "code",
   "execution_count": 86,
   "metadata": {},
   "outputs": [],
   "source": [
    "# Distance aux plages\n",
    "df[\"distance_min_beach\"] = df.apply(\n",
    "    lambda row: modeling.distance_minimale(\n",
    "        row['latitude'], \n",
    "        row['longitude'],\n",
    "        [coords for coords in row[\"beach_coordinates\"]]\n",
    "    ),\n",
    "axis=1\n",
    ")"
   ]
  },
  {
   "cell_type": "code",
   "execution_count": 87,
   "metadata": {},
   "outputs": [],
   "source": [
    "# Distance aux stations\n",
    "df[\"distance_min_station\"] = df.apply(\n",
    "    lambda row: modeling.distance_minimale(\n",
    "        row[\"latitude\"], \n",
    "        row[\"longitude\"],\n",
    "        [coords for coords in row[\"station\"]]\n",
    "    ),\n",
    "    axis=1\n",
    ")"
   ]
  },
  {
   "cell_type": "markdown",
   "metadata": {},
   "source": [
    "### 8.3. Variables climatiques"
   ]
  },
  {
   "cell_type": "markdown",
   "metadata": {},
   "source": [
    "On prépare le reste des variables pour la régression :\n",
    "- la taille de la commune (3 catégories : 10 000, 10 à 20 000, 20 000 et +)\n",
    "- le type d'aléa (faible, moyen ou fort) pour les transactions en zone inondable\n"
   ]
  },
  {
   "cell_type": "code",
   "execution_count": 88,
   "metadata": {},
   "outputs": [],
   "source": [
    "### Taille de la commune\n",
    "bins = [0, 10000, 20000, np.inf]  # bornes des tranches\n",
    "labels = ['0-10000','10000-20000','plus_20000']  # Labels des tranches\n",
    "df['pop_cut'] = pd.cut(df['Population'], bins=bins, labels=labels, right=False)\n",
    "df_dummies_population = pd.get_dummies(df['pop_cut'], prefix='population',drop_first=True).astype(int)"
   ]
  },
  {
   "cell_type": "code",
   "execution_count": 89,
   "metadata": {},
   "outputs": [],
   "source": [
    "### Niveau de gravité de l'aléa\n",
    "df['code_scenario'] = df['code_scenario'].fillna('')\n",
    "df['code_scenario'] = df['code_scenario'].replace({'02Moy': '02Moy_03Mcc','03Mcc': '02Moy_03Mcc'})\n",
    "df_dummies_scenario = pd.get_dummies(df['code_scenario'], prefix='scenario').drop(columns=['scenario_NaN'], errors='ignore').astype(int)"
   ]
  },
  {
   "cell_type": "markdown",
   "metadata": {},
   "source": [
    "### 8.4. Variables hedoniques"
   ]
  },
  {
   "cell_type": "markdown",
   "metadata": {},
   "source": [
    "On inclut déjà la présence d'un terrain ou d'une dépendance."
   ]
  },
  {
   "cell_type": "markdown",
   "metadata": {},
   "source": [
    "Les variables suivantes sont des indicatrices. Après les avoir transformées, on retire une des modalités afin d'éviter la présence de multicolinéarité dans la régression (par exemple : $\\sum_{j communes}I(i \\in commune)) = 1$ car chaque transaction est forcément dans une commune de la liste\n",
    "\n",
    "On supprime, en général, la référence qui contient le plus de transactions (ex : Nice pour les communes) et/ou celle qui permet d'observer un effet graduel des catégories (ex : si les DPE E-F-G sont la référence, on s'attend à observer des effets sur les prix plus élevés pour les indicatrices en D, C, B, A)"
   ]
  },
  {
   "cell_type": "code",
   "execution_count": 90,
   "metadata": {},
   "outputs": [],
   "source": [
    "### Année de construction de l'habitation\n",
    "df['periode_construction_dpe'] = df['periode_construction_dpe'].replace({\n",
    "    '2013-2021': 'après 2013',\n",
    "    'après 2021': 'après 2013',\n",
    "    '2001-2005': '2001-2012',\n",
    "    '2006-2012': '2001-2012',\n",
    "    '1983-1988': '1975-1988',\n",
    "    '1978-1982': '1975-1988',\n",
    "    '1975-1977': '1975-1988'\n",
    "})\n",
    "df_dummies_construction = pd.get_dummies(df['periode_construction_dpe'], prefix='periode_construction_dpe').drop(columns=['periode_construction_dpe_avant 1948'], errors='ignore').astype(int)"
   ]
  },
  {
   "cell_type": "code",
   "execution_count": 91,
   "metadata": {},
   "outputs": [],
   "source": [
    "### DPE (Diagnostic de performance énergétique)\n",
    "df['classe_bilan_dpe'] = df['classe_bilan_dpe'].replace({'E': 'E_F_G', 'F': 'E_F_G', 'G': 'E_F_G'})\n",
    "df_dummies_dpe = pd.get_dummies(df['classe_bilan_dpe'], prefix='dpe').drop(columns=['dpe_E_F_G'], errors='ignore').astype(int)"
   ]
  },
  {
   "cell_type": "code",
   "execution_count": 92,
   "metadata": {},
   "outputs": [],
   "source": [
    "### Indicatrices de présence dans chaque commune\n",
    "colonnes_a_conserver = [col for col in df.columns if not col.startswith('commune_')]\n",
    "df = df[colonnes_a_conserver]\n",
    "df_dummies_communes = pd.get_dummies(df['nom_commune'], prefix='commune').drop(columns=['commune_Nice']).astype(int)"
   ]
  },
  {
   "cell_type": "markdown",
   "metadata": {},
   "source": [
    "On ajoute toutes les indicatrices au dataframe."
   ]
  },
  {
   "cell_type": "code",
   "execution_count": 93,
   "metadata": {},
   "outputs": [],
   "source": [
    "df = pd.concat([df, df_dummies_population, df_dummies_scenario, df_dummies_communes, df_dummies_construction, df_dummies_dpe],axis=1)"
   ]
  },
  {
   "cell_type": "markdown",
   "metadata": {},
   "source": [
    "La variable d'interaction (zone inondable x debordement) est un produit d'indicatrice qui calcule, en présence de la variable zone_inondable, l'effet relatif d'être en zone de débordement par rapport au fait d'être en zone de submersion marine."
   ]
  },
  {
   "cell_type": "code",
   "execution_count": 94,
   "metadata": {},
   "outputs": [],
   "source": [
    "df['debordement'] = (df['libelle_type_inondation'] == \"débordement de cours d'eau\").astype(int)\n",
    "df['zone_inondable x debordement'] = df['zone_inondable'] * df['debordement']"
   ]
  },
  {
   "cell_type": "markdown",
   "metadata": {},
   "source": [
    "### 8.5. Estimation par la methode des MCO"
   ]
  },
  {
   "cell_type": "markdown",
   "metadata": {},
   "source": [
    "On définit les variables spatiales et les 4 ensembles de variables explicatives associées à 4 modèles de régression.\n",
    "Chaque ensemble de variables explicatives introduit des variables supplémentaires par rapport au bloc précédent. Cela permet de mesurer l'effet de cet ajout, et en particulier l'effet sur le coefficient d'intérêt (celui de la zone inondable)\n",
    "\n",
    "En particulier, les variables continues (dont le prix) est transformé en logarithme."
   ]
  },
  {
   "cell_type": "code",
   "execution_count": 95,
   "metadata": {},
   "outputs": [],
   "source": [
    "df, colonnes_geographiques, colonnes_explicatives, colonnes_explicatives1, colonnes_explicatives2, colonnes_explicatives3, colonnes_explicatives4, colonne_dependante = modeling.prepare_columns(df, modeling)"
   ]
  },
  {
   "cell_type": "markdown",
   "metadata": {},
   "source": [
    "On crée 4 modèles de régression pour les appartements\n",
    "- le 1er modèle intègre seulement les variables hédoniques, et l'indicatrice en zone inondable\n",
    "- le 2ème modèle ajoute les variables géographiques, dont la distance à la plage\n",
    "- le 3ème modèle remplace l'indicatrice de zone par 3 indicatrices par aléa (risque faible, moyen, fort)\n",
    "- le 4ème modèle intègre la variable d'interaction (zone_inondable x débordement) pour différencier le risque marin du risque fluvial"
   ]
  },
  {
   "cell_type": "markdown",
   "metadata": {},
   "source": [
    "\\begin{align*}\n",
    "\\text{Modèle 1:} \\\\\n",
    "& \\log(y_i) = \\alpha_0 + \\alpha_1 \\, I(i \\in \\text{zone inondable}) + \\sum_{k \\in \\text{hédoniques}} \\gamma_k \\, h_{ik} + \\sum_{j \\in \\text{communes}} \\delta_j \\, I(i \\in \\text{commune } j) + \\varepsilon_i \\\\\n",
    "\\text{Modèle 2:} \\\\\n",
    "& \\log(y_i) = \\alpha_0 + \\alpha_1 \\, I(i \\in \\text{zone inondable}) + \\sum_{k \\in \\text{géographiques}} \\beta_k \\, g_{ik} + \\sum_{k \\in \\text{hédoniques}} \\gamma_k \\, h_{ik} + \\sum_{j \\in \\text{communes}} \\delta_j \\, (i \\in \\text{commune } j) + \\varepsilon_i \\\\\n",
    "\\text{Modèle 3:} \\\\\n",
    "& \\log(y_i) = \\alpha_0 + \\alpha_1 \\, I(i \\in \\text{risque faible}) + \\alpha_2 \\, I(i \\in \\text{risque moyen}) + \\alpha_3 \\, I(i \\in \\text{risque fort}) + \\sum_{k \\in \\text{géographiques}} \\beta_k \\, g_{ik} + \\sum_{k \\in \\text{hédoniques}} \\gamma_k \\, h_{ik} + \\sum_{j \\in \\text{communes}} \\delta_j \\, I(i \\in \\text{commune } j) + \\varepsilon_i \\\\\n",
    "\\text{Modèle 4:} \\\\\n",
    "& \\log(y_i) = \\alpha_0 + \\alpha_1 \\, I(i \\in \\text{zone inondable}) + \\alpha_2 \\, I(i \\in \\text{zone inondable x débordement}) + \\sum_{k \\in \\text{géographiques}} \\beta_k \\, g_k + \\sum_{k \\in \\text{hédoniques}} \\gamma_k \\, h_{ik} + \\sum_{j \\in \\text{communes}} \\delta_j \\, I(i \\in \\text{commune } j) + \\varepsilon_i\n",
    "\\end{align*}\n",
    "\n"
   ]
  },
  {
   "cell_type": "markdown",
   "metadata": {},
   "source": [
    "### Description des variables\n",
    "\n",
    "- $y$ : Variable dépendante du prix/m2, log-transformée.\n",
    "- $I(i \\in \\text{catégorie})$ : Indicatrice, vaut $1$ si l'observation $i$ appartient à la catégorie spécifiée, sinon $0$.\n",
    "- $h_k$ : Variables explicatives hédoniques, comme la surface, le nombre de pièces principales, etc.\n",
    "- $g_k$ : Variables explicatives géographiques, comme la distance au centre-ville ou la proximité des plages.\n",
    "- $\\alpha_0$ : Constante ou intercept du modèle.\n",
    "- $\\alpha_1, \\alpha_2, \\alpha_3$ : Coefficients associés aux indicateurs des différentes catégories, comme le risque faible, moyen ou fort, ou la zone inondable.\n",
    "- $\\gamma_k$ : Coefficients associés aux variables hédoniques.\n",
    "- $\\beta_k$ : Coefficients associés aux variables géographiques.\n",
    "- $\\delta_j$ : Coefficients associées à la commune $j$.\n",
    "- $\\varepsilon$ : Terme d'erreur aléatoire."
   ]
  },
  {
   "cell_type": "markdown",
   "metadata": {},
   "source": [
    "On estime les coefficients par la méthode des moindres carrés ordinaires (MCO) d'abord pour les appartements."
   ]
  },
  {
   "cell_type": "code",
   "execution_count": 96,
   "metadata": {},
   "outputs": [],
   "source": [
    "df_app = df[df[\"type_local\"]==\"Appartement\"]\n",
    "\n",
    "model_app1 = modeling.construire_modele_regression(df=df_app, colonnes_explicatives=colonnes_explicatives1)\n",
    "model_app2 = modeling.construire_modele_regression(df=df_app, colonnes_explicatives=colonnes_explicatives2)\n",
    "model_app3 = modeling.construire_modele_regression(df=df_app, colonnes_explicatives=colonnes_explicatives3)\n",
    "model_app4 = modeling.construire_modele_regression(df=df_app, colonnes_explicatives=colonnes_explicatives4,)"
   ]
  },
  {
   "cell_type": "markdown",
   "metadata": {},
   "source": [
    "On procède de même pour les maisons."
   ]
  },
  {
   "cell_type": "code",
   "execution_count": 97,
   "metadata": {},
   "outputs": [],
   "source": [
    "df_mai = df[df[\"type_local\"]==\"Maison\"]\n",
    "\n",
    "model_mai1 = modeling.construire_modele_regression(df=df_mai, colonnes_explicatives=colonnes_explicatives1)\n",
    "model_mai2 = modeling.construire_modele_regression(df=df_mai, colonnes_explicatives=colonnes_explicatives2)\n",
    "model_mai3 = modeling.construire_modele_regression(df=df_mai, colonnes_explicatives=colonnes_explicatives3)\n",
    "model_mai4 = modeling.construire_modele_regression(df=df_mai, colonnes_explicatives=colonnes_explicatives4)"
   ]
  },
  {
   "cell_type": "code",
   "execution_count": 98,
   "metadata": {},
   "outputs": [],
   "source": [
    "tableau_app, tableau_mai = modeling.traiter_resultats(model_app1, model_app2, model_app3, model_app4, model_mai1, model_mai2, model_mai3, model_mai4)"
   ]
  },
  {
   "cell_type": "markdown",
   "metadata": {},
   "source": [
    "On réordonne le tableau de régression selon un ordre de variables défini (sans afficher les coefficients associés aux indicatrices de commune)"
   ]
  },
  {
   "cell_type": "markdown",
   "metadata": {},
   "source": [
    "### 8.6. Resultats finaux"
   ]
  },
  {
   "cell_type": "markdown",
   "metadata": {},
   "source": [
    "Les coefficients des modèles sont estimés ci-dessous, ainsi que le R2 ajusté (indicateur de l'adéquation des données au modèle).\n",
    "\n",
    "Les pvalues sont présentée, avec les seuils classiques de significativité (* si pvalue < 10%, ** si < 5%, *** si < 1% )"
   ]
  },
  {
   "cell_type": "code",
   "execution_count": null,
   "metadata": {},
   "outputs": [],
   "source": [
    "display(tableau_app.replace(\"nan\", \"\").style.hide(axis=\"index\").set_table_styles([{\"selector\": \"table\", \"props\": [(\"border-collapse\", \"collapse\"), (\"width\", \"100%\")]}, {\"selector\": \"th, td\", \"props\": [(\"border\", \"1px solid black\"), (\"padding\", \"5px\"), (\"text-align\", \"center\")]}, {\"selector\": \"th:first-child, td:first-child\", \"props\": [(\"text-align\", \"left\")]}]))"
   ]
  },
  {
   "cell_type": "markdown",
   "metadata": {},
   "source": [
    "Interprétation : Comme la variable dépendante (les prix) sont en logarithme, les coefficients estimés peuvent être traduits de la manière suivante :\n",
    "- si ce sont des indicatrices (ex : la présence en zone inondable), le coefficient estimé est une **semi-élasticité**. Si la variable indicatrice passe de 0 à 1, la variation du log(prix) est $\\alpha_1$, et le prix augmente de $100 \\times \\alpha_1 \\%$\n",
    "\n",
    "*Exemple : dans le modèle 2, être en zone inondable diminue, toutes choses égales par ailleurs, le prix de $100 \\times 0.076 \\%=7.6\\%$*\n",
    "\n",
    "- si ce sont des logarithmes (ex : distance à la plage la plus proche), le coefficient est une **élasticité**. Si la distance augmente de 1%, log(distance) augmente de 1/100, la variation du log(prix) est $\\alpha_1/100$, et le prix augmente de $\\alpha_1 \\%$\n",
    "\n",
    "*Exemple : dans le modèle 2, si la distance à la plage augmente de 1%, toutes choses égales par ailleurs, le prix diminue de 0.07 \\%*\n",
    "\n",
    "*Note sur l'effet d'interaction* (M4)_ : si le bien est en zone inondable \"marine\", debordement = 0 et l'effet est capté par la variable $100 \\times \\alpha_1 = 5.8\\%$. Si debordement = 1, l'effet inondable est capté par $100 \\times (\\alpha_1 + \\alpha_2) = 5.8\\% - 23.4 \\% = -17.4\\%$"
   ]
  },
  {
   "cell_type": "code",
   "execution_count": null,
   "metadata": {},
   "outputs": [],
   "source": [
    "display(tableau_mai.replace(\"nan\", \"\").style.hide(axis=\"index\").set_table_styles([{\"selector\": \"table\", \"props\": [(\"border-collapse\", \"collapse\"), (\"width\", \"100%\")]}, {\"selector\": \"th, td\", \"props\": [(\"border\", \"1px solid black\"), (\"padding\", \"5px\"), (\"text-align\", \"center\")]}, {\"selector\": \"th:first-child, td:first-child\", \"props\": [(\"text-align\", \"left\")]}]))"
   ]
  },
  {
   "cell_type": "markdown",
   "metadata": {},
   "source": [
    "# 6. Conclusion"
   ]
  },
  {
   "cell_type": "markdown",
   "metadata": {},
   "source": [
    "Notre modèle (hédonique et spatial) est concluant et soutient qu'il existe une décote \"climatique\" d'environ 8% en moyenne pour les transactions côtières en zone inondable (M2). Ce coefficient est cohérent avec les estimations de l'INRAE (2023). Surtout, il est sensiblement réhaussé une fois la position spatiale de l'habitation prise en compte, notamment sa distance aux plages et aux zones touristiques (M1).  En effet, en omettant cette seconde variable, on pourrait penser à tort que les ménages ne tiennent pas beaucoup compte du changement climatique : c'est parce que l'attrait des plages compense (partiellement) cette aversion au risque.\n",
    "\n",
    "Pour les maisons, aucun effet significatif n'est mesuré. Cela pourrait s'expliquer par le profil différent des acheteurs : les appartements seraient davantage la cible des investisseurs pour la location saisonnière (et ceux-ci privilégient le long terme et anticipent la revente et les pertes associées).\n",
    "\n",
    "Pour les appartements, l'effet semble différent selon la gravité de l'aléa (faible, moyen ou fort ) : ce sont même les zones faibles qui apparaissent plus dévalorisées que les autres (M3). Ce résultat paradoxal pourrait s'expliquer par le nombre plus élevés d'aléas \"débordement\" dans les zone à faible risques (M4) : -17% pour les appartements, -13% pour les maisons. Le risque marin peut apparaître beaucoup moins fréquent, tandis que le risque fluvial dans les embouchures est davantage associé à de fortes précipitations et leurs conséquences sont peut-être plus sensibles pour les riverains. Et le risque marin est davantage localisé dans les zones à risque fort (en bordure de mer).\n",
    "\n",
    "L'effet de myopie semble donc être en partie confirmé : tant que les Français ne mesurent pas entièrement les conséquences du changement climatique, ils ne se projettent pas (assez ?) sur les problèmes à venir, en particulier la montée progressive du niveau de la mer."
   ]
  }
 ],
 "metadata": {
  "kernelspec": {
   "display_name": "Python 3",
   "language": "python",
   "name": "python3"
  },
  "language_info": {
   "codemirror_mode": {
    "name": "ipython",
    "version": 3
   },
   "file_extension": ".py",
   "mimetype": "text/x-python",
   "name": "python",
   "nbconvert_exporter": "python",
   "pygments_lexer": "ipython3",
   "version": "3.12.8"
  }
 },
 "nbformat": 4,
 "nbformat_minor": 2
}
