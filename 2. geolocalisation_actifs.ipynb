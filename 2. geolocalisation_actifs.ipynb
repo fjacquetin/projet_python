{
 "cells": [
  {
   "cell_type": "code",
   "execution_count": 1,
   "metadata": {},
   "outputs": [
    {
     "name": "stderr",
     "output_type": "stream",
     "text": [
      "C:\\Users\\flori\\AppData\\Local\\Temp\\ipykernel_28108\\2445407704.py:7: DtypeWarning: Columns (13,15) have mixed types. Specify dtype option on import or set low_memory=False.\n",
      "  df = pd.read_csv(\"data/transactions_with_zone_inondable.csv\", sep=\";\", encoding=\"utf8\")\n"
     ]
    }
   ],
   "source": [
    "import pandas as pd\n",
    "import requests\n",
    "import json\n",
    "from concurrent.futures import ThreadPoolExecutor\n",
    "\n",
    "# Charger le fichier CSV\n",
    "df = pd.read_csv(\"data/transactions_with_zone_inondable.csv\", sep=\";\", encoding=\"utf8\")"
   ]
  },
  {
   "cell_type": "code",
   "execution_count": null,
   "metadata": {},
   "outputs": [
    {
     "name": "stderr",
     "output_type": "stream",
     "text": [
      "C:\\Users\\flori\\AppData\\Local\\Temp\\ipykernel_6704\\1729983673.py:7: DtypeWarning: Columns (6,8) have mixed types. Specify dtype option on import or set low_memory=False.\n",
      "  df = pd.read_csv(\"data/transactions_with_zone_inondable.csv\", sep=\";\", encoding=\"utf8\")\n"
     ]
    }
   ],
   "source": [
    "# # Fonction pour récupérer les informations de la parcelle\n",
    "# def get_parcelle_info(args):\n",
    "#     longitude, latitude = args\n",
    "#     geojson_point = {\n",
    "#         \"type\": \"Point\",\n",
    "#         \"coordinates\": [longitude, latitude]\n",
    "#     }\n",
    "#     geojson_str = json.dumps(geojson_point)\n",
    "    \n",
    "#     # URL de l'API de cadastre\n",
    "#     url = \"https://apicarto.ign.fr/api/cadastre/parcelle\"\n",
    "    \n",
    "#     # Paramètres de la requête\n",
    "#     params = {\n",
    "#         'geom': geojson_str,\n",
    "#         'source_ign': 'PCI',\n",
    "#         '_limit': 1\n",
    "#     }\n",
    "    \n",
    "#     try:\n",
    "#         response = requests.get(url, params=params, timeout=5)\n",
    "#         if response.status_code == 200:\n",
    "#             parcelle_data = response.json()\n",
    "#             if parcelle_data[\"totalFeatures\"] > 0:\n",
    "#                 parcelle = parcelle_data[\"features\"][0][\"properties\"]\n",
    "#                 return {\n",
    "#                     \"idu\": parcelle.get(\"idu\", \"Non disponible\"),\n",
    "#                     \"section\": parcelle.get(\"section\", \"Non disponible\"),\n",
    "#                     \"code_com\": parcelle.get(\"code_com\", \"Non disponible\"),\n",
    "#                     \"com_abs\": parcelle.get(\"com_abs\", \"Non disponible\"),\n",
    "#                     \"code_arr\": parcelle.get(\"code_arr\", \"Non disponible\")\n",
    "#                 }\n",
    "#             else:\n",
    "#                 return {\n",
    "#                     \"idu\": \"Non disponible\",\n",
    "#                     \"section\": \"Non disponible\",\n",
    "#                     \"code_com\": \"Non disponible\",\n",
    "#                     \"com_abs\": \"Non disponible\",\n",
    "#                     \"code_arr\": \"Non disponible\"\n",
    "#                 }\n",
    "#         else:\n",
    "#             return {\n",
    "#                 \"idu\": \"Erreur\",\n",
    "#                 \"section\": \"Erreur\",\n",
    "#                 \"code_com\": \"Erreur\",\n",
    "#                 \"com_abs\": \"Erreur\",\n",
    "#                 \"code_arr\": \"Erreur\"\n",
    "#             }\n",
    "#     except requests.exceptions.Timeout:\n",
    "#         return {\n",
    "#             \"idu\": \"Timeout\",\n",
    "#             \"section\": \"Timeout\",\n",
    "#             \"code_com\": \"Timeout\",\n",
    "#             \"com_abs\": \"Timeout\",\n",
    "#             \"code_arr\": \"Timeout\"\n",
    "#         }\n",
    "#     except requests.exceptions.RequestException:\n",
    "#         return {\n",
    "#             \"idu\": \"Erreur\",\n",
    "#             \"section\": \"Erreur\",\n",
    "#             \"code_com\": \"Erreur\",\n",
    "#             \"com_abs\": \"Erreur\",\n",
    "#             \"code_arr\": \"Erreur\"\n",
    "#         }\n",
    "\n",
    "# # Traiter seulement les 10 premières lignes\n",
    "# df_sample = df[['longitude', 'latitude']]\n",
    "\n",
    "# # Préparer les arguments pour le traitement parallèle\n",
    "# coordinates = list(zip(df_sample['longitude'], df_sample['latitude']))\n",
    "\n",
    "# # Effectuer les appels API en parallèle\n",
    "# with ThreadPoolExecutor(max_workers=10) as executor:\n",
    "#     results = list(executor.map(get_parcelle_info, coordinates))\n",
    "\n",
    "# # Ajouter les nouvelles colonnes au DataFrame\n",
    "# results_df = pd.DataFrame(results)\n"
   ]
  },
  {
   "cell_type": "code",
   "execution_count": 2,
   "metadata": {},
   "outputs": [],
   "source": [
    "parcelle = pd.read_csv('data/parcelle.csv',encoding=\"utf8\",sep=\";\")"
   ]
  },
  {
   "cell_type": "code",
   "execution_count": 4,
   "metadata": {},
   "outputs": [],
   "source": [
    "# Effectuer le merge\n",
    "df2 = pd.merge(\n",
    "    df, \n",
    "    parcelle, \n",
    "    how='left', \n",
    "    left_on='id_parcelle', \n",
    "    right_on='parcelle_id'\n",
    ")\n"
   ]
  },
  {
   "cell_type": "code",
   "execution_count": 5,
   "metadata": {},
   "outputs": [],
   "source": [
    "df2.to_csv('data/transactions_with_batiment.csv',encoding=\"utf8\",sep=\";\",index=False)"
   ]
  }
 ],
 "metadata": {
  "kernelspec": {
   "display_name": "Python 3",
   "language": "python",
   "name": "python3"
  },
  "language_info": {
   "codemirror_mode": {
    "name": "ipython",
    "version": 3
   },
   "file_extension": ".py",
   "mimetype": "text/x-python",
   "name": "python",
   "nbconvert_exporter": "python",
   "pygments_lexer": "ipython3",
   "version": "3.12.8"
  }
 },
 "nbformat": 4,
 "nbformat_minor": 2
}
