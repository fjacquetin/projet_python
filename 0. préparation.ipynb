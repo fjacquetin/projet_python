{
 "cells": [
  {
   "cell_type": "code",
   "execution_count": 1,
   "metadata": {},
   "outputs": [],
   "source": [
    "## La version de python utilisée est 3.12.7\n",
    "\n",
    "!pip install -r requirements.txt -q"
   ]
  },
  {
   "cell_type": "code",
   "execution_count": 2,
   "metadata": {},
   "outputs": [],
   "source": [
    "import pandas as pd\n",
    "import requests as rq\n",
    "import lxml as lxml\n",
    "from bs4 import BeautifulSoup\n",
    "import io as io\n",
    "import math\n",
    "import gzip\n",
    "import shutil\n",
    "import os\n",
    "import geopandas as gpd\n",
    "import matplotlib.pyplot as plt\n",
    "import folium\n",
    "import json\n",
    "from pandasgui import show\n",
    "import numpy as np\n",
    "from io import BytesIO\n",
    "from folium.plugins import HeatMap\n",
    "import nbconvert\n",
    "\n",
    "from geopy.geocoders import Nominatim\n",
    "from geopy.exc import GeocoderTimedOut"
   ]
  },
  {
   "cell_type": "code",
   "execution_count": 3,
   "metadata": {},
   "outputs": [
    {
     "name": "stderr",
     "output_type": "stream",
     "text": [
      "PandasGUI INFO — pandasgui.gui — Opening PandasGUI\n"
     ]
    },
    {
     "name": "stdout",
     "output_type": "stream",
     "text": [
      "Index(['Région', 'ID département', 'Nom département', 'Code Insee comm.',\n",
      "       'Nom commune', 'Classement', 'Motif du classement',\n",
      "       'nom de l'entité géographique dont le littoral est protégé',\n",
      "       'Population', 'commune déleguée'],\n",
      "      dtype='object')\n"
     ]
    },
    {
     "name": "stderr",
     "output_type": "stream",
     "text": [
      "C:\\Users\\flori\\AppData\\Local\\Temp\\ipykernel_14700\\1155764729.py:13: FutureWarning: Series.__getitem__ treating keys as positions is deprecated. In a future version, integer keys will always be treated as labels (consistent with DataFrame behavior). To access a value by position, use `ser.iloc[pos]`\n",
      "  show(df_cotieres)\n",
      "C:\\Users\\flori\\AppData\\Local\\Temp\\ipykernel_14700\\1155764729.py:13: FutureWarning: Series.__getitem__ treating keys as positions is deprecated. In a future version, integer keys will always be treated as labels (consistent with DataFrame behavior). To access a value by position, use `ser.iloc[pos]`\n",
      "  show(df_cotieres)\n",
      "C:\\Users\\flori\\AppData\\Local\\Temp\\ipykernel_14700\\1155764729.py:13: FutureWarning:\n",
      "\n",
      "Series.__getitem__ treating keys as positions is deprecated. In a future version, integer keys will always be treated as labels (consistent with DataFrame behavior). To access a value by position, use `ser.iloc[pos]`\n",
      "\n",
      "C:\\Users\\flori\\AppData\\Local\\Temp\\ipykernel_14700\\1155764729.py:13: FutureWarning:\n",
      "\n",
      "Series.__getitem__ treating keys as positions is deprecated. In a future version, integer keys will always be treated as labels (consistent with DataFrame behavior). To access a value by position, use `ser.iloc[pos]`\n",
      "\n",
      "C:\\Users\\flori\\AppData\\Local\\Temp\\ipykernel_14700\\1155764729.py:13: FutureWarning:\n",
      "\n",
      "Series.__getitem__ treating keys as positions is deprecated. In a future version, integer keys will always be treated as labels (consistent with DataFrame behavior). To access a value by position, use `ser.iloc[pos]`\n",
      "\n",
      "C:\\Users\\flori\\AppData\\Local\\Temp\\ipykernel_14700\\1155764729.py:13: FutureWarning:\n",
      "\n",
      "Series.__getitem__ treating keys as positions is deprecated. In a future version, integer keys will always be treated as labels (consistent with DataFrame behavior). To access a value by position, use `ser.iloc[pos]`\n",
      "\n"
     ]
    },
    {
     "data": {
      "text/plain": [
       "<pandasgui.gui.PandasGui at 0x2d8386bab10>"
      ]
     },
     "execution_count": 3,
     "metadata": {},
     "output_type": "execute_result"
    }
   ],
   "source": [
    "# URL du fichier Excel\n",
    "url_cotier = 'https://comersis.com/free-download.php?f=communes_littorales_2019.xlsx&d=littoral'\n",
    "\n",
    "# Télécharger le fichier\n",
    "response = rq.get(url_cotier)\n",
    "\n",
    "# Lire le fichier Excel dans un DataFrame\n",
    "df_cotieres = pd.read_excel(BytesIO(response.content))\n",
    "df_cotieres = df_cotieres[df_cotieres['Région'] != \"Départements d'Outre-Mer\"]\n",
    "\n",
    "\n",
    "print(df_cotieres.columns)\n",
    "show(df_cotieres)"
   ]
  },
  {
   "cell_type": "code",
   "execution_count": 4,
   "metadata": {},
   "outputs": [
    {
     "name": "stdout",
     "output_type": "stream",
     "text": [
      "Index(['Région', 'ID département', 'Nom département', 'Code Insee comm.',\n",
      "       'Nom commune', 'Classement', 'Motif du classement',\n",
      "       'nom de l'entité géographique dont le littoral est protégé',\n",
      "       'Population', 'commune déleguée'],\n",
      "      dtype='object')\n",
      "['Beaulieu-sur-Mer', 'Cagnes-sur-Mer', 'Cannes', \"Cap-d'Ail\", 'Eze', 'Mandelieu-la-Napoule', 'Menton', 'Nice', 'Roquebrune-Cap-Martin']\n",
      "                       Région  nombre_communes  population_totale\n",
      "0                    Bretagne              194             941329\n",
      "1                       Corse               94             240732\n",
      "2             Hauts de France               52             391192\n",
      "3                   Normandie              202             710948\n",
      "4          Nouvelle Aquitaine               81             510392\n",
      "5                   Occitanie               27             237370\n",
      "6            Pays-de-la-Loire               46             353413\n",
      "7  Provence-Alpes-Côte d'Azur               53            2291162\n"
     ]
    },
    {
     "name": "stderr",
     "output_type": "stream",
     "text": [
      "C:\\Users\\flori\\AppData\\Local\\Temp\\ipykernel_14700\\2019719742.py:8: DeprecationWarning:\n",
      "\n",
      "DataFrameGroupBy.apply operated on the grouping columns. This behavior is deprecated, and in a future version of pandas the grouping columns will be excluded from the operation. Either pass `include_groups=False` to exclude the groupings or explicitly select the grouping columns after groupby to silence this warning.\n",
      "\n"
     ]
    }
   ],
   "source": [
    "# Filtrer sur le Motif du classement\n",
    "df_cotieres = df_cotieres[df_cotieres['Motif du classement'] == \"Commune riveraine de la mer ou d'un océan\"]\n",
    "\n",
    "print(df_cotieres.columns)\n",
    "liste_cotieres = df_cotieres['Nom commune'].unique().tolist()\n",
    "print(liste_cotieres[1:10])\n",
    "# Statistiques par \"Région\" pour les communes filtrées\n",
    "stats_region_filtered = df_cotieres.groupby('Région').apply(\n",
    "    lambda x: pd.Series({\n",
    "        'nombre_communes': x['Nom commune'].nunique(),\n",
    "        'population_totale': x['Population'].sum()\n",
    "    })\n",
    ").reset_index()\n",
    "\n",
    "# Afficher les résultats\n",
    "print(stats_region_filtered)"
   ]
  },
  {
   "cell_type": "code",
   "execution_count": 5,
   "metadata": {},
   "outputs": [
    {
     "name": "stderr",
     "output_type": "stream",
     "text": [
      "C:\\Users\\flori\\AppData\\Local\\Packages\\PythonSoftwareFoundation.Python.3.12_qbz5n2kfra8p0\\LocalCache\\local-packages\\Python312\\site-packages\\geopandas\\geodataframe.py:1819: SettingWithCopyWarning:\n",
      "\n",
      "\n",
      "A value is trying to be set on a copy of a slice from a DataFrame.\n",
      "Try using .loc[row_indexer,col_indexer] = value instead\n",
      "\n",
      "See the caveats in the documentation: https://pandas.pydata.org/pandas-docs/stable/user_guide/indexing.html#returning-a-view-versus-a-copy\n",
      "\n",
      "C:\\Users\\flori\\AppData\\Local\\Packages\\PythonSoftwareFoundation.Python.3.12_qbz5n2kfra8p0\\LocalCache\\local-packages\\Python312\\site-packages\\geopandas\\geodataframe.py:1819: SettingWithCopyWarning:\n",
      "\n",
      "\n",
      "A value is trying to be set on a copy of a slice from a DataFrame.\n",
      "Try using .loc[row_indexer,col_indexer] = value instead\n",
      "\n",
      "See the caveats in the documentation: https://pandas.pydata.org/pandas-docs/stable/user_guide/indexing.html#returning-a-view-versus-a-copy\n",
      "\n",
      "C:\\Users\\flori\\AppData\\Local\\Packages\\PythonSoftwareFoundation.Python.3.12_qbz5n2kfra8p0\\LocalCache\\local-packages\\Python312\\site-packages\\geopandas\\geodataframe.py:1819: SettingWithCopyWarning:\n",
      "\n",
      "\n",
      "A value is trying to be set on a copy of a slice from a DataFrame.\n",
      "Try using .loc[row_indexer,col_indexer] = value instead\n",
      "\n",
      "See the caveats in the documentation: https://pandas.pydata.org/pandas-docs/stable/user_guide/indexing.html#returning-a-view-versus-a-copy\n",
      "\n",
      "PandasGUI INFO — pandasgui.gui — Opening PandasGUI\n",
      "C:\\Users\\flori\\AppData\\Local\\Temp\\ipykernel_14700\\3518147164.py:18: FutureWarning:\n",
      "\n",
      "Series.__getitem__ treating keys as positions is deprecated. In a future version, integer keys will always be treated as labels (consistent with DataFrame behavior). To access a value by position, use `ser.iloc[pos]`\n",
      "\n",
      "C:\\Users\\flori\\AppData\\Local\\Temp\\ipykernel_14700\\3518147164.py:18: FutureWarning:\n",
      "\n",
      "Series.__getitem__ treating keys as positions is deprecated. In a future version, integer keys will always be treated as labels (consistent with DataFrame behavior). To access a value by position, use `ser.iloc[pos]`\n",
      "\n",
      "C:\\Users\\flori\\AppData\\Local\\Temp\\ipykernel_14700\\3518147164.py:18: FutureWarning:\n",
      "\n",
      "Series.__getitem__ treating keys as positions is deprecated. In a future version, integer keys will always be treated as labels (consistent with DataFrame behavior). To access a value by position, use `ser.iloc[pos]`\n",
      "\n",
      "C:\\Users\\flori\\AppData\\Local\\Temp\\ipykernel_14700\\3518147164.py:18: FutureWarning:\n",
      "\n",
      "Series.__getitem__ treating keys as positions is deprecated. In a future version, integer keys will always be treated as labels (consistent with DataFrame behavior). To access a value by position, use `ser.iloc[pos]`\n",
      "\n",
      "C:\\Users\\flori\\AppData\\Local\\Temp\\ipykernel_14700\\3518147164.py:18: FutureWarning:\n",
      "\n",
      "Series.__getitem__ treating keys as positions is deprecated. In a future version, integer keys will always be treated as labels (consistent with DataFrame behavior). To access a value by position, use `ser.iloc[pos]`\n",
      "\n",
      "C:\\Users\\flori\\AppData\\Local\\Temp\\ipykernel_14700\\3518147164.py:18: FutureWarning:\n",
      "\n",
      "Series.__getitem__ treating keys as positions is deprecated. In a future version, integer keys will always be treated as labels (consistent with DataFrame behavior). To access a value by position, use `ser.iloc[pos]`\n",
      "\n"
     ]
    },
    {
     "data": {
      "text/plain": [
       "<pandasgui.gui.PandasGui at 0x2d838107e30>"
      ]
     },
     "execution_count": 5,
     "metadata": {},
     "output_type": "execute_result"
    }
   ],
   "source": [
    "# Charger le fichier GeoJSON des communes de France depuis le lien GitHub\n",
    "url_commune = 'https://raw.githubusercontent.com/gregoiredavid/france-geojson/master/communes.geojson'\n",
    "response_commune = rq.get(url_commune)\n",
    "communes_geojson = response_commune.json()\n",
    "\n",
    "# Charger le GeoJSON dans un GeoDataFrame\n",
    "gdf_communes = gpd.GeoDataFrame.from_features(communes_geojson['features'])\n",
    "gdf_communes_cotieres = gdf_communes[gdf_communes['nom'].isin(liste_cotieres)]\n",
    "\n",
    "# Calculer les centroïdes pour chaque commune\n",
    "gdf_communes_cotieres['centroid'] = gdf_communes_cotieres.geometry.centroid\n",
    "gdf_communes_cotieres['latitude'] = gdf_communes_cotieres['centroid'].y\n",
    "gdf_communes_cotieres['longitude'] = gdf_communes_cotieres['centroid'].x\n",
    "gdf_communes_cotieres = gdf_communes_cotieres.drop(columns=['centroid'])\n",
    "df_centres = gdf_communes_cotieres[['nom', 'latitude', 'longitude']]\n",
    "\n",
    "liste_commune = gdf_communes_cotieres['nom'].to_list()\n",
    "show(gdf_communes_cotieres)"
   ]
  },
  {
   "cell_type": "code",
   "execution_count": null,
   "metadata": {},
   "outputs": [],
   "source": [
    "# Exporte le fichier des communes cotières\n",
    "\n",
    "gdf_communes_cotieres.to_csv('data/communes_cotieres.csv', index=False, encoding='utf-8-sig',sep=\";\")"
   ]
  },
  {
   "cell_type": "code",
   "execution_count": 3,
   "metadata": {},
   "outputs": [
    {
     "name": "stdout",
     "output_type": "stream",
     "text": [
      "          departementName\n",
      "0                   Aisne\n",
      "1                    Aube\n",
      "2                Calvados\n",
      "3                  Cantal\n",
      "4            Eure-et-Loir\n",
      "..                    ...\n",
      "91           Loir-et-Cher\n",
      "92                Mayenne\n",
      "93     Meurthe-et-Moselle\n",
      "94            Deux-Sèvres\n",
      "95  Territoire de Belfort\n",
      "\n",
      "[96 rows x 1 columns]\n"
     ]
    }
   ],
   "source": [
    "# URL du fichier GeoJSON des départements de France\n",
    "url_departement = \"https://france-geojson.gregoiredavid.fr/repo/departements.geojson\"\n",
    "\n",
    "# Récupérer le fichier GeoJSON des départements de France\n",
    "response = rq.get(url_departement)\n",
    "departements_geojson = response.json()\n",
    "\n",
    "# Créer une liste pour stocker les noms des départements\n",
    "departement_names = []\n",
    "\n",
    "# Extraire les noms des départements depuis les propriétés de chaque feature\n",
    "for feature in departements_geojson['features']:\n",
    "    departement_name = feature['properties']['nom']\n",
    "    departement_names.append(departement_name)\n",
    "\n",
    "# Créer un DataFrame avec les noms des départements\n",
    "df_departements = pd.DataFrame(departement_names, columns=['departementName'])\n",
    "    \n",
    "# Afficher le DataFrame\n",
    "print(df_departements)"
   ]
  }
 ],
 "metadata": {
  "kernelspec": {
   "display_name": "Python 3",
   "language": "python",
   "name": "python3"
  },
  "language_info": {
   "codemirror_mode": {
    "name": "ipython",
    "version": 3
   },
   "file_extension": ".py",
   "mimetype": "text/x-python",
   "name": "python",
   "nbconvert_exporter": "python",
   "pygments_lexer": "ipython3",
   "version": "3.12.7"
  }
 },
 "nbformat": 4,
 "nbformat_minor": 2
}
