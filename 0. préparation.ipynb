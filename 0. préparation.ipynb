{
 "cells": [
  {
   "cell_type": "code",
   "execution_count": 1,
   "metadata": {},
   "outputs": [
    {
     "name": "stderr",
     "output_type": "stream",
     "text": [
      "ERROR: Could not find a version that satisfies the requirement statsmodel==0.14.4 (from versions: none)\n",
      "ERROR: No matching distribution found for statsmodel==0.14.4\n"
     ]
    }
   ],
   "source": [
    "## La version de python utilisée est 3.12.7\n",
    "\n",
    "!pip install -r requirements.txt -q"
   ]
  },
  {
   "cell_type": "code",
   "execution_count": 22,
   "metadata": {},
   "outputs": [],
   "source": [
    "import pandas as pd\n",
    "import requests as rq\n",
    "import lxml as lxml\n",
    "from bs4 import BeautifulSoup\n",
    "import io as io\n",
    "import math\n",
    "import gzip\n",
    "import shutil\n",
    "import os\n",
    "import geopandas as gpd\n",
    "import matplotlib.pyplot as plt\n",
    "import folium\n",
    "import json\n",
    "from pandasgui import show\n",
    "import numpy as np\n",
    "from io import BytesIO\n",
    "from folium.plugins import HeatMap\n",
    "import nbconvert\n",
    "from shapely.geometry import Point\n",
    "import overpy\n",
    "import ast\n",
    "from decimal import Decimal\n",
    "\n",
    "from script import geolocaliser\n",
    "from script import process_data\n",
    "from geopy.geocoders import Nominatim\n",
    "from geopy.exc import GeocoderTimedOut"
   ]
  },
  {
   "cell_type": "code",
   "execution_count": null,
   "metadata": {},
   "outputs": [
    {
     "name": "stderr",
     "output_type": "stream",
     "text": [
      "PandasGUI INFO — pandasgui.gui — Opening PandasGUI\n"
     ]
    },
    {
     "name": "stdout",
     "output_type": "stream",
     "text": [
      "Index(['Région', 'ID département', 'Nom département', 'Code Insee comm.',\n",
      "       'Nom commune', 'Classement', 'Motif du classement',\n",
      "       'nom de l'entité géographique dont le littoral est protégé',\n",
      "       'Population', 'commune déleguée'],\n",
      "      dtype='object')\n"
     ]
    },
    {
     "name": "stderr",
     "output_type": "stream",
     "text": [
      "C:\\Users\\flori\\AppData\\Local\\Temp\\ipykernel_18056\\1155764729.py:13: FutureWarning: Series.__getitem__ treating keys as positions is deprecated. In a future version, integer keys will always be treated as labels (consistent with DataFrame behavior). To access a value by position, use `ser.iloc[pos]`\n",
      "  show(df_cotieres)\n",
      "C:\\Users\\flori\\AppData\\Local\\Temp\\ipykernel_18056\\1155764729.py:13: FutureWarning: Series.__getitem__ treating keys as positions is deprecated. In a future version, integer keys will always be treated as labels (consistent with DataFrame behavior). To access a value by position, use `ser.iloc[pos]`\n",
      "  show(df_cotieres)\n",
      "C:\\Users\\flori\\AppData\\Local\\Temp\\ipykernel_18056\\1155764729.py:13: FutureWarning:\n",
      "\n",
      "Series.__getitem__ treating keys as positions is deprecated. In a future version, integer keys will always be treated as labels (consistent with DataFrame behavior). To access a value by position, use `ser.iloc[pos]`\n",
      "\n",
      "C:\\Users\\flori\\AppData\\Local\\Temp\\ipykernel_18056\\1155764729.py:13: FutureWarning:\n",
      "\n",
      "Series.__getitem__ treating keys as positions is deprecated. In a future version, integer keys will always be treated as labels (consistent with DataFrame behavior). To access a value by position, use `ser.iloc[pos]`\n",
      "\n",
      "C:\\Users\\flori\\AppData\\Local\\Temp\\ipykernel_18056\\1155764729.py:13: FutureWarning:\n",
      "\n",
      "Series.__getitem__ treating keys as positions is deprecated. In a future version, integer keys will always be treated as labels (consistent with DataFrame behavior). To access a value by position, use `ser.iloc[pos]`\n",
      "\n",
      "C:\\Users\\flori\\AppData\\Local\\Temp\\ipykernel_18056\\1155764729.py:13: FutureWarning:\n",
      "\n",
      "Series.__getitem__ treating keys as positions is deprecated. In a future version, integer keys will always be treated as labels (consistent with DataFrame behavior). To access a value by position, use `ser.iloc[pos]`\n",
      "\n"
     ]
    },
    {
     "data": {
      "text/plain": [
       "<pandasgui.gui.PandasGui at 0x2302bfd0440>"
      ]
     },
     "execution_count": 3,
     "metadata": {},
     "output_type": "execute_result"
    }
   ],
   "source": [
    "# URL du fichier Excel\n",
    "url_cotier = 'https://comersis.com/free-download.php?f=communes_littorales_2019.xlsx&d=littoral'\n",
    "\n",
    "# Télécharger le fichier\n",
    "response = rq.get(url_cotier)\n",
    "\n",
    "# Lire le fichier Excel dans un DataFrame\n",
    "df_cotieres = pd.read_excel(BytesIO(response.content))\n",
    "df_cotieres = df_cotieres[df_cotieres['Région'] != \"Départements d'Outre-Mer\"]\n",
    "\n",
    "\n",
    "print(df_cotieres.columns)"
   ]
  },
  {
   "cell_type": "code",
   "execution_count": 4,
   "metadata": {},
   "outputs": [
    {
     "name": "stdout",
     "output_type": "stream",
     "text": [
      "Index(['Région', 'ID département', 'Nom département', 'Code Insee comm.',\n",
      "       'Nom commune', 'Classement', 'Motif du classement',\n",
      "       'nom de l'entité géographique dont le littoral est protégé',\n",
      "       'Population', 'commune déleguée'],\n",
      "      dtype='object')\n",
      "['Beaulieu-sur-Mer', 'Cagnes-sur-Mer', 'Cannes', \"Cap-d'Ail\", 'Eze', 'Mandelieu-la-Napoule', 'Menton', 'Nice', 'Roquebrune-Cap-Martin']\n",
      "                       Région  nombre_communes  population_totale\n",
      "0                    Bretagne              149             912313\n",
      "1                       Corse               40             217634\n",
      "2             Hauts de France               40             384693\n",
      "3                   Normandie               83             659647\n",
      "4          Nouvelle Aquitaine               71             503920\n",
      "5                   Occitanie               27             237370\n",
      "6            Pays-de-la-Loire               44             352067\n",
      "7  Provence-Alpes-Côte d'Azur               52            2290433\n"
     ]
    },
    {
     "name": "stderr",
     "output_type": "stream",
     "text": [
      "C:\\Users\\flori\\AppData\\Local\\Temp\\ipykernel_18056\\4085312016.py:9: DeprecationWarning:\n",
      "\n",
      "DataFrameGroupBy.apply operated on the grouping columns. This behavior is deprecated, and in a future version of pandas the grouping columns will be excluded from the operation. Either pass `include_groups=False` to exclude the groupings or explicitly select the grouping columns after groupby to silence this warning.\n",
      "\n"
     ]
    }
   ],
   "source": [
    "# Filtrer sur le Motif du classement\n",
    "df_cotieres = df_cotieres[df_cotieres['Motif du classement'] == \"Commune riveraine de la mer ou d'un océan\"]\n",
    "df_cotieres = df_cotieres[df_cotieres['Population'] > 1000]\n",
    "\n",
    "print(df_cotieres.columns)\n",
    "liste_cotieres = df_cotieres['Nom commune'].unique().tolist()\n",
    "print(liste_cotieres[1:10])\n",
    "# Statistiques par \"Région\" pour les communes filtrées\n",
    "stats_region_filtered = df_cotieres.groupby('Région').apply(\n",
    "    lambda x: pd.Series({\n",
    "        'nombre_communes': x['Nom commune'].nunique(),\n",
    "        'population_totale': x['Population'].sum()\n",
    "    })\n",
    ").reset_index()\n",
    "\n",
    "# Afficher les résultats\n",
    "print(stats_region_filtered)"
   ]
  },
  {
   "cell_type": "code",
   "execution_count": null,
   "metadata": {},
   "outputs": [],
   "source": [
    "# Charger le fichier GeoJSON des communes de France depuis le lien GitHub\n",
    "url_commune = 'https://raw.githubusercontent.com/gregoiredavid/france-geojson/master/communes.geojson'\n",
    "response_commune = rq.get(url_commune)\n",
    "communes_geojson = response_commune.json()\n",
    "\n",
    "# Charger le GeoJSON dans un GeoDataFrame\n",
    "gdf_communes = gpd.GeoDataFrame.from_features(communes_geojson['features'])\n",
    "gdf_communes_cotieres = gdf_communes[gdf_communes['nom'].isin(liste_cotieres)]\n",
    "gdf_communes_cotieres = gdf_communes_cotieres.merge(df_cotieres[['Nom commune', 'Population']], \n",
    "                                                    left_on='nom', \n",
    "                                                    right_on='Nom commune'\n",
    "                                                    ).drop(columns=['Nom commune'])\n",
    "# Calculer les centroïdes pour chaque commune\n",
    "gdf_communes_cotieres['centroid'] = gdf_communes_cotieres.geometry.centroid\n",
    "gdf_communes_cotieres['latitude_centre'] = gdf_communes_cotieres['centroid'].y\n",
    "gdf_communes_cotieres['longitude_centre'] = gdf_communes_cotieres['centroid'].x\n",
    "gdf_communes_cotieres = gdf_communes_cotieres.drop(columns=['centroid'])\n",
    "\n",
    "liste_commune = gdf_communes_cotieres['nom'].to_list()"
   ]
  },
  {
   "cell_type": "code",
   "execution_count": 8,
   "metadata": {},
   "outputs": [],
   "source": [
    "# Appliquer la fonction sur chaque commune\n",
    "api = overpy.Overpass()\n",
    "\n",
    "gdf_communes_cotieres[['latitude_mairie', 'longitude_mairie']] = gdf_communes_cotieres.apply(\n",
    "    lambda row: pd.Series(geolocaliser.get_townhall_coordinates(row['nom'], api)),\n",
    "    axis=1\n",
    ")"
   ]
  },
  {
   "cell_type": "code",
   "execution_count": 10,
   "metadata": {},
   "outputs": [
    {
     "name": "stdout",
     "output_type": "stream",
     "text": [
      "Aucune donnée trouvée pour l'adresse : Bureau+du+Maire+de+Bonifacio\n",
      "Aucune donnée trouvée pour l'adresse : Bâtiment+Municipal+de+Bonifacio\n",
      "Aucune donnée trouvée pour l'adresse : Maison+des+Services+de+Bonifacio\n",
      "Aucune donnée trouvée pour l'adresse : Bureau+du+Maire+de+Zuydcoote\n",
      "Aucune donnée trouvée pour l'adresse : Bâtiment+Municipal+de+Zuydcoote\n",
      "Aucune donnée trouvée pour l'adresse : Maison+des+Services+de+Zuydcoote\n",
      "Aucune donnée trouvée pour l'adresse : Bâtiment+Municipal+de+Château-d'Olonne\n",
      "Aucune donnée trouvée pour l'adresse : Bureau+du+Maire+de+Sauzon\n",
      "Aucune donnée trouvée pour l'adresse : Bâtiment+Municipal+de+Sauzon\n",
      "Aucune donnée trouvée pour l'adresse : Maison+des+Services+de+Sauzon\n",
      "Aucune donnée trouvée pour l'adresse : Bureau+du+Maire+de+Saint-Pabu\n",
      "Aucune donnée trouvée pour l'adresse : Bâtiment+Municipal+de+Saint-Pabu\n",
      "Aucune donnée trouvée pour l'adresse : Maison+des+Services+de+Saint-Pabu\n",
      "Aucune donnée trouvée pour l'adresse : Bureau+du+Maire+de+Saint-Laurent-du-Var\n",
      "Aucune donnée trouvée pour l'adresse : Bureau+du+Maire+de+Réville\n",
      "Aucune donnée trouvée pour l'adresse : Bâtiment+Municipal+de+Réville\n",
      "Aucune donnée trouvée pour l'adresse : Maison+des+Services+de+Réville\n",
      "Aucune donnée trouvée pour l'adresse : Bureau+du+Maire+de+Plouguerneau\n",
      "Aucune donnée trouvée pour l'adresse : Bâtiment+Municipal+de+Plouguerneau\n",
      "Aucune donnée trouvée pour l'adresse : Maison+des+Services+de+Plouguerneau\n",
      "Aucune donnée trouvée pour l'adresse : Bureau+du+Maire+de+Penmarch\n",
      "Aucune donnée trouvée pour l'adresse : Bâtiment+Municipal+de+Penmarch\n",
      "Aucune donnée trouvée pour l'adresse : Maison+des+Services+de+Penmarch\n",
      "Aucune donnée trouvée pour l'adresse : Bureau+du+Maire+de+Poullan-sur-Mer\n",
      "Aucune donnée trouvée pour l'adresse : Bureau+du+Maire+de+Gravelines\n",
      "Aucune donnée trouvée pour l'adresse : Bâtiment+Municipal+de+Gravelines\n",
      "Aucune donnée trouvée pour l'adresse : Maison+des+Services+de+Gravelines\n",
      "Aucune donnée trouvée pour l'adresse : Bâtiment+Municipal+de+Ver-sur-Mer\n",
      "Aucune donnée trouvée pour l'adresse : Bureau+du+Maire+de+Carnac\n",
      "Aucune donnée trouvée pour l'adresse : Bâtiment+Municipal+de+Carnac\n",
      "Aucune donnée trouvée pour l'adresse : Maison+des+Services+de+Carnac\n",
      "Aucune donnée trouvée pour l'adresse : Bureau+du+Maire+de+Pirou\n",
      "Aucune donnée trouvée pour l'adresse : Bâtiment+Municipal+de+Pirou\n",
      "Aucune donnée trouvée pour l'adresse : Bureau+du+Maire+de+Cucq\n",
      "Aucune donnée trouvée pour l'adresse : Bâtiment+Municipal+de+Cucq\n",
      "Aucune donnée trouvée pour l'adresse : Bureau+du+Maire+de+Sangatte\n",
      "Aucune donnée trouvée pour l'adresse : Bâtiment+Municipal+de+Sangatte\n",
      "Aucune donnée trouvée pour l'adresse : Maison+des+Services+de+Sangatte\n",
      "Aucune donnée trouvée pour l'adresse : Bureau+du+Maire+de+Bernières-sur-Mer\n",
      "Aucune donnée trouvée pour l'adresse : Bâtiment+Municipal+de+Bernières-sur-Mer\n",
      "Aucune donnée trouvée pour l'adresse : Maison+des+Services+de+Bernières-sur-Mer\n",
      "Aucune donnée trouvée pour l'adresse : Bureau+du+Maire+de+Deauville\n",
      "Aucune donnée trouvée pour l'adresse : Bâtiment+Municipal+de+Deauville\n",
      "Aucune donnée trouvée pour l'adresse : Maison+des+Services+de+Deauville\n",
      "Aucune donnée trouvée pour l'adresse : Bureau+du+Maire+de+Luc-sur-Mer\n",
      "Aucune donnée trouvée pour l'adresse : Bâtiment+Municipal+de+Luc-sur-Mer\n",
      "Aucune donnée trouvée pour l'adresse : Bureau+du+Maire+de+Saint-Aubin-sur-Mer\n",
      "Aucune donnée trouvée pour l'adresse : Bâtiment+Municipal+de+Saint-Aubin-sur-Mer\n",
      "Aucune donnée trouvée pour l'adresse : Bureau+du+Maire+de+Villers-sur-Mer\n",
      "Aucune donnée trouvée pour l'adresse : Bâtiment+Municipal+de+Villers-sur-Mer\n",
      "Aucune donnée trouvée pour l'adresse : Bureau+du+Maire+de+Propriano\n",
      "Aucune donnée trouvée pour l'adresse : Bâtiment+Municipal+de+Propriano\n",
      "Aucune donnée trouvée pour l'adresse : Maison+des+Services+de+Propriano\n",
      "Aucune donnée trouvée pour l'adresse : Bureau+du+Maire+de+Conca\n",
      "Aucune donnée trouvée pour l'adresse : Bâtiment+Municipal+de+Conca\n",
      "Aucune donnée trouvée pour l'adresse : Maison+des+Services+de+Conca\n",
      "Aucune donnée trouvée pour l'adresse : Bureau+du+Maire+de+Aléria\n",
      "Aucune donnée trouvée pour l'adresse : Bâtiment+Municipal+de+Aléria\n",
      "Aucune donnée trouvée pour l'adresse : Maison+des+Services+de+Aléria\n",
      "Aucune donnée trouvée pour l'adresse : Bureau+du+Maire+de+Torreilles\n",
      "Aucune donnée trouvée pour l'adresse : Bâtiment+Municipal+de+Torreilles\n",
      "Aucune donnée trouvée pour l'adresse : Maison+des+Services+de+Torreilles\n",
      "Aucune donnée trouvée pour l'adresse : Bureau+du+Maire+de+Cassis\n",
      "Aucune donnée trouvée pour l'adresse : Bâtiment+Municipal+de+Cassis\n",
      "Aucune donnée trouvée pour l'adresse : Maison+des+Services+de+Cassis\n",
      "Aucune donnée trouvée pour l'adresse : Bureau+du+Maire+de+Royan\n",
      "Aucune donnée trouvée pour l'adresse : Bâtiment+Municipal+de+Royan\n",
      "Aucune donnée trouvée pour l'adresse : Bureau+du+Maire+de+Saint-Palais-sur-Mer\n",
      "Aucune donnée trouvée pour l'adresse : Bâtiment+Municipal+de+Vaux-sur-Mer\n",
      "Aucune donnée trouvée pour l'adresse : Bureau+du+Maire+de+Bidart\n",
      "Aucune donnée trouvée pour l'adresse : Bâtiment+Municipal+de+Bidart\n",
      "Aucune donnée trouvée pour l'adresse : Maison+des+Services+de+Bidart\n",
      "Aucune donnée trouvée pour l'adresse : Bureau+du+Maire+de+Ciboure\n",
      "Aucune donnée trouvée pour l'adresse : Bâtiment+Municipal+de+Ciboure\n",
      "Aucune donnée trouvée pour l'adresse : Maison+des+Services+de+Ciboure\n",
      "Aucune donnée trouvée pour l'adresse : Bureau+du+Maire+de+Guéthary\n",
      "Aucune donnée trouvée pour l'adresse : Bâtiment+Municipal+de+Guéthary\n",
      "Aucune donnée trouvée pour l'adresse : Maison+des+Services+de+Guéthary\n",
      "Aucune donnée trouvée pour l'adresse : Bureau+du+Maire+de+Saint-Jean-de-Luz\n",
      "Aucune donnée trouvée pour l'adresse : Bâtiment+Municipal+de+Saint-Jean-de-Luz\n",
      "Aucune donnée trouvée pour l'adresse : Bureau+du+Maire+de+Charron\n",
      "Aucune donnée trouvée pour l'adresse : Bâtiment+Municipal+de+Charron\n",
      "Aucune donnée trouvée pour l'adresse : Maison+des+Services+de+Charron\n"
     ]
    }
   ],
   "source": [
    "# Liste des mots-clés pour localiser les mairies\n",
    "mots_cles = [\n",
    "    \"Mairie+de\", \n",
    "    \"Hotel+de+ville+de\", \n",
    "    \"Bureau+du+Maire+de\", \n",
    "    \"Salle+des+Fêtes+de\", \n",
    "    \"Maison+Communale+de\", \n",
    "    \"Centre+Administratif+de\", \n",
    "    \"Hôtel+de+Ville\", \n",
    "    \"Bâtiment+Municipal+de\", \n",
    "    \"Mairie+municipale+de\", \n",
    "    \"Maison+des+Services+de\"\n",
    "]\n",
    "\n",
    "# Compléter les coordonnées manquantes\n",
    "gdf_communes_cotieres = geolocaliser.geolocaliser_mot_cle(\n",
    "    gdf_communes_cotieres, \n",
    "    colonne_commune='nom', \n",
    "    colonne_geometry='geometry', \n",
    "    mots_cles=mots_cles, \n",
    "    colonne_latitude='latitude_mairie', \n",
    "    colonne_longitude='longitude_mairie'\n",
    ")"
   ]
  },
  {
   "cell_type": "code",
   "execution_count": 11,
   "metadata": {},
   "outputs": [],
   "source": [
    "# Liste des mots-clés pour localiser les plages\n",
    "mots_cles_plages = [ \n",
    "    \"Plage+de\",\n",
    "    \"Plage\"\n",
    "]\n",
    "\n",
    "# Compléter les coordonnées manquantes pour les plages\n",
    "gdf_communes_cotieres = geolocaliser.geolocaliser_mot_cle(\n",
    "    gdf_communes_cotieres, \n",
    "    colonne_commune='nom', \n",
    "    colonne_geometry='geometry', \n",
    "    mots_cles=mots_cles_plages, \n",
    "    colonne_latitude='latitude_plage', \n",
    "    colonne_longitude='longitude_plage'\n",
    ")"
   ]
  },
  {
   "cell_type": "code",
   "execution_count": 12,
   "metadata": {},
   "outputs": [
    {
     "name": "stderr",
     "output_type": "stream",
     "text": [
      "PandasGUI INFO — pandasgui.gui — Opening PandasGUI\n",
      "C:\\Users\\flori\\AppData\\Local\\Temp\\ipykernel_18056\\717718677.py:1: FutureWarning:\n",
      "\n",
      "Series.__getitem__ treating keys as positions is deprecated. In a future version, integer keys will always be treated as labels (consistent with DataFrame behavior). To access a value by position, use `ser.iloc[pos]`\n",
      "\n",
      "C:\\Users\\flori\\AppData\\Local\\Temp\\ipykernel_18056\\717718677.py:1: FutureWarning:\n",
      "\n",
      "Series.__getitem__ treating keys as positions is deprecated. In a future version, integer keys will always be treated as labels (consistent with DataFrame behavior). To access a value by position, use `ser.iloc[pos]`\n",
      "\n",
      "C:\\Users\\flori\\AppData\\Local\\Temp\\ipykernel_18056\\717718677.py:1: FutureWarning:\n",
      "\n",
      "Series.__getitem__ treating keys as positions is deprecated. In a future version, integer keys will always be treated as labels (consistent with DataFrame behavior). To access a value by position, use `ser.iloc[pos]`\n",
      "\n",
      "C:\\Users\\flori\\AppData\\Local\\Temp\\ipykernel_18056\\717718677.py:1: FutureWarning:\n",
      "\n",
      "Series.__getitem__ treating keys as positions is deprecated. In a future version, integer keys will always be treated as labels (consistent with DataFrame behavior). To access a value by position, use `ser.iloc[pos]`\n",
      "\n",
      "C:\\Users\\flori\\AppData\\Local\\Temp\\ipykernel_18056\\717718677.py:1: FutureWarning:\n",
      "\n",
      "Series.__getitem__ treating keys as positions is deprecated. In a future version, integer keys will always be treated as labels (consistent with DataFrame behavior). To access a value by position, use `ser.iloc[pos]`\n",
      "\n",
      "C:\\Users\\flori\\AppData\\Local\\Temp\\ipykernel_18056\\717718677.py:1: FutureWarning:\n",
      "\n",
      "Series.__getitem__ treating keys as positions is deprecated. In a future version, integer keys will always be treated as labels (consistent with DataFrame behavior). To access a value by position, use `ser.iloc[pos]`\n",
      "\n"
     ]
    },
    {
     "data": {
      "text/plain": [
       "<pandasgui.gui.PandasGui at 0x23011f51ac0>"
      ]
     },
     "execution_count": 12,
     "metadata": {},
     "output_type": "execute_result"
    }
   ],
   "source": [
    "show(gdf_communes_cotieres)"
   ]
  },
  {
   "cell_type": "code",
   "execution_count": 13,
   "metadata": {},
   "outputs": [],
   "source": [
    "# Utilisation de la fonction avec un GeoDataFrame\n",
    "api = overpy.Overpass()\n",
    "import importlib\n",
    "\n",
    "# Recharger le module geolocaliser\n",
    "import script.geolocaliser\n",
    "importlib.reload(script.geolocaliser)\n",
    "gdf_communes_cotieres['beach_coordinates'] = gdf_communes_cotieres.apply(\n",
    "    lambda row: geolocaliser.get_beach_coordinates(row['nom'], api),\n",
    "    axis=1\n",
    ")"
   ]
  },
  {
   "cell_type": "code",
   "execution_count": 14,
   "metadata": {},
   "outputs": [],
   "source": [
    "api = overpy.Overpass()\n",
    "\n",
    "gdf_communes_cotieres['station'] = gdf_communes_cotieres.apply(\n",
    "    lambda row: geolocaliser.get_station_coordinates(row['nom'], api),\n",
    "    axis=1\n",
    ")"
   ]
  },
  {
   "cell_type": "code",
   "execution_count": 15,
   "metadata": {},
   "outputs": [],
   "source": [
    "# Liste des mots-clés pour localiser les gares\n",
    "mots_cles_gares = [ \n",
    "    \"Gare+de\"\n",
    "]\n",
    "\n",
    "# Compléter les coordonnées manquantes pour les pgares\n",
    "gdf_communes_cotieres = geolocaliser.geolocaliser_mot_cle(\n",
    "    gdf_communes_cotieres, \n",
    "    colonne_commune='nom', \n",
    "    colonne_geometry='geometry', \n",
    "    mots_cles=mots_cles_gares, \n",
    "    colonne_latitude='latitude_gare', \n",
    "    colonne_longitude='longitude_gare'\n",
    ")"
   ]
  },
  {
   "cell_type": "code",
   "execution_count": 16,
   "metadata": {},
   "outputs": [],
   "source": [
    "# api = overpy.Overpass()\n",
    "\n",
    "# gdf_communes_cotieres[['coast']] = gdf_communes_cotieres.apply(\n",
    "#     lambda row: pd.Series(geolocaliser.get_coastline(row['nom'], api)),\n",
    "#     axis=1\n",
    "# )"
   ]
  },
  {
   "cell_type": "code",
   "execution_count": null,
   "metadata": {},
   "outputs": [
    {
     "data": {
      "text/plain": [
       "<module 'script.process_data' from 'c:\\\\Users\\\\flori\\\\Documents\\\\Gitlab\\\\projet_python\\\\script\\\\process_data.py'>"
      ]
     },
     "execution_count": 25,
     "metadata": {},
     "output_type": "execute_result"
    }
   ],
   "source": [
    "# Utilisation de la fonction avec un GeoDataFrame\n",
    "api = overpy.Overpass()\n",
    "import importlib\n",
    "\n",
    "# Recharger le module geolocaliser\n",
    "import script.process_data\n",
    "importlib.reload(script.process_data)\n",
    "\n",
    "# Appliquer la fonction sur chaque commune\n",
    "api = overpy.Overpass()\n",
    "\n",
    "gdf_communes_cotieres[['latitude_port', 'longitude_port']] = gdf_communes_cotieres.apply(\n",
    "    lambda row: pd.Series(geolocaliser.get_ports(row['nom'], api)),\n",
    "    axis=1\n",
    ")"
   ]
  },
  {
   "cell_type": "code",
   "execution_count": 18,
   "metadata": {},
   "outputs": [
    {
     "name": "stdout",
     "output_type": "stream",
     "text": [
      "Aucune donnée trouvée pour l'adresse : Port+de+Saint-Pabu\n",
      "Aucune donnée trouvée pour l'adresse : Port+de+Criel-sur-Mer\n",
      "Aucune donnée trouvée pour l'adresse : Port+de+Urrugne\n"
     ]
    }
   ],
   "source": [
    "api = overpy.Overpass()\n",
    "\n",
    "# Liste des mots-clés pour localiser les plages\n",
    "mots_cles_ports = [ \n",
    "    \"Port+de\",\n",
    "]\n",
    "\n",
    "# Compléter les coordonnées manquantes pour les plages\n",
    "gdf_communes_cotieres = geolocaliser.geolocaliser_mot_cle(\n",
    "    gdf_communes_cotieres, \n",
    "    colonne_commune='nom', \n",
    "    colonne_geometry='geometry', \n",
    "    mots_cles=mots_cles_ports, \n",
    "    colonne_latitude='latitude_port', \n",
    "    colonne_longitude='longitude_port'\n",
    ")"
   ]
  },
  {
   "cell_type": "code",
   "execution_count": 19,
   "metadata": {},
   "outputs": [
    {
     "name": "stderr",
     "output_type": "stream",
     "text": [
      "PandasGUI INFO — pandasgui.gui — Opening PandasGUI\n",
      "C:\\Users\\flori\\AppData\\Local\\Temp\\ipykernel_18056\\717718677.py:1: FutureWarning:\n",
      "\n",
      "Series.__getitem__ treating keys as positions is deprecated. In a future version, integer keys will always be treated as labels (consistent with DataFrame behavior). To access a value by position, use `ser.iloc[pos]`\n",
      "\n",
      "C:\\Users\\flori\\AppData\\Local\\Temp\\ipykernel_18056\\717718677.py:1: FutureWarning:\n",
      "\n",
      "Series.__getitem__ treating keys as positions is deprecated. In a future version, integer keys will always be treated as labels (consistent with DataFrame behavior). To access a value by position, use `ser.iloc[pos]`\n",
      "\n",
      "C:\\Users\\flori\\AppData\\Local\\Temp\\ipykernel_18056\\717718677.py:1: FutureWarning:\n",
      "\n",
      "Series.__getitem__ treating keys as positions is deprecated. In a future version, integer keys will always be treated as labels (consistent with DataFrame behavior). To access a value by position, use `ser.iloc[pos]`\n",
      "\n",
      "C:\\Users\\flori\\AppData\\Local\\Temp\\ipykernel_18056\\717718677.py:1: FutureWarning:\n",
      "\n",
      "Series.__getitem__ treating keys as positions is deprecated. In a future version, integer keys will always be treated as labels (consistent with DataFrame behavior). To access a value by position, use `ser.iloc[pos]`\n",
      "\n",
      "C:\\Users\\flori\\AppData\\Local\\Temp\\ipykernel_18056\\717718677.py:1: FutureWarning:\n",
      "\n",
      "Series.__getitem__ treating keys as positions is deprecated. In a future version, integer keys will always be treated as labels (consistent with DataFrame behavior). To access a value by position, use `ser.iloc[pos]`\n",
      "\n",
      "C:\\Users\\flori\\AppData\\Local\\Temp\\ipykernel_18056\\717718677.py:1: FutureWarning:\n",
      "\n",
      "Series.__getitem__ treating keys as positions is deprecated. In a future version, integer keys will always be treated as labels (consistent with DataFrame behavior). To access a value by position, use `ser.iloc[pos]`\n",
      "\n"
     ]
    },
    {
     "data": {
      "text/plain": [
       "<pandasgui.gui.PandasGui at 0x23011526f90>"
      ]
     },
     "execution_count": 19,
     "metadata": {},
     "output_type": "execute_result"
    }
   ],
   "source": [
    "show(gdf_communes_cotieres)"
   ]
  },
  {
   "cell_type": "code",
   "execution_count": 26,
   "metadata": {},
   "outputs": [],
   "source": [
    "# Application\n",
    "gdf_communes_cotieres['station'] = gdf_communes_cotieres['station'].apply(process_data.fix_coordinates_format)\n",
    "gdf_communes_cotieres['beach_coordinates'] = gdf_communes_cotieres['beach_coordinates'].apply(process_data.fix_coordinates_format)"
   ]
  },
  {
   "cell_type": "code",
   "execution_count": 28,
   "metadata": {},
   "outputs": [],
   "source": [
    "gdf_communes_cotieres[\"beach_coordinates\"] = gdf_communes_cotieres.apply(\n",
    "    lambda row: row[\"beach_coordinates\"] + [(row[\"latitude_plage\"], row[\"longitude_plage\"])] if row[\"latitude_plage\"] is not None and row[\"longitude_plage\"] is not None else row[\"beach_coordinates\"],\n",
    "    axis=1\n",
    ")"
   ]
  },
  {
   "cell_type": "code",
   "execution_count": 30,
   "metadata": {},
   "outputs": [],
   "source": [
    "# Ajout des coordonnées à beach_coordinates\n",
    "gdf_communes_cotieres[\"station\"] = gdf_communes_cotieres.apply(\n",
    "    lambda row: row[\"station\"] + [(row[\"latitude_gare\"], row[\"longitude_gare\"])] if row[\"latitude_gare\"] is not None and row[\"longitude_gare\"] is not None else row[\"beach_coordinates\"],\n",
    "    axis=1\n",
    ")"
   ]
  },
  {
   "cell_type": "code",
   "execution_count": null,
   "metadata": {},
   "outputs": [],
   "source": [
    "gdf_communes_cotieres = gdf_communes_cotieres.drop(columns=['latitude_plage','longitude_plage','latitude_gare', 'longitude_gare','code'])"
   ]
  },
  {
   "cell_type": "code",
   "execution_count": null,
   "metadata": {},
   "outputs": [],
   "source": [
    "show(gdf_communes_cotieres)"
   ]
  },
  {
   "cell_type": "code",
   "execution_count": 32,
   "metadata": {},
   "outputs": [],
   "source": [
    "gdf_communes_cotieres.to_csv('data/communes_cotieres.csv',encoding=\"utf8\",sep=\";\",index=False)"
   ]
  },
  {
   "cell_type": "code",
   "execution_count": 33,
   "metadata": {},
   "outputs": [
    {
     "name": "stdout",
     "output_type": "stream",
     "text": [
      "          departementName\n",
      "0                   Aisne\n",
      "1                    Aube\n",
      "2                Calvados\n",
      "3                  Cantal\n",
      "4            Eure-et-Loir\n",
      "..                    ...\n",
      "91           Loir-et-Cher\n",
      "92                Mayenne\n",
      "93     Meurthe-et-Moselle\n",
      "94            Deux-Sèvres\n",
      "95  Territoire de Belfort\n",
      "\n",
      "[96 rows x 1 columns]\n"
     ]
    }
   ],
   "source": [
    "# URL du fichier GeoJSON des départements de France\n",
    "url_departement = \"https://france-geojson.gregoiredavid.fr/repo/departements.geojson\"\n",
    "\n",
    "# Récupérer le fichier GeoJSON des départements de France\n",
    "response = rq.get(url_departement)\n",
    "departements_geojson = response.json()\n",
    "\n",
    "# Créer une liste pour stocker les noms des départements\n",
    "departement_names = []\n",
    "\n",
    "# Extraire les noms des départements depuis les propriétés de chaque feature\n",
    "for feature in departements_geojson['features']:\n",
    "    departement_name = feature['properties']['nom']\n",
    "    departement_names.append(departement_name)\n",
    "\n",
    "# Créer un DataFrame avec les noms des départements\n",
    "df_departements = pd.DataFrame(departement_names, columns=['departementName'])\n",
    "    \n",
    "# Afficher le DataFrame\n",
    "print(df_departements)"
   ]
  }
 ],
 "metadata": {
  "kernelspec": {
   "display_name": "Python 3",
   "language": "python",
   "name": "python3"
  },
  "language_info": {
   "codemirror_mode": {
    "name": "ipython",
    "version": 3
   },
   "file_extension": ".py",
   "mimetype": "text/x-python",
   "name": "python",
   "nbconvert_exporter": "python",
   "pygments_lexer": "ipython3",
   "version": "3.12.7"
  }
 },
 "nbformat": 4,
 "nbformat_minor": 2
}
