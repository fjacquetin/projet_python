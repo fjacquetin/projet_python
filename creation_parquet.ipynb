{
 "cells": [
  {
   "cell_type": "code",
   "execution_count": 4,
   "metadata": {},
   "outputs": [],
   "source": [
    "## La version de python utilisée est 3.12.7\n",
    "\n",
    "!pip install -r requirements.txt -q"
   ]
  },
  {
   "cell_type": "code",
   "execution_count": 5,
   "metadata": {},
   "outputs": [],
   "source": [
    "import geopandas as gpd\n",
    "import pandas as pd\n",
    "import pyarrow as pa\n",
    "import pyarrow.parquet as pq\n",
    "from pandasgui import show\n",
    "import os\n",
    "from shapely import wkt\n"
   ]
  },
  {
   "cell_type": "code",
   "execution_count": null,
   "metadata": {},
   "outputs": [],
   "source": [
    "\n"
   ]
  },
  {
   "cell_type": "code",
   "execution_count": 6,
   "metadata": {},
   "outputs": [
    {
     "name": "stderr",
     "output_type": "stream",
     "text": [
      "C:\\Users\\flori\\AppData\\Local\\Packages\\PythonSoftwareFoundation.Python.3.12_qbz5n2kfra8p0\\LocalCache\\local-packages\\Python312\\site-packages\\pyogrio\\raw.py:198: RuntimeWarning: C:/Users/flori/OneDrive/Documents/tri_2020_sig_di/n_inondable_03_01for_s.shp contains polygon(s) with rings with invalid winding order. Autocorrecting them, but that shapefile should be corrected using ogr2ogr for example.\n",
      "  return ogr_read(\n",
      "C:\\Users\\flori\\AppData\\Local\\Packages\\PythonSoftwareFoundation.Python.3.12_qbz5n2kfra8p0\\LocalCache\\local-packages\\Python312\\site-packages\\pyogrio\\raw.py:198: RuntimeWarning: C:/Users/flori/OneDrive/Documents/tri_2020_sig_di/n_inondable_03_02moy_s.shp contains polygon(s) with rings with invalid winding order. Autocorrecting them, but that shapefile should be corrected using ogr2ogr for example.\n",
      "  return ogr_read(\n",
      "C:\\Users\\flori\\AppData\\Local\\Packages\\PythonSoftwareFoundation.Python.3.12_qbz5n2kfra8p0\\LocalCache\\local-packages\\Python312\\site-packages\\pyogrio\\raw.py:198: RuntimeWarning: C:/Users/flori/OneDrive/Documents/tri_2020_sig_di/n_inondable_03_04fai_s.shp contains polygon(s) with rings with invalid winding order. Autocorrecting them, but that shapefile should be corrected using ogr2ogr for example.\n",
      "  return ogr_read(\n"
     ]
    },
    {
     "ename": "KeyboardInterrupt",
     "evalue": "",
     "output_type": "error",
     "traceback": [
      "\u001b[1;31m---------------------------------------------------------------------------\u001b[0m",
      "\u001b[1;31mKeyboardInterrupt\u001b[0m                         Traceback (most recent call last)",
      "Cell \u001b[1;32mIn[6], line 40\u001b[0m\n\u001b[0;32m     37\u001b[0m df_combine \u001b[38;5;241m=\u001b[39m pd\u001b[38;5;241m.\u001b[39mconcat(dataframes, ignore_index\u001b[38;5;241m=\u001b[39m\u001b[38;5;28;01mTrue\u001b[39;00m)\n\u001b[0;32m     39\u001b[0m \u001b[38;5;66;03m# Convertir la colonne 'geometry' de WKT en objets géométriques\u001b[39;00m\n\u001b[1;32m---> 40\u001b[0m df_combine[\u001b[38;5;124m'\u001b[39m\u001b[38;5;124mgeometry\u001b[39m\u001b[38;5;124m'\u001b[39m] \u001b[38;5;241m=\u001b[39m \u001b[43mdf_combine\u001b[49m\u001b[43m[\u001b[49m\u001b[38;5;124;43m'\u001b[39;49m\u001b[38;5;124;43mgeometry\u001b[39;49m\u001b[38;5;124;43m'\u001b[39;49m\u001b[43m]\u001b[49m\u001b[38;5;241;43m.\u001b[39;49m\u001b[43mapply\u001b[49m\u001b[43m(\u001b[49m\u001b[43mwkt\u001b[49m\u001b[38;5;241;43m.\u001b[39;49m\u001b[43mloads\u001b[49m\u001b[43m)\u001b[49m\n\u001b[0;32m     42\u001b[0m \u001b[38;5;66;03m# Créer un GeoDataFrame à partir du DataFrame combiné\u001b[39;00m\n\u001b[0;32m     43\u001b[0m gdf_combine \u001b[38;5;241m=\u001b[39m gpd\u001b[38;5;241m.\u001b[39mGeoDataFrame(df_combine, geometry\u001b[38;5;241m=\u001b[39m\u001b[38;5;124m'\u001b[39m\u001b[38;5;124mgeometry\u001b[39m\u001b[38;5;124m'\u001b[39m)\n",
      "File \u001b[1;32m~\\AppData\\Local\\Packages\\PythonSoftwareFoundation.Python.3.12_qbz5n2kfra8p0\\LocalCache\\local-packages\\Python312\\site-packages\\pandas\\core\\series.py:4924\u001b[0m, in \u001b[0;36mSeries.apply\u001b[1;34m(self, func, convert_dtype, args, by_row, **kwargs)\u001b[0m\n\u001b[0;32m   4789\u001b[0m \u001b[38;5;28;01mdef\u001b[39;00m \u001b[38;5;21mapply\u001b[39m(\n\u001b[0;32m   4790\u001b[0m     \u001b[38;5;28mself\u001b[39m,\n\u001b[0;32m   4791\u001b[0m     func: AggFuncType,\n\u001b[1;32m   (...)\u001b[0m\n\u001b[0;32m   4796\u001b[0m     \u001b[38;5;241m*\u001b[39m\u001b[38;5;241m*\u001b[39mkwargs,\n\u001b[0;32m   4797\u001b[0m ) \u001b[38;5;241m-\u001b[39m\u001b[38;5;241m>\u001b[39m DataFrame \u001b[38;5;241m|\u001b[39m Series:\n\u001b[0;32m   4798\u001b[0m \u001b[38;5;250m    \u001b[39m\u001b[38;5;124;03m\"\"\"\u001b[39;00m\n\u001b[0;32m   4799\u001b[0m \u001b[38;5;124;03m    Invoke function on values of Series.\u001b[39;00m\n\u001b[0;32m   4800\u001b[0m \n\u001b[1;32m   (...)\u001b[0m\n\u001b[0;32m   4915\u001b[0m \u001b[38;5;124;03m    dtype: float64\u001b[39;00m\n\u001b[0;32m   4916\u001b[0m \u001b[38;5;124;03m    \"\"\"\u001b[39;00m\n\u001b[0;32m   4917\u001b[0m     \u001b[38;5;28;01mreturn\u001b[39;00m \u001b[43mSeriesApply\u001b[49m\u001b[43m(\u001b[49m\n\u001b[0;32m   4918\u001b[0m \u001b[43m        \u001b[49m\u001b[38;5;28;43mself\u001b[39;49m\u001b[43m,\u001b[49m\n\u001b[0;32m   4919\u001b[0m \u001b[43m        \u001b[49m\u001b[43mfunc\u001b[49m\u001b[43m,\u001b[49m\n\u001b[0;32m   4920\u001b[0m \u001b[43m        \u001b[49m\u001b[43mconvert_dtype\u001b[49m\u001b[38;5;241;43m=\u001b[39;49m\u001b[43mconvert_dtype\u001b[49m\u001b[43m,\u001b[49m\n\u001b[0;32m   4921\u001b[0m \u001b[43m        \u001b[49m\u001b[43mby_row\u001b[49m\u001b[38;5;241;43m=\u001b[39;49m\u001b[43mby_row\u001b[49m\u001b[43m,\u001b[49m\n\u001b[0;32m   4922\u001b[0m \u001b[43m        \u001b[49m\u001b[43margs\u001b[49m\u001b[38;5;241;43m=\u001b[39;49m\u001b[43margs\u001b[49m\u001b[43m,\u001b[49m\n\u001b[0;32m   4923\u001b[0m \u001b[43m        \u001b[49m\u001b[43mkwargs\u001b[49m\u001b[38;5;241;43m=\u001b[39;49m\u001b[43mkwargs\u001b[49m\u001b[43m,\u001b[49m\n\u001b[1;32m-> 4924\u001b[0m \u001b[43m    \u001b[49m\u001b[43m)\u001b[49m\u001b[38;5;241;43m.\u001b[39;49m\u001b[43mapply\u001b[49m\u001b[43m(\u001b[49m\u001b[43m)\u001b[49m\n",
      "File \u001b[1;32m~\\AppData\\Local\\Packages\\PythonSoftwareFoundation.Python.3.12_qbz5n2kfra8p0\\LocalCache\\local-packages\\Python312\\site-packages\\pandas\\core\\apply.py:1427\u001b[0m, in \u001b[0;36mSeriesApply.apply\u001b[1;34m(self)\u001b[0m\n\u001b[0;32m   1424\u001b[0m     \u001b[38;5;28;01mreturn\u001b[39;00m \u001b[38;5;28mself\u001b[39m\u001b[38;5;241m.\u001b[39mapply_compat()\n\u001b[0;32m   1426\u001b[0m \u001b[38;5;66;03m# self.func is Callable\u001b[39;00m\n\u001b[1;32m-> 1427\u001b[0m \u001b[38;5;28;01mreturn\u001b[39;00m \u001b[38;5;28;43mself\u001b[39;49m\u001b[38;5;241;43m.\u001b[39;49m\u001b[43mapply_standard\u001b[49m\u001b[43m(\u001b[49m\u001b[43m)\u001b[49m\n",
      "File \u001b[1;32m~\\AppData\\Local\\Packages\\PythonSoftwareFoundation.Python.3.12_qbz5n2kfra8p0\\LocalCache\\local-packages\\Python312\\site-packages\\pandas\\core\\apply.py:1507\u001b[0m, in \u001b[0;36mSeriesApply.apply_standard\u001b[1;34m(self)\u001b[0m\n\u001b[0;32m   1501\u001b[0m \u001b[38;5;66;03m# row-wise access\u001b[39;00m\n\u001b[0;32m   1502\u001b[0m \u001b[38;5;66;03m# apply doesn't have a `na_action` keyword and for backward compat reasons\u001b[39;00m\n\u001b[0;32m   1503\u001b[0m \u001b[38;5;66;03m# we need to give `na_action=\"ignore\"` for categorical data.\u001b[39;00m\n\u001b[0;32m   1504\u001b[0m \u001b[38;5;66;03m# TODO: remove the `na_action=\"ignore\"` when that default has been changed in\u001b[39;00m\n\u001b[0;32m   1505\u001b[0m \u001b[38;5;66;03m#  Categorical (GH51645).\u001b[39;00m\n\u001b[0;32m   1506\u001b[0m action \u001b[38;5;241m=\u001b[39m \u001b[38;5;124m\"\u001b[39m\u001b[38;5;124mignore\u001b[39m\u001b[38;5;124m\"\u001b[39m \u001b[38;5;28;01mif\u001b[39;00m \u001b[38;5;28misinstance\u001b[39m(obj\u001b[38;5;241m.\u001b[39mdtype, CategoricalDtype) \u001b[38;5;28;01melse\u001b[39;00m \u001b[38;5;28;01mNone\u001b[39;00m\n\u001b[1;32m-> 1507\u001b[0m mapped \u001b[38;5;241m=\u001b[39m \u001b[43mobj\u001b[49m\u001b[38;5;241;43m.\u001b[39;49m\u001b[43m_map_values\u001b[49m\u001b[43m(\u001b[49m\n\u001b[0;32m   1508\u001b[0m \u001b[43m    \u001b[49m\u001b[43mmapper\u001b[49m\u001b[38;5;241;43m=\u001b[39;49m\u001b[43mcurried\u001b[49m\u001b[43m,\u001b[49m\u001b[43m \u001b[49m\u001b[43mna_action\u001b[49m\u001b[38;5;241;43m=\u001b[39;49m\u001b[43maction\u001b[49m\u001b[43m,\u001b[49m\u001b[43m \u001b[49m\u001b[43mconvert\u001b[49m\u001b[38;5;241;43m=\u001b[39;49m\u001b[38;5;28;43mself\u001b[39;49m\u001b[38;5;241;43m.\u001b[39;49m\u001b[43mconvert_dtype\u001b[49m\n\u001b[0;32m   1509\u001b[0m \u001b[43m\u001b[49m\u001b[43m)\u001b[49m\n\u001b[0;32m   1511\u001b[0m \u001b[38;5;28;01mif\u001b[39;00m \u001b[38;5;28mlen\u001b[39m(mapped) \u001b[38;5;129;01mand\u001b[39;00m \u001b[38;5;28misinstance\u001b[39m(mapped[\u001b[38;5;241m0\u001b[39m], ABCSeries):\n\u001b[0;32m   1512\u001b[0m     \u001b[38;5;66;03m# GH#43986 Need to do list(mapped) in order to get treated as nested\u001b[39;00m\n\u001b[0;32m   1513\u001b[0m     \u001b[38;5;66;03m#  See also GH#25959 regarding EA support\u001b[39;00m\n\u001b[0;32m   1514\u001b[0m     \u001b[38;5;28;01mreturn\u001b[39;00m obj\u001b[38;5;241m.\u001b[39m_constructor_expanddim(\u001b[38;5;28mlist\u001b[39m(mapped), index\u001b[38;5;241m=\u001b[39mobj\u001b[38;5;241m.\u001b[39mindex)\n",
      "File \u001b[1;32m~\\AppData\\Local\\Packages\\PythonSoftwareFoundation.Python.3.12_qbz5n2kfra8p0\\LocalCache\\local-packages\\Python312\\site-packages\\pandas\\core\\base.py:921\u001b[0m, in \u001b[0;36mIndexOpsMixin._map_values\u001b[1;34m(self, mapper, na_action, convert)\u001b[0m\n\u001b[0;32m    918\u001b[0m \u001b[38;5;28;01mif\u001b[39;00m \u001b[38;5;28misinstance\u001b[39m(arr, ExtensionArray):\n\u001b[0;32m    919\u001b[0m     \u001b[38;5;28;01mreturn\u001b[39;00m arr\u001b[38;5;241m.\u001b[39mmap(mapper, na_action\u001b[38;5;241m=\u001b[39mna_action)\n\u001b[1;32m--> 921\u001b[0m \u001b[38;5;28;01mreturn\u001b[39;00m \u001b[43malgorithms\u001b[49m\u001b[38;5;241;43m.\u001b[39;49m\u001b[43mmap_array\u001b[49m\u001b[43m(\u001b[49m\u001b[43marr\u001b[49m\u001b[43m,\u001b[49m\u001b[43m \u001b[49m\u001b[43mmapper\u001b[49m\u001b[43m,\u001b[49m\u001b[43m \u001b[49m\u001b[43mna_action\u001b[49m\u001b[38;5;241;43m=\u001b[39;49m\u001b[43mna_action\u001b[49m\u001b[43m,\u001b[49m\u001b[43m \u001b[49m\u001b[43mconvert\u001b[49m\u001b[38;5;241;43m=\u001b[39;49m\u001b[43mconvert\u001b[49m\u001b[43m)\u001b[49m\n",
      "File \u001b[1;32m~\\AppData\\Local\\Packages\\PythonSoftwareFoundation.Python.3.12_qbz5n2kfra8p0\\LocalCache\\local-packages\\Python312\\site-packages\\pandas\\core\\algorithms.py:1743\u001b[0m, in \u001b[0;36mmap_array\u001b[1;34m(arr, mapper, na_action, convert)\u001b[0m\n\u001b[0;32m   1741\u001b[0m values \u001b[38;5;241m=\u001b[39m arr\u001b[38;5;241m.\u001b[39mastype(\u001b[38;5;28mobject\u001b[39m, copy\u001b[38;5;241m=\u001b[39m\u001b[38;5;28;01mFalse\u001b[39;00m)\n\u001b[0;32m   1742\u001b[0m \u001b[38;5;28;01mif\u001b[39;00m na_action \u001b[38;5;129;01mis\u001b[39;00m \u001b[38;5;28;01mNone\u001b[39;00m:\n\u001b[1;32m-> 1743\u001b[0m     \u001b[38;5;28;01mreturn\u001b[39;00m \u001b[43mlib\u001b[49m\u001b[38;5;241;43m.\u001b[39;49m\u001b[43mmap_infer\u001b[49m\u001b[43m(\u001b[49m\u001b[43mvalues\u001b[49m\u001b[43m,\u001b[49m\u001b[43m \u001b[49m\u001b[43mmapper\u001b[49m\u001b[43m,\u001b[49m\u001b[43m \u001b[49m\u001b[43mconvert\u001b[49m\u001b[38;5;241;43m=\u001b[39;49m\u001b[43mconvert\u001b[49m\u001b[43m)\u001b[49m\n\u001b[0;32m   1744\u001b[0m \u001b[38;5;28;01melse\u001b[39;00m:\n\u001b[0;32m   1745\u001b[0m     \u001b[38;5;28;01mreturn\u001b[39;00m lib\u001b[38;5;241m.\u001b[39mmap_infer_mask(\n\u001b[0;32m   1746\u001b[0m         values, mapper, mask\u001b[38;5;241m=\u001b[39misna(values)\u001b[38;5;241m.\u001b[39mview(np\u001b[38;5;241m.\u001b[39muint8), convert\u001b[38;5;241m=\u001b[39mconvert\n\u001b[0;32m   1747\u001b[0m     )\n",
      "File \u001b[1;32mlib.pyx:2972\u001b[0m, in \u001b[0;36mpandas._libs.lib.map_infer\u001b[1;34m()\u001b[0m\n",
      "File \u001b[1;32m~\\AppData\\Local\\Packages\\PythonSoftwareFoundation.Python.3.12_qbz5n2kfra8p0\\LocalCache\\local-packages\\Python312\\site-packages\\shapely\\wkt.py:22\u001b[0m, in \u001b[0;36mloads\u001b[1;34m(data)\u001b[0m\n\u001b[0;32m      9\u001b[0m \u001b[38;5;28;01mdef\u001b[39;00m \u001b[38;5;21mloads\u001b[39m(data):\n\u001b[0;32m     10\u001b[0m \u001b[38;5;250m    \u001b[39m\u001b[38;5;124;03m\"\"\"\u001b[39;00m\n\u001b[0;32m     11\u001b[0m \u001b[38;5;124;03m    Load a geometry from a WKT string.\u001b[39;00m\n\u001b[0;32m     12\u001b[0m \n\u001b[1;32m   (...)\u001b[0m\n\u001b[0;32m     20\u001b[0m \u001b[38;5;124;03m    Shapely geometry object\u001b[39;00m\n\u001b[0;32m     21\u001b[0m \u001b[38;5;124;03m    \"\"\"\u001b[39;00m\n\u001b[1;32m---> 22\u001b[0m     \u001b[38;5;28;01mreturn\u001b[39;00m \u001b[43mshapely\u001b[49m\u001b[38;5;241;43m.\u001b[39;49m\u001b[43mfrom_wkt\u001b[49m\u001b[43m(\u001b[49m\u001b[43mdata\u001b[49m\u001b[43m)\u001b[49m\n",
      "File \u001b[1;32m~\\AppData\\Local\\Packages\\PythonSoftwareFoundation.Python.3.12_qbz5n2kfra8p0\\LocalCache\\local-packages\\Python312\\site-packages\\shapely\\io.py:282\u001b[0m, in \u001b[0;36mfrom_wkt\u001b[1;34m(geometry, on_invalid, **kwargs)\u001b[0m\n\u001b[0;32m    278\u001b[0m     \u001b[38;5;28;01mraise\u001b[39;00m \u001b[38;5;167;01mTypeError\u001b[39;00m(\u001b[38;5;124m\"\u001b[39m\u001b[38;5;124mon_invalid only accepts scalar values\u001b[39m\u001b[38;5;124m\"\u001b[39m)\n\u001b[0;32m    280\u001b[0m invalid_handler \u001b[38;5;241m=\u001b[39m np\u001b[38;5;241m.\u001b[39muint8(DecodingErrorOptions\u001b[38;5;241m.\u001b[39mget_value(on_invalid))\n\u001b[1;32m--> 282\u001b[0m \u001b[38;5;28;01mreturn\u001b[39;00m \u001b[43mlib\u001b[49m\u001b[38;5;241;43m.\u001b[39;49m\u001b[43mfrom_wkt\u001b[49m\u001b[43m(\u001b[49m\u001b[43mgeometry\u001b[49m\u001b[43m,\u001b[49m\u001b[43m \u001b[49m\u001b[43minvalid_handler\u001b[49m\u001b[43m,\u001b[49m\u001b[43m \u001b[49m\u001b[38;5;241;43m*\u001b[39;49m\u001b[38;5;241;43m*\u001b[39;49m\u001b[43mkwargs\u001b[49m\u001b[43m)\u001b[49m\n",
      "\u001b[1;31mKeyboardInterrupt\u001b[0m: "
     ]
    }
   ],
   "source": [
    "## Crée le .parquet Inond\n",
    "\n",
    "path = \"C:/Users/flori/OneDrive/Documents/tri_2020_sig_di/\"\n",
    "\n",
    "dataframes=[]\n",
    "\n",
    "for fichier in os.listdir(path):\n",
    "    if fichier.endswith('.shp') and 'inondable_03' in fichier:\n",
    "        # Lire le fichier .shp en GeoDataFrame\n",
    "        gdf = gpd.read_file(os.path.join(path, fichier))\n",
    "            \n",
    "        # Vérifier la présence des colonnes requises\n",
    "        colonnes_requises = {'cours_deau', 'id_tri', 'geometry', 'scenario','typ_inond'}\n",
    "        if colonnes_requises.issubset(gdf.columns):\n",
    "            # Ne garder que les colonnes spécifiques\n",
    "            gdf = gdf[['cours_deau', 'typ_inond','scenario','id_tri', 'geometry']]\n",
    "                \n",
    "            # Ajouter une colonne \"data\" avec le nom du fichier sans l'extension .shp\n",
    "            gdf['data'] = fichier.replace('.shp', '')\n",
    "                \n",
    "            # Créer une colonne 'geometry2' à partir de la colonne 'geometry' en format WKT\n",
    "            gdf['geometry2'] = gdf.geometry.apply(lambda geom: geom.wkt)\n",
    "\n",
    "            # Supprimer la colonne 'geometry' originale\n",
    "            gdf = gdf.drop(columns='geometry')\n",
    "            gdf = gdf.drop(columns='cours_deau')\n",
    "\n",
    "            # Renommer la colonne 'geometry2' en 'geometry'\n",
    "            gdf = gdf.rename(columns={'geometry2': 'geometry'})\n",
    "\n",
    "            # Ajouter le GeoDataFrame à la liste\n",
    "            dataframes.append(gdf)\n",
    "        else:\n",
    "            print(f\"Colonnes manquantes dans le fichier {fichier}, ignoré.\")\n",
    "\n",
    "# Fusionner les GeoDataFrames de haut en bas\n",
    "df_combine = pd.concat(dataframes, ignore_index=True)\n",
    "\n",
    "# Convertir la colonne 'geometry' de WKT en objets géométriques\n",
    "df_combine['geometry'] = df_combine['geometry'].apply(wkt.loads)\n",
    "\n",
    "# Créer un GeoDataFrame à partir du DataFrame combiné\n",
    "gdf_combine = gpd.GeoDataFrame(df_combine, geometry='geometry')\n",
    "\n",
    "# Sauvegarder le GeoDataFrame combiné dans un nouveau fichier .parquet\n",
    "gdf_combine.to_parquet(os.path.join(path, 'base_tri2.parquet'), engine='pyarrow')"
   ]
  },
  {
   "cell_type": "code",
   "execution_count": null,
   "metadata": {},
   "outputs": [
    {
     "name": "stderr",
     "output_type": "stream",
     "text": [
      "C:\\Users\\flori\\AppData\\Local\\Packages\\PythonSoftwareFoundation.Python.3.12_qbz5n2kfra8p0\\LocalCache\\local-packages\\Python312\\site-packages\\pyogrio\\raw.py:198: RuntimeWarning:\n",
      "\n",
      "C:/Users/flori/OneDrive/Documents/tri_2020_sig_di/n_iso_ht_03_01for_s.shp contains polygon(s) with rings with invalid winding order. Autocorrecting them, but that shapefile should be corrected using ogr2ogr for example.\n",
      "\n",
      "C:\\Users\\flori\\AppData\\Local\\Packages\\PythonSoftwareFoundation.Python.3.12_qbz5n2kfra8p0\\LocalCache\\local-packages\\Python312\\site-packages\\pyogrio\\raw.py:198: RuntimeWarning:\n",
      "\n",
      "C:/Users/flori/OneDrive/Documents/tri_2020_sig_di/n_iso_ht_03_02moy_s.shp contains polygon(s) with rings with invalid winding order. Autocorrecting them, but that shapefile should be corrected using ogr2ogr for example.\n",
      "\n",
      "C:\\Users\\flori\\AppData\\Local\\Packages\\PythonSoftwareFoundation.Python.3.12_qbz5n2kfra8p0\\LocalCache\\local-packages\\Python312\\site-packages\\pyogrio\\raw.py:198: RuntimeWarning:\n",
      "\n",
      "C:/Users/flori/OneDrive/Documents/tri_2020_sig_di/n_iso_ht_03_03mcc_s.shp contains polygon(s) with rings with invalid winding order. Autocorrecting them, but that shapefile should be corrected using ogr2ogr for example.\n",
      "\n",
      "C:\\Users\\flori\\AppData\\Local\\Packages\\PythonSoftwareFoundation.Python.3.12_qbz5n2kfra8p0\\LocalCache\\local-packages\\Python312\\site-packages\\pyogrio\\raw.py:198: RuntimeWarning:\n",
      "\n",
      "C:/Users/flori/OneDrive/Documents/tri_2020_sig_di/n_iso_ht_03_04fai_s.shp contains polygon(s) with rings with invalid winding order. Autocorrecting them, but that shapefile should be corrected using ogr2ogr for example.\n",
      "\n"
     ]
    }
   ],
   "source": [
    "## Crée la base de données ISO\n",
    "\n",
    "path = \"C:/Users/flori/OneDrive/Documents/tri_2020_sig_di/\"\n",
    "\n",
    "dataframes=[]\n",
    "\n",
    "for fichier in os.listdir(path):\n",
    "    if fichier.endswith('.shp') and 'iso_03' in fichier:\n",
    "        # Lire le fichier .shp en GeoDataFrame\n",
    "        gdf = gpd.read_file(os.path.join(path, fichier))\n",
    "            \n",
    "        # Vérifier la présence des colonnes requises\n",
    "        colonnes_requises = {'cours_deau', 'id_tri', 'geometry', 'scenario','typ_inond'}\n",
    "        if colonnes_requises.issubset(gdf.columns):\n",
    "            # Ne garder que les colonnes spécifiques\n",
    "            gdf = gdf[['cours_deau', 'typ_inond','scenario','id_tri', 'geometry']]\n",
    "                \n",
    "            # Ajouter une colonne \"data\" avec le nom du fichier sans l'extension .shp\n",
    "            gdf['data'] = fichier.replace('.shp', '')\n",
    "                \n",
    "            # Créer une colonne 'geometry2' à partir de la colonne 'geometry' en format WKT\n",
    "            gdf['geometry2'] = gdf.geometry.apply(lambda geom: geom.wkt)\n",
    "\n",
    "            # Supprimer la colonne 'geometry' originale\n",
    "            gdf = gdf.drop(columns='geometry')\n",
    "            gdf = gdf.drop(columns='cours_deau')\n",
    "\n",
    "            # Renommer la colonne 'geometry2' en 'geometry'\n",
    "            gdf = gdf.rename(columns={'geometry2': 'geometry'})\n",
    "\n",
    "            # Ajouter le GeoDataFrame à la liste\n",
    "            dataframes.append(gdf)\n",
    "        else:\n",
    "            print(f\"Colonnes manquantes dans le fichier {fichier}, ignoré.\")\n",
    "\n",
    "# Fusionner les GeoDataFrames de haut en bas\n",
    "df_combine = pd.concat(dataframes, ignore_index=True)\n",
    "\n",
    "# Convertir la colonne 'geometry' de WKT en objets géométriques\n",
    "df_combine['geometry'] = df_combine['geometry'].apply(wkt.loads)\n",
    "\n",
    "# Créer un GeoDataFrame à partir du DataFrame combiné\n",
    "gdf_combine = gpd.GeoDataFrame(df_combine, geometry='geometry')\n",
    "\n",
    "# Sauvegarder le GeoDataFrame combiné dans un nouveau fichier .parquet\n",
    "gdf_combine.to_parquet(os.path.join(path, 'base_tri2.parquet'), engine='pyarrow')"
   ]
  },
  {
   "cell_type": "code",
   "execution_count": null,
   "metadata": {},
   "outputs": [
    {
     "name": "stderr",
     "output_type": "stream",
     "text": [
      "PandasGUI INFO — pandasgui.gui — Opening PandasGUI\n",
      "C:\\Users\\flori\\AppData\\Local\\Temp\\ipykernel_612\\2973186966.py:14: FutureWarning:\n",
      "\n",
      "Series.__getitem__ treating keys as positions is deprecated. In a future version, integer keys will always be treated as labels (consistent with DataFrame behavior). To access a value by position, use `ser.iloc[pos]`\n",
      "\n",
      "C:\\Users\\flori\\AppData\\Local\\Temp\\ipykernel_612\\2973186966.py:14: FutureWarning:\n",
      "\n",
      "Series.__getitem__ treating keys as positions is deprecated. In a future version, integer keys will always be treated as labels (consistent with DataFrame behavior). To access a value by position, use `ser.iloc[pos]`\n",
      "\n",
      "C:\\Users\\flori\\AppData\\Local\\Temp\\ipykernel_612\\2973186966.py:14: FutureWarning:\n",
      "\n",
      "Series.__getitem__ treating keys as positions is deprecated. In a future version, integer keys will always be treated as labels (consistent with DataFrame behavior). To access a value by position, use `ser.iloc[pos]`\n",
      "\n",
      "C:\\Users\\flori\\AppData\\Local\\Temp\\ipykernel_612\\2973186966.py:14: FutureWarning:\n",
      "\n",
      "Series.__getitem__ treating keys as positions is deprecated. In a future version, integer keys will always be treated as labels (consistent with DataFrame behavior). To access a value by position, use `ser.iloc[pos]`\n",
      "\n",
      "C:\\Users\\flori\\AppData\\Local\\Temp\\ipykernel_612\\2973186966.py:14: FutureWarning:\n",
      "\n",
      "Series.__getitem__ treating keys as positions is deprecated. In a future version, integer keys will always be treated as labels (consistent with DataFrame behavior). To access a value by position, use `ser.iloc[pos]`\n",
      "\n",
      "C:\\Users\\flori\\AppData\\Local\\Temp\\ipykernel_612\\2973186966.py:14: FutureWarning:\n",
      "\n",
      "Series.__getitem__ treating keys as positions is deprecated. In a future version, integer keys will always be treated as labels (consistent with DataFrame behavior). To access a value by position, use `ser.iloc[pos]`\n",
      "\n"
     ]
    },
    {
     "data": {
      "text/plain": [
       "<pandasgui.gui.PandasGui at 0x13c82ec83b0>"
      ]
     },
     "execution_count": 6,
     "metadata": {},
     "output_type": "execute_result"
    }
   ],
   "source": [
    "# # show(gdf_combine.head(100))\n",
    "# # print(gdf_combine['geometry'].dtype)\n",
    "# u = gpd.read_file('C:/Users/flori/OneDrive/Documents/tri_2020_sig_di/n_inondable_03_01for_s.shp')\n",
    "\n",
    "# u = gpd.read_parquet('C:/Users/flori/OneDrive/Documents/tri_2020_sig_di/base_tri2.parquet')\n",
    "# # # u = u.drop(columns=['cours_deau'])\n",
    "# show(u.head(10000))\n",
    "\n",
    "# # # Compter les occurrences de chaque modalité dans la colonne 'commune'\n",
    "# v=u[u['cours_deau']=='submar']\n",
    "modalities_count = u['id_tri'].value_counts().reset_index()\n",
    "modalities_count.columns = ['id_tri', 'count']\n",
    "\n",
    "show(modalities_count)\n",
    "# show(modalities_count)\n",
    "\n",
    "# Séparer la colonne `id_tri` en trois nouvelles colonnes\n",
    "# u[['fr', 'tri', 'commune']] = u['id_tri'].str.split('_', expand=True)\n",
    "\n",
    "# Formater la colonne `commune` pour avoir la première lettre en majuscule et le reste en minuscule\n",
    "# u['commune'] = u['commune'].str.capitalize()\n",
    "# show(u.head(10))\n",
    "# gpd.read_parquet"
   ]
  },
  {
   "cell_type": "code",
   "execution_count": null,
   "metadata": {},
   "outputs": [],
   "source": [
    "# Compter les occurrences de chaque modalité dans la colonne 'commune'\n",
    "modalities_count = u['commune'].value_counts().reset_index()\n",
    "\n",
    "# Renommer les colonnes pour plus de clarté\n",
    "modalities_count.columns = ['commune', 'count']\n",
    "\n",
    "# Afficher le résultat\n",
    "print(modalities_count)"
   ]
  },
  {
   "cell_type": "code",
   "execution_count": null,
   "metadata": {},
   "outputs": [
    {
     "data": {
      "text/plain": [
       "4210257"
      ]
     },
     "execution_count": 8,
     "metadata": {},
     "output_type": "execute_result"
    }
   ],
   "source": [
    "# show(df_combine.head(10))\n",
    "df_combine.shape[0]"
   ]
  },
  {
   "cell_type": "code",
   "execution_count": 15,
   "metadata": {},
   "outputs": [
    {
     "name": "stderr",
     "output_type": "stream",
     "text": [
      "C:\\Users\\flori\\AppData\\Local\\Packages\\PythonSoftwareFoundation.Python.3.12_qbz5n2kfra8p0\\LocalCache\\local-packages\\Python312\\site-packages\\pyogrio\\raw.py:198: RuntimeWarning:\n",
      "\n",
      "C:/Users/flori/OneDrive/Documents/tri_2020_sig_di/n_inondable_03_01for_s.shp contains polygon(s) with rings with invalid winding order. Autocorrecting them, but that shapefile should be corrected using ogr2ogr for example.\n",
      "\n"
     ]
    },
    {
     "ename": "NameError",
     "evalue": "name 'shapefile' is not defined",
     "output_type": "error",
     "traceback": [
      "\u001b[1;31m---------------------------------------------------------------------------\u001b[0m",
      "\u001b[1;31mNameError\u001b[0m                                 Traceback (most recent call last)",
      "Cell \u001b[1;32mIn[15], line 12\u001b[0m\n\u001b[0;32m      9\u001b[0m shapefile2\u001b[38;5;241m.\u001b[39mto_file(\u001b[38;5;124m\"\u001b[39m\u001b[38;5;124mtri.geojson\u001b[39m\u001b[38;5;124m\"\u001b[39m, driver\u001b[38;5;241m=\u001b[39m\u001b[38;5;124m\"\u001b[39m\u001b[38;5;124mGeoJSON\u001b[39m\u001b[38;5;124m\"\u001b[39m)\n\u001b[0;32m     11\u001b[0m \u001b[38;5;66;03m# Convertir le GeoDataFrame en un DataFrame pour pouvoir l'écrire en Parquet\u001b[39;00m\n\u001b[1;32m---> 12\u001b[0m df \u001b[38;5;241m=\u001b[39m \u001b[43mshapefile\u001b[49m\u001b[38;5;241m.\u001b[39mdrop(columns\u001b[38;5;241m=\u001b[39m\u001b[38;5;124m'\u001b[39m\u001b[38;5;124mgeometry\u001b[39m\u001b[38;5;124m'\u001b[39m)  \u001b[38;5;66;03m# On enlève la colonne geometry pour la conversion\u001b[39;00m\n\u001b[0;32m     13\u001b[0m geometry \u001b[38;5;241m=\u001b[39m shapefile\u001b[38;5;241m.\u001b[39mgeometry\u001b[38;5;241m.\u001b[39mapply(\u001b[38;5;28;01mlambda\u001b[39;00m geom: geom\u001b[38;5;241m.\u001b[39mwkt)  \u001b[38;5;66;03m# Convertir la géométrie en Well-Known Text (WKT)\u001b[39;00m\n\u001b[0;32m     15\u001b[0m \u001b[38;5;66;03m# Ajouter la géométrie au DataFrame sous forme de colonne WKT\u001b[39;00m\n",
      "\u001b[1;31mNameError\u001b[0m: name 'shapefile' is not defined"
     ]
    }
   ],
   "source": [
    "# Définir le chemin du fichier\n",
    "path = \"C:/Users/flori/OneDrive/Documents/tri_2020_sig_di/\"\n",
    "\n",
    "# Lire le fichier Shapefile n_inondable_03_01for_s.shp\n",
    "# shapefile = gpd.read_file(path + \"n_iso_ht_01_01for_s.shp\")\n",
    "shapefile2 = gpd.read_file(path + \"n_inondable_03_01for_s.shp\")\n",
    "\n",
    "# Enregistrer le fichier en format GeoJSON\n",
    "shapefile2.to_file(\"tri.geojson\", driver=\"GeoJSON\")\n",
    "\n",
    "# Convertir le GeoDataFrame en un DataFrame pour pouvoir l'écrire en Parquet\n",
    "df = shapefile.drop(columns='geometry')  # On enlève la colonne geometry pour la conversion\n",
    "geometry = shapefile.geometry.apply(lambda geom: geom.wkt)  # Convertir la géométrie en Well-Known Text (WKT)\n",
    "\n",
    "# Ajouter la géométrie au DataFrame sous forme de colonne WKT\n",
    "df['geometry'] = geometry\n",
    "\n",
    "# Convertir le DataFrame en table Arrow\n",
    "table = pa.Table.from_pandas(df)\n",
    "\n",
    "# Sauvegarder en format Parquet\n",
    "pq.write_table(table, \"tri2.parquet\")"
   ]
  },
  {
   "cell_type": "code",
   "execution_count": null,
   "metadata": {},
   "outputs": [
    {
     "data": {
      "text/plain": [
       "743441"
      ]
     },
     "execution_count": 8,
     "metadata": {},
     "output_type": "execute_result"
    }
   ],
   "source": [
    "# show(df.head(100))\n",
    "df.shape[0]"
   ]
  },
  {
   "cell_type": "code",
   "execution_count": null,
   "metadata": {},
   "outputs": [
    {
     "name": "stderr",
     "output_type": "stream",
     "text": [
      "C:\\Users\\flori\\AppData\\Local\\Packages\\PythonSoftwareFoundation.Python.3.12_qbz5n2kfra8p0\\LocalCache\\local-packages\\Python312\\site-packages\\pyogrio\\raw.py:198: RuntimeWarning: C:/Users/flori/OneDrive/Documents/tri_2020_sig_di/n_ecoul_s.shp contains polygon(s) with rings with invalid winding order. Autocorrecting them, but that shapefile should be corrected using ogr2ogr for example.\n",
      "  return ogr_read(\n",
      "C:\\Users\\flori\\AppData\\Local\\Packages\\PythonSoftwareFoundation.Python.3.12_qbz5n2kfra8p0\\LocalCache\\local-packages\\Python312\\site-packages\\pyogrio\\raw.py:198: RuntimeWarning: C:/Users/flori/OneDrive/Documents/tri_2020_sig_di/n_enjeu_dce_s.shp contains polygon(s) with rings with invalid winding order. Autocorrecting them, but that shapefile should be corrected using ogr2ogr for example.\n",
      "  return ogr_read(\n",
      "C:\\Users\\flori\\AppData\\Local\\Packages\\PythonSoftwareFoundation.Python.3.12_qbz5n2kfra8p0\\LocalCache\\local-packages\\Python312\\site-packages\\pyogrio\\raw.py:198: RuntimeWarning: C:/Users/flori/OneDrive/Documents/tri_2020_sig_di/n_enjeu_eco_s.shp contains polygon(s) with rings with invalid winding order. Autocorrecting them, but that shapefile should be corrected using ogr2ogr for example.\n",
      "  return ogr_read(\n",
      "C:\\Users\\flori\\AppData\\Local\\Packages\\PythonSoftwareFoundation.Python.3.12_qbz5n2kfra8p0\\LocalCache\\local-packages\\Python312\\site-packages\\pyogrio\\raw.py:198: RuntimeWarning: C:/Users/flori/OneDrive/Documents/tri_2020_sig_di/n_inondable_01_01for_s.shp contains polygon(s) with rings with invalid winding order. Autocorrecting them, but that shapefile should be corrected using ogr2ogr for example.\n",
      "  return ogr_read(\n",
      "C:\\Users\\flori\\AppData\\Local\\Packages\\PythonSoftwareFoundation.Python.3.12_qbz5n2kfra8p0\\LocalCache\\local-packages\\Python312\\site-packages\\pyogrio\\raw.py:198: RuntimeWarning: C:/Users/flori/OneDrive/Documents/tri_2020_sig_di/n_inondable_01_02moy_s.shp contains polygon(s) with rings with invalid winding order. Autocorrecting them, but that shapefile should be corrected using ogr2ogr for example.\n",
      "  return ogr_read(\n",
      "C:\\Users\\flori\\AppData\\Local\\Packages\\PythonSoftwareFoundation.Python.3.12_qbz5n2kfra8p0\\LocalCache\\local-packages\\Python312\\site-packages\\pyogrio\\raw.py:198: RuntimeWarning: C:/Users/flori/OneDrive/Documents/tri_2020_sig_di/n_inondable_01_04fai_s.shp contains polygon(s) with rings with invalid winding order. Autocorrecting them, but that shapefile should be corrected using ogr2ogr for example.\n",
      "  return ogr_read(\n",
      "C:\\Users\\flori\\AppData\\Local\\Packages\\PythonSoftwareFoundation.Python.3.12_qbz5n2kfra8p0\\LocalCache\\local-packages\\Python312\\site-packages\\pyogrio\\raw.py:198: RuntimeWarning: C:/Users/flori/OneDrive/Documents/tri_2020_sig_di/n_inondable_02_02moy_s.shp contains polygon(s) with rings with invalid winding order. Autocorrecting them, but that shapefile should be corrected using ogr2ogr for example.\n",
      "  return ogr_read(\n",
      "C:\\Users\\flori\\AppData\\Local\\Packages\\PythonSoftwareFoundation.Python.3.12_qbz5n2kfra8p0\\LocalCache\\local-packages\\Python312\\site-packages\\pyogrio\\raw.py:198: RuntimeWarning: C:/Users/flori/OneDrive/Documents/tri_2020_sig_di/n_inondable_03_01for_s.shp contains polygon(s) with rings with invalid winding order. Autocorrecting them, but that shapefile should be corrected using ogr2ogr for example.\n",
      "  return ogr_read(\n",
      "C:\\Users\\flori\\AppData\\Local\\Packages\\PythonSoftwareFoundation.Python.3.12_qbz5n2kfra8p0\\LocalCache\\local-packages\\Python312\\site-packages\\pyogrio\\raw.py:198: RuntimeWarning: C:/Users/flori/OneDrive/Documents/tri_2020_sig_di/n_inondable_03_02moy_s.shp contains polygon(s) with rings with invalid winding order. Autocorrecting them, but that shapefile should be corrected using ogr2ogr for example.\n",
      "  return ogr_read(\n",
      "C:\\Users\\flori\\AppData\\Local\\Packages\\PythonSoftwareFoundation.Python.3.12_qbz5n2kfra8p0\\LocalCache\\local-packages\\Python312\\site-packages\\pyogrio\\raw.py:198: RuntimeWarning: C:/Users/flori/OneDrive/Documents/tri_2020_sig_di/n_inondable_03_04fai_s.shp contains polygon(s) with rings with invalid winding order. Autocorrecting them, but that shapefile should be corrected using ogr2ogr for example.\n",
      "  return ogr_read(\n",
      "C:\\Users\\flori\\AppData\\Local\\Packages\\PythonSoftwareFoundation.Python.3.12_qbz5n2kfra8p0\\LocalCache\\local-packages\\Python312\\site-packages\\pyogrio\\raw.py:198: RuntimeWarning: C:/Users/flori/OneDrive/Documents/tri_2020_sig_di/n_iso_ht_01_02moy_s.shp contains polygon(s) with rings with invalid winding order. Autocorrecting them, but that shapefile should be corrected using ogr2ogr for example.\n",
      "  return ogr_read(\n",
      "C:\\Users\\flori\\AppData\\Local\\Packages\\PythonSoftwareFoundation.Python.3.12_qbz5n2kfra8p0\\LocalCache\\local-packages\\Python312\\site-packages\\pyogrio\\raw.py:198: RuntimeWarning: C:/Users/flori/OneDrive/Documents/tri_2020_sig_di/n_iso_ht_01_03mcc_s.shp contains polygon(s) with rings with invalid winding order. Autocorrecting them, but that shapefile should be corrected using ogr2ogr for example.\n",
      "  return ogr_read(\n",
      "C:\\Users\\flori\\AppData\\Local\\Packages\\PythonSoftwareFoundation.Python.3.12_qbz5n2kfra8p0\\LocalCache\\local-packages\\Python312\\site-packages\\pyogrio\\raw.py:198: RuntimeWarning: C:/Users/flori/OneDrive/Documents/tri_2020_sig_di/n_iso_ht_01_04fai_s.shp contains polygon(s) with rings with invalid winding order. Autocorrecting them, but that shapefile should be corrected using ogr2ogr for example.\n",
      "  return ogr_read(\n",
      "C:\\Users\\flori\\AppData\\Local\\Packages\\PythonSoftwareFoundation.Python.3.12_qbz5n2kfra8p0\\LocalCache\\local-packages\\Python312\\site-packages\\pyogrio\\raw.py:198: RuntimeWarning: C:/Users/flori/OneDrive/Documents/tri_2020_sig_di/n_iso_ht_02_02moy_s.shp contains polygon(s) with rings with invalid winding order. Autocorrecting them, but that shapefile should be corrected using ogr2ogr for example.\n",
      "  return ogr_read(\n",
      "C:\\Users\\flori\\AppData\\Local\\Packages\\PythonSoftwareFoundation.Python.3.12_qbz5n2kfra8p0\\LocalCache\\local-packages\\Python312\\site-packages\\pyogrio\\raw.py:198: RuntimeWarning: C:/Users/flori/OneDrive/Documents/tri_2020_sig_di/n_iso_ht_03_01for_s.shp contains polygon(s) with rings with invalid winding order. Autocorrecting them, but that shapefile should be corrected using ogr2ogr for example.\n",
      "  return ogr_read(\n",
      "C:\\Users\\flori\\AppData\\Local\\Packages\\PythonSoftwareFoundation.Python.3.12_qbz5n2kfra8p0\\LocalCache\\local-packages\\Python312\\site-packages\\pyogrio\\raw.py:198: RuntimeWarning: C:/Users/flori/OneDrive/Documents/tri_2020_sig_di/n_iso_ht_03_02moy_s.shp contains polygon(s) with rings with invalid winding order. Autocorrecting them, but that shapefile should be corrected using ogr2ogr for example.\n",
      "  return ogr_read(\n",
      "C:\\Users\\flori\\AppData\\Local\\Packages\\PythonSoftwareFoundation.Python.3.12_qbz5n2kfra8p0\\LocalCache\\local-packages\\Python312\\site-packages\\pyogrio\\raw.py:198: RuntimeWarning: C:/Users/flori/OneDrive/Documents/tri_2020_sig_di/n_iso_ht_03_03mcc_s.shp contains polygon(s) with rings with invalid winding order. Autocorrecting them, but that shapefile should be corrected using ogr2ogr for example.\n",
      "  return ogr_read(\n",
      "C:\\Users\\flori\\AppData\\Local\\Packages\\PythonSoftwareFoundation.Python.3.12_qbz5n2kfra8p0\\LocalCache\\local-packages\\Python312\\site-packages\\pyogrio\\raw.py:198: RuntimeWarning: C:/Users/flori/OneDrive/Documents/tri_2020_sig_di/n_iso_ht_03_04fai_s.shp contains polygon(s) with rings with invalid winding order. Autocorrecting them, but that shapefile should be corrected using ogr2ogr for example.\n",
      "  return ogr_read(\n",
      "C:\\Users\\flori\\AppData\\Local\\Packages\\PythonSoftwareFoundation.Python.3.12_qbz5n2kfra8p0\\LocalCache\\local-packages\\Python312\\site-packages\\pyogrio\\raw.py:198: RuntimeWarning: C:/Users/flori/OneDrive/Documents/tri_2020_sig_di/n_soust_inond_s.shp contains polygon(s) with rings with invalid winding order. Autocorrecting them, but that shapefile should be corrected using ogr2ogr for example.\n",
      "  return ogr_read(\n",
      "C:\\Users\\flori\\AppData\\Local\\Packages\\PythonSoftwareFoundation.Python.3.12_qbz5n2kfra8p0\\LocalCache\\local-packages\\Python312\\site-packages\\pyogrio\\raw.py:198: RuntimeWarning: C:/Users/flori/OneDrive/Documents/tri_2020_sig_di/n_suralea_s.shp contains polygon(s) with rings with invalid winding order. Autocorrecting them, but that shapefile should be corrected using ogr2ogr for example.\n",
      "  return ogr_read(\n"
     ]
    }
   ],
   "source": [
    "# Définir le chemin du dossier\n",
    "path = \"C:/Users/flori/OneDrive/Documents/tri_2020_sig_di/\"\n",
    "\n",
    "# Exclure ce fichier spécifique\n",
    "excluded_file = \"n_iso_ht_01_01for_s.shp\"\n",
    "n_inondable_03_01for_s.shp\n",
    "# Lister tous les fichiers .shp dans le dossier\n",
    "shapefiles = [f for f in os.listdir(path) if f.endswith('.shp') and f != excluded_file]\n",
    "\n",
    "for shp_file in shapefiles:\n",
    "    # Lire le fichier Shapefile\n",
    "    shapefile = gpd.read_file(os.path.join(path, shp_file))\n",
    "\n",
    "    # Enregistrer le fichier en format GeoJSON\n",
    "    geojson_filename = shp_file.replace('.shp', '.geojson')\n",
    "    shapefile.to_file(os.path.join(path, geojson_filename), driver=\"GeoJSON\")\n",
    "\n",
    "    # Convertir le GeoDataFrame en un DataFrame pour pouvoir l'écrire en Parquet\n",
    "    df = shapefile.drop(columns='geometry')  # On enlève la colonne geometry pour la conversion\n",
    "    geometry = shapefile.geometry.apply(lambda geom: geom.wkt)  # Convertir la géométrie en Well-Known Text (WKT)\n",
    "    \n",
    "    # Ajouter la géométrie au DataFrame sous forme de colonne WKT\n",
    "    df['geometry'] = geometry\n",
    "    \n",
    "    # Convertir le DataFrame en table Arrow\n",
    "    table = pa.Table.from_pandas(df)\n",
    "\n",
    "    # Sauvegarder en format Parquet\n",
    "    parquet_filename = shp_file.replace('.shp', '.parquet')\n",
    "    pq.write_table(table, os.path.join(path, parquet_filename))\n"
   ]
  },
  {
   "cell_type": "code",
   "execution_count": 14,
   "metadata": {},
   "outputs": [
    {
     "name": "stderr",
     "output_type": "stream",
     "text": [
      "PandasGUI INFO — pandasgui.gui — Opening PandasGUI\n",
      "C:\\Users\\flori\\AppData\\Local\\Temp\\ipykernel_21092\\4204183298.py:7: FutureWarning:\n",
      "\n",
      "Series.__getitem__ treating keys as positions is deprecated. In a future version, integer keys will always be treated as labels (consistent with DataFrame behavior). To access a value by position, use `ser.iloc[pos]`\n",
      "\n",
      "C:\\Users\\flori\\AppData\\Local\\Temp\\ipykernel_21092\\4204183298.py:7: FutureWarning:\n",
      "\n",
      "Series.__getitem__ treating keys as positions is deprecated. In a future version, integer keys will always be treated as labels (consistent with DataFrame behavior). To access a value by position, use `ser.iloc[pos]`\n",
      "\n",
      "C:\\Users\\flori\\AppData\\Local\\Temp\\ipykernel_21092\\4204183298.py:7: FutureWarning:\n",
      "\n",
      "Series.__getitem__ treating keys as positions is deprecated. In a future version, integer keys will always be treated as labels (consistent with DataFrame behavior). To access a value by position, use `ser.iloc[pos]`\n",
      "\n",
      "C:\\Users\\flori\\AppData\\Local\\Temp\\ipykernel_21092\\4204183298.py:7: FutureWarning:\n",
      "\n",
      "Series.__getitem__ treating keys as positions is deprecated. In a future version, integer keys will always be treated as labels (consistent with DataFrame behavior). To access a value by position, use `ser.iloc[pos]`\n",
      "\n",
      "C:\\Users\\flori\\AppData\\Local\\Temp\\ipykernel_21092\\4204183298.py:7: FutureWarning:\n",
      "\n",
      "Series.__getitem__ treating keys as positions is deprecated. In a future version, integer keys will always be treated as labels (consistent with DataFrame behavior). To access a value by position, use `ser.iloc[pos]`\n",
      "\n",
      "C:\\Users\\flori\\AppData\\Local\\Temp\\ipykernel_21092\\4204183298.py:7: FutureWarning:\n",
      "\n",
      "Series.__getitem__ treating keys as positions is deprecated. In a future version, integer keys will always be treated as labels (consistent with DataFrame behavior). To access a value by position, use `ser.iloc[pos]`\n",
      "\n"
     ]
    },
    {
     "data": {
      "text/plain": [
       "<pandasgui.gui.PandasGui at 0x2488576bbf0>"
      ]
     },
     "execution_count": 14,
     "metadata": {},
     "output_type": "execute_result"
    }
   ],
   "source": [
    "# # # Définir le chemin du dossier\n",
    "# path = \"C:/Users/flori/OneDrive/Documents/tri_2020_sig_di/\"\n",
    "\n",
    "# # df = pd.read_parquet(path + 'base_tri.parquet',engine='pyarrow', columns=None)\n",
    "df2 = pd.read_parquet('base_tri2.parquet',engine='pyarrow', columns=None)\n",
    "# print(df['cours_deau'].unique())\n",
    "show(df2.head(50))"
   ]
  }
 ],
 "metadata": {
  "kernelspec": {
   "display_name": "Python 3",
   "language": "python",
   "name": "python3"
  },
  "language_info": {
   "codemirror_mode": {
    "name": "ipython",
    "version": 3
   },
   "file_extension": ".py",
   "mimetype": "text/x-python",
   "name": "python",
   "nbconvert_exporter": "python",
   "pygments_lexer": "ipython3",
   "version": "3.12.7"
  }
 },
 "nbformat": 4,
 "nbformat_minor": 2
}
