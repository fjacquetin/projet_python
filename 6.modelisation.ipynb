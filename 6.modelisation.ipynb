{
 "cells": [
  {
   "cell_type": "code",
   "execution_count": 1,
   "metadata": {},
   "outputs": [],
   "source": [
    "## La version de python utilisée est 3.12.7\n",
    "\n",
    "!pip install -r requirements.txt -q"
   ]
  },
  {
   "cell_type": "code",
   "execution_count": null,
   "metadata": {},
   "outputs": [],
   "source": [
    "import pandas as pd\n",
    "import requests as rq\n",
    "import lxml as lxml\n",
    "from bs4 import BeautifulSoup\n",
    "import io as io\n",
    "import math\n",
    "import gzip\n",
    "import shutil\n",
    "import os\n",
    "import geopandas as gpd\n",
    "import matplotlib.pyplot as plt\n",
    "import folium\n",
    "import json\n",
    "from pandasgui import show\n",
    "import numpy as np\n",
    "from io import BytesIO\n",
    "from folium.plugins import HeatMap\n",
    "import nbconvert\n",
    "import numpy as np\n",
    "import statsmodels.formula.api as smf\n",
    "import statsmodels.api as sm\n",
    "from statsmodels.stats.outliers_influence import variance_inflation_factor\n",
    "\n",
    "from script import process_data\n",
    "from script import geolocaliser\n",
    "from script import modeling\n",
    "from geopy.geocoders import Nominatim\n",
    "from geopy.exc import GeocoderTimedOut"
   ]
  },
  {
   "cell_type": "code",
   "execution_count": null,
   "metadata": {},
   "outputs": [
    {
     "name": "stderr",
     "output_type": "stream",
     "text": [
      "C:\\Users\\flori\\AppData\\Local\\Temp\\ipykernel_4516\\648495320.py:1: DtypeWarning:\n",
      "\n",
      "Columns (6,8) have mixed types. Specify dtype option on import or set low_memory=False.\n",
      "\n"
     ]
    }
   ],
   "source": [
    "df = pd.read_csv(\"data/transactions_with_zone_inondable.csv\",encoding=\"utf-8\",sep=\";\")"
   ]
  },
  {
   "cell_type": "code",
   "execution_count": null,
   "metadata": {},
   "outputs": [
    {
     "name": "stderr",
     "output_type": "stream",
     "text": [
      "PandasGUI INFO — pandasgui.gui — Opening PandasGUI\n",
      "C:\\Users\\flori\\AppData\\Local\\Temp\\ipykernel_4516\\3342683114.py:1: FutureWarning:\n",
      "\n",
      "Series.__getitem__ treating keys as positions is deprecated. In a future version, integer keys will always be treated as labels (consistent with DataFrame behavior). To access a value by position, use `ser.iloc[pos]`\n",
      "\n",
      "C:\\Users\\flori\\AppData\\Local\\Temp\\ipykernel_4516\\3342683114.py:1: FutureWarning:\n",
      "\n",
      "Series.__getitem__ treating keys as positions is deprecated. In a future version, integer keys will always be treated as labels (consistent with DataFrame behavior). To access a value by position, use `ser.iloc[pos]`\n",
      "\n",
      "C:\\Users\\flori\\AppData\\Local\\Temp\\ipykernel_4516\\3342683114.py:1: FutureWarning:\n",
      "\n",
      "Series.__getitem__ treating keys as positions is deprecated. In a future version, integer keys will always be treated as labels (consistent with DataFrame behavior). To access a value by position, use `ser.iloc[pos]`\n",
      "\n",
      "C:\\Users\\flori\\AppData\\Local\\Temp\\ipykernel_4516\\3342683114.py:1: FutureWarning:\n",
      "\n",
      "Series.__getitem__ treating keys as positions is deprecated. In a future version, integer keys will always be treated as labels (consistent with DataFrame behavior). To access a value by position, use `ser.iloc[pos]`\n",
      "\n",
      "C:\\Users\\flori\\AppData\\Local\\Temp\\ipykernel_4516\\3342683114.py:1: FutureWarning:\n",
      "\n",
      "Series.__getitem__ treating keys as positions is deprecated. In a future version, integer keys will always be treated as labels (consistent with DataFrame behavior). To access a value by position, use `ser.iloc[pos]`\n",
      "\n",
      "C:\\Users\\flori\\AppData\\Local\\Temp\\ipykernel_4516\\3342683114.py:1: FutureWarning:\n",
      "\n",
      "Series.__getitem__ treating keys as positions is deprecated. In a future version, integer keys will always be treated as labels (consistent with DataFrame behavior). To access a value by position, use `ser.iloc[pos]`\n",
      "\n"
     ]
    },
    {
     "data": {
      "text/plain": [
       "<pandasgui.gui.PandasGui at 0x1ff66dfe3c0>"
      ]
     },
     "execution_count": 33,
     "metadata": {},
     "output_type": "execute_result"
    }
   ],
   "source": [
    "show(df.head())"
   ]
  },
  {
   "cell_type": "code",
   "execution_count": null,
   "metadata": {},
   "outputs": [],
   "source": [
    "# Calcul de la distance pour chaque ligne du DataFrame\n",
    "df['distance_centre_ville'] = df.apply(\n",
    "    lambda row: modeling.distance_haversine(\n",
    "        row['latitude'], row['longitude'],\n",
    "        row['latitude_mairie'], row['longitude_mairie']\n",
    "    ),\n",
    "    axis=1\n",
    ")"
   ]
  },
  {
   "cell_type": "code",
   "execution_count": null,
   "metadata": {},
   "outputs": [],
   "source": [
    "import ast\n",
    "\n",
    "# Conversion des chaînes en listes de tuples\n",
    "df[\"beach_coordinates\"] = df[\"beach_coordinates\"].apply(\n",
    "    lambda x: ast.literal_eval(x) if isinstance(x, str) else x\n",
    ")\n",
    "\n",
    "df[\"station\"] = df[\"station\"].apply(\n",
    "    lambda x: ast.literal_eval(x) if isinstance(x, str) else x\n",
    ")"
   ]
  },
  {
   "cell_type": "code",
   "execution_count": null,
   "metadata": {},
   "outputs": [],
   "source": [
    "def nettoyer_coordinates(coords):\n",
    "    if isinstance(coords, list):  # Si c'est déjà une liste, la garder\n",
    "        return coords\n",
    "    if isinstance(coords, float) or coords is None:  # Si c'est un NaN ou autre, retourner None\n",
    "        return None\n",
    "    return coords  # Par défaut, retourner la valeur initiale (si elle est correcte)\n",
    "\n",
    "df[\"beach_coordinates\"] = df[\"beach_coordinates\"].apply(nettoyer_coordinates)\n",
    "df[\"station\"] = df[\"station\"].apply(nettoyer_coordinates)"
   ]
  },
  {
   "cell_type": "code",
   "execution_count": null,
   "metadata": {},
   "outputs": [],
   "source": [
    "# Calcul de la distance minimale à la plage ou au port en fonction de la disponibilité des données\n",
    "df[\"distance_min_beach\"] = df.apply(\n",
    "    lambda row: modeling.distance_minimale(row[\"latitude\"], row[\"longitude\"], row[\"beach_coordinates\"])\n",
    "    if row[\"beach_coordinates\"] else None,  # Si aucune coordonnée plage disponible, retourner None\n",
    "    axis=1\n",
    ")\n",
    "\n",
    "# Si distance_min_beach est NaN, calculer la distance au port\n",
    "df[\"distance_min_beach\"] = df.apply(\n",
    "    lambda row: modeling.distance_haversine(\n",
    "        row['latitude'], row['longitude'],\n",
    "        row['latitude_port'], row['longitude_port']\n",
    "    ) if pd.isna(row[\"distance_min_beach\"]) else row[\"distance_min_beach\"],\n",
    "    axis=1\n",
    ")\n"
   ]
  },
  {
   "cell_type": "code",
   "execution_count": null,
   "metadata": {},
   "outputs": [],
   "source": [
    "df[\"distance_min_station\"] = df.apply(\n",
    "    lambda row: modeling.distance_minimale(row[\"latitude\"], row[\"longitude\"], row[\"station\"])\n",
    "    if row[\"station\"] else None,  # Si aucune coordonnée disponible, retourner None\n",
    "    axis=1\n",
    ")"
   ]
  },
  {
   "cell_type": "code",
   "execution_count": null,
   "metadata": {},
   "outputs": [],
   "source": [
    "def convertir_en_numerique(df, colonnes):\n",
    "    \"\"\"\n",
    "    Convertit les colonnes spécifiées du DataFrame en type numérique.\n",
    "    \n",
    "    Args:\n",
    "        df (pd.DataFrame): Le DataFrame à modifier.\n",
    "        colonnes (list): Liste des colonnes à convertir en numériques.\n",
    "        \n",
    "    Returns:\n",
    "        pd.DataFrame: Le DataFrame avec les colonnes converties.\n",
    "    \"\"\"\n",
    "    for col in colonnes:\n",
    "        df[col] = pd.to_numeric(df[col], errors='coerce')\n",
    "    return df"
   ]
  },
  {
   "cell_type": "code",
   "execution_count": null,
   "metadata": {},
   "outputs": [
    {
     "name": "stdout",
     "output_type": "stream",
     "text": [
      "code_scenario\n",
      "02Moy    2839\n",
      "04Fai    2423\n",
      "01For    1248\n",
      "03Mcc    1052\n",
      "Name: count, dtype: int64\n"
     ]
    }
   ],
   "source": [
    "# Affichage des modalités de 'code_scenario'\n",
    "modalites_code_scenario = df['code_scenario'].value_counts()\n",
    "print(modalites_code_scenario)"
   ]
  },
  {
   "cell_type": "code",
   "execution_count": null,
   "metadata": {},
   "outputs": [],
   "source": [
    "# Définir les bornes des tranches et les labels\n",
    "bins = [0, 10000, 50000, np.inf]  # Définir les bornes des tranches\n",
    "labels = ['0-10000','10000-50000', 'plus_50000']  # Labels des tranches\n",
    "\n",
    "# Créer la variable catégorielle 'pop'\n",
    "df['pop_cut'] = pd.cut(df['Population'], bins=bins, labels=labels, right=False)\n",
    "\n",
    "# Créer des variables dummies pour les catégories de population\n",
    "df_dummies_population = pd.get_dummies(df['pop_cut'], prefix='population_',drop_first=True)\n",
    "df_dummies_population = df_dummies_population.astype(int)\n",
    "\n",
    "# Ajouter les dummies au DataFrame\n",
    "df = pd.concat([df, df_dummies_population], axis=1)"
   ]
  },
  {
   "cell_type": "code",
   "execution_count": null,
   "metadata": {},
   "outputs": [],
   "source": [
    "# Création des dummies pour la colonne 'code_scenario'\n",
    "df_dummies_scenario = pd.get_dummies(df['code_scenario'], prefix='scenario')\n",
    "# df_dummies_scenario = df_dummies_scenario.drop(columns=['scenario_04Fai'])\n",
    "df_dummies_scenario = df_dummies_scenario.astype(int)\n",
    "\n",
    "# Ajouter les dummies au DataFrame original\n",
    "df = pd.concat([df, df_dummies_scenario], axis=1)\n"
   ]
  },
  {
   "cell_type": "code",
   "execution_count": null,
   "metadata": {},
   "outputs": [],
   "source": [
    "# Création des dummies pour la colonne 'departmentName'\n",
    "df_dummies_communes = pd.get_dummies(df['nom_commune'], prefix='commune')\n",
    "# # Si vous souhaitez supprimer une modalit/é particulière, vous pouvez utiliser .drop() :\n",
    "df_dummies_communes = df_dummies_communes.drop(columns=['commune_Nice'])\n",
    "\n",
    "# # Convertir les dummies en entiers (0/1)\n",
    "df_dummies_communes = df_dummies_communes.astype(int)\n",
    "\n",
    "# # Ajouter les dummies pour 'departmentName' au DataFrame original\n",
    "df = pd.concat([df, df_dummies_communes], axis=1)"
   ]
  },
  {
   "cell_type": "code",
   "execution_count": null,
   "metadata": {},
   "outputs": [],
   "source": [
    "# Création des dummies pour la colonne 'departmentName'\n",
    "df_dummies_department = pd.get_dummies(df['departmentName'], prefix='department')\n",
    "# # Si vous souhaitez supprimer une modalit/é particulière, vous pouvez utiliser .drop() :\n",
    "df_dummies_department = df_dummies_department.drop(columns=['department_Alpes-Maritimes'])\n",
    "\n",
    "# # Convertir les dummies en entiers (0/1)\n",
    "df_dummies_department = df_dummies_department.astype(int)\n",
    "\n",
    "# # Ajouter les dummies pour 'departmentName' au DataFrame original\n",
    "df = pd.concat([df, df_dummies_department], axis=1).drop(columns='departmentName')"
   ]
  },
  {
   "cell_type": "code",
   "execution_count": null,
   "metadata": {},
   "outputs": [
    {
     "name": "stderr",
     "output_type": "stream",
     "text": [
      "PandasGUI INFO — pandasgui.gui — Opening PandasGUI\n",
      "C:\\Users\\flori\\AppData\\Local\\Temp\\ipykernel_4516\\4000138087.py:1: FutureWarning:\n",
      "\n",
      "Series.__getitem__ treating keys as positions is deprecated. In a future version, integer keys will always be treated as labels (consistent with DataFrame behavior). To access a value by position, use `ser.iloc[pos]`\n",
      "\n",
      "C:\\Users\\flori\\AppData\\Local\\Temp\\ipykernel_4516\\4000138087.py:1: FutureWarning:\n",
      "\n",
      "Series.__getitem__ treating keys as positions is deprecated. In a future version, integer keys will always be treated as labels (consistent with DataFrame behavior). To access a value by position, use `ser.iloc[pos]`\n",
      "\n",
      "C:\\Users\\flori\\AppData\\Local\\Temp\\ipykernel_4516\\4000138087.py:1: FutureWarning:\n",
      "\n",
      "Series.__getitem__ treating keys as positions is deprecated. In a future version, integer keys will always be treated as labels (consistent with DataFrame behavior). To access a value by position, use `ser.iloc[pos]`\n",
      "\n",
      "C:\\Users\\flori\\AppData\\Local\\Temp\\ipykernel_4516\\4000138087.py:1: FutureWarning:\n",
      "\n",
      "Series.__getitem__ treating keys as positions is deprecated. In a future version, integer keys will always be treated as labels (consistent with DataFrame behavior). To access a value by position, use `ser.iloc[pos]`\n",
      "\n",
      "C:\\Users\\flori\\AppData\\Local\\Temp\\ipykernel_4516\\4000138087.py:1: FutureWarning:\n",
      "\n",
      "Series.__getitem__ treating keys as positions is deprecated. In a future version, integer keys will always be treated as labels (consistent with DataFrame behavior). To access a value by position, use `ser.iloc[pos]`\n",
      "\n",
      "C:\\Users\\flori\\AppData\\Local\\Temp\\ipykernel_4516\\4000138087.py:1: FutureWarning:\n",
      "\n",
      "Series.__getitem__ treating keys as positions is deprecated. In a future version, integer keys will always be treated as labels (consistent with DataFrame behavior). To access a value by position, use `ser.iloc[pos]`\n",
      "\n"
     ]
    },
    {
     "data": {
      "text/plain": [
       "<pandasgui.gui.PandasGui at 0x1ffba23c290>"
      ]
     },
     "execution_count": 37,
     "metadata": {},
     "output_type": "execute_result"
    }
   ],
   "source": [
    "show(df_mai.head(100))"
   ]
  },
  {
   "cell_type": "code",
   "execution_count": null,
   "metadata": {},
   "outputs": [],
   "source": [
    "# Transformation en log de certaines colonnes\n",
    "variables_continues =    [\"surface_reelle_bati\",\n",
    "                          \"prix_m2\",\n",
    "                          \"distance_min_beach\",\n",
    "                          \"distance_min_station\",\n",
    "                          \"distance_centre_ville\"\n",
    "                          ]\n",
    "\n",
    "df = modeling.transformer_log(df, variables_continues)\n",
    "\n",
    "df_app = df[df[\"type_local\"]==\"Appartement\"]\n",
    "df_mai = df[df[\"type_local\"]==\"Maison\"]\n",
    "\n",
    "# Colonnes explicatives, simplifiées à partir de variables_continues\n",
    "colonnes_explicatives = [\n",
    "    \"log_surface_reelle_bati\",\n",
    "    \"log_distance_min_beach\",\n",
    "    # \"nombre_pieces_principales\",\n",
    "    \"log_distance_min_station\",\n",
    "    \"log_distance_centre_ville\",\n",
    "    \"zone_inondable\",\n",
    "    # \"scenario_01For\"\n",
    "] + [\n",
    "    col for col in df.columns if col.startswith('population')\n",
    "] + [\n",
    "#     col for col in df.columns if col.startswith('scenario')\n",
    "] + [\n",
    "#     col for col in df.columns if col.startswith('department')\n",
    "# ] + [\n",
    "    col for col in df.columns if col.startswith('commune_')\n",
    "]\n",
    "\n",
    "colonnes_explicatives2 = [\n",
    "    col for col in colonnes_explicatives if col != \"zone_inondable\"\n",
    "] + [\n",
    "    col for col in df.columns if col.startswith(\"scenario\")\n",
    "    \n",
    "]\n",
    "\n",
    "colonne_dependante = \"log_prix_m2\"\n",
    "\n",
    "# Création du modèle avec dummies pour les départements\n",
    "model_app = modeling.construire_modele_regression(\n",
    "    df_app,\n",
    "    colonnes_explicatives=colonnes_explicatives,\n",
    "    colonne_dependante=colonne_dependante\n",
    ")\n",
    "\n",
    "model_app2 = modeling.construire_modele_regression(\n",
    "    df_app,\n",
    "    colonnes_explicatives=colonnes_explicatives2,\n",
    "    colonne_dependante=colonne_dependante\n",
    ")\n",
    "\n",
    "model_mai = modeling.construire_modele_regression(\n",
    "    df_mai,\n",
    "    colonnes_explicatives=colonnes_explicatives,\n",
    "    colonne_dependante=colonne_dependante\n",
    ")\n",
    "\n",
    "model_mai2 = modeling.construire_modele_regression(\n",
    "    df_mai,\n",
    "    colonnes_explicatives=colonnes_explicatives2,\n",
    "    colonne_dependante=colonne_dependante\n",
    ")\n",
    "# Ajustement avec covariance robuste de type HC3\n",
    "# model_robust = model.get_robustcov_results(cov_type='HC3')\n",
    "# vif_data[\"VIF\"] = [variance_inflation_factor(X.values, i) for i in range(X.shape[1])]\n",
    "\n",
    "# Résumé des résultats\n",
    "# print(model_robust.summary())\n",
    "# Résultats du modèle\n",
    "# print(model_app.summary())\n",
    "# print(model_mai.summary())\n",
    "# print(vif_data)\n"
   ]
  },
  {
   "cell_type": "code",
   "execution_count": null,
   "metadata": {},
   "outputs": [
    {
     "ename": "AttributeError",
     "evalue": "module 'script.modeling' has no attribute 'extraire_resultats_modele'",
     "output_type": "error",
     "traceback": [
      "\u001b[1;31m---------------------------------------------------------------------------\u001b[0m",
      "\u001b[1;31mAttributeError\u001b[0m                            Traceback (most recent call last)",
      "Cell \u001b[1;32mIn[41], line 2\u001b[0m\n\u001b[0;32m      1\u001b[0m \u001b[38;5;66;03m# Extraire les résultats des 4 modèles\u001b[39;00m\n\u001b[1;32m----> 2\u001b[0m resultats_app \u001b[38;5;241m=\u001b[39m \u001b[43mmodeling\u001b[49m\u001b[38;5;241;43m.\u001b[39;49m\u001b[43mextraire_resultats_modele\u001b[49m(model_app)\n\u001b[0;32m      3\u001b[0m resultats_app2 \u001b[38;5;241m=\u001b[39m modeling\u001b[38;5;241m.\u001b[39mextraire_resultats_modele(model_app2)\n\u001b[0;32m      4\u001b[0m resultats_mai \u001b[38;5;241m=\u001b[39m modeling\u001b[38;5;241m.\u001b[39mextraire_resultats_modele(model_mai)\n",
      "\u001b[1;31mAttributeError\u001b[0m: module 'script.modeling' has no attribute 'extraire_resultats_modele'"
     ]
    }
   ],
   "source": [
    "# Extraire les résultats des 4 modèles\n",
    "resultats_app = modeling.extraire_resultats_modele(model_app)\n",
    "resultats_app2 = modeling.extraire_resultats_modele(model_app2)\n",
    "resultats_mai = modeling.extraire_resultats_modele(model_mai)\n",
    "resultats_mai2 = modeling.extraire_resultats_modele(model_mai2)\n",
    "\n",
    "# Fusionner les résultats des modèles sur le nom des variables\n",
    "tableau_resultats = (\n",
    "    resultats_app[[\"variable\"]]\n",
    "    .merge(resultats_app, on=\"variable\", how=\"outer\", suffixes=(\"\", \"_app\"))\n",
    "    .merge(resultats_app2, on=\"variable\", how=\"outer\", suffixes=(\"_app\", \"_app2\"))\n",
    "    .merge(resultats_mai, on=\"variable\", how=\"outer\", suffixes=(\"_app2\", \"_mai\"))\n",
    "    .merge(resultats_mai2, on=\"variable\", how=\"outer\", suffixes=(\"_mai\", \"_mai2\"))\n",
    ")\n",
    "\n",
    "# Renommer les colonnes pour clarté\n",
    "tableau_resultats = tableau_resultats.rename(columns={\n",
    "    \"coefficient\": \"Coeff_app\", \"significativite\": \"Signif_app\",\n",
    "    \"coefficient_app2\": \"Coeff_app2\", \"significativite_app2\": \"Signif_app2\",\n",
    "    \"coefficient_mai\": \"Coeff_mai\", \"significativite_mai\": \"Signif_mai\",\n",
    "    \"coefficient_mai2\": \"Coeff_mai2\", \"significativite_mai2\": \"Signif_mai2\",\n",
    "})\n",
    "\n",
    "# Réorganiser les colonnes pour affichage\n",
    "tableau_final = tableau_resultats[[\n",
    "    \"variable\", \n",
    "    \"Coeff_app\", \"Signif_app\", \n",
    "    \"Coeff_app2\", \"Signif_app2\", \n",
    "    \"Coeff_mai\", \"Signif_mai\", \n",
    "    \"Coeff_mai2\", \"Signif_mai2\"\n",
    "]]\n",
    "\n",
    "# Affichage du tableau final\n",
    "print(tableau_final)"
   ]
  }
 ],
 "metadata": {
  "kernelspec": {
   "display_name": "Python 3",
   "language": "python",
   "name": "python3"
  },
  "language_info": {
   "codemirror_mode": {
    "name": "ipython",
    "version": 3
   },
   "file_extension": ".py",
   "mimetype": "text/x-python",
   "name": "python",
   "nbconvert_exporter": "python",
   "pygments_lexer": "ipython3",
   "version": "3.12.7"
  }
 },
 "nbformat": 4,
 "nbformat_minor": 2
}
