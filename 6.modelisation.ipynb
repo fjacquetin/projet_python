{
 "cells": [
  {
   "cell_type": "code",
   "execution_count": 2,
   "metadata": {},
   "outputs": [
    {
     "name": "stderr",
     "output_type": "stream",
     "text": [
      "ERROR: Could not find a version that satisfies the requirement statsmodel==0.13.5 (from versions: none)\n",
      "ERROR: No matching distribution found for statsmodel==0.13.5\n"
     ]
    }
   ],
   "source": [
    "## La version de python utilisée est 3.12.7\n",
    "\n",
    "!pip install -r requirements.txt -q"
   ]
  },
  {
   "cell_type": "code",
   "execution_count": 126,
   "metadata": {},
   "outputs": [],
   "source": [
    "import pandas as pd\n",
    "import requests as rq\n",
    "import lxml as lxml\n",
    "from bs4 import BeautifulSoup\n",
    "import io as io\n",
    "import math\n",
    "import gzip\n",
    "import shutil\n",
    "import os\n",
    "import geopandas as gpd\n",
    "import matplotlib.pyplot as plt\n",
    "import folium\n",
    "import json\n",
    "from pandasgui import show\n",
    "import numpy as np\n",
    "from io import BytesIO\n",
    "from folium.plugins import HeatMap\n",
    "import nbconvert\n",
    "import numpy as np\n",
    "import statsmodels.formula.api as smf\n",
    "import statsmodels.api as sm\n",
    "from statsmodels.stats.outliers_influence import variance_inflation_factor\n",
    "\n",
    "from script import process_data\n",
    "from script import geolocaliser\n",
    "from script import modeling\n",
    "from geopy.geocoders import Nominatim\n",
    "from geopy.exc import GeocoderTimedOut"
   ]
  },
  {
   "cell_type": "code",
   "execution_count": 109,
   "metadata": {},
   "outputs": [
    {
     "name": "stderr",
     "output_type": "stream",
     "text": [
      "C:\\Users\\flori\\AppData\\Local\\Temp\\ipykernel_24492\\648495320.py:1: DtypeWarning:\n",
      "\n",
      "Columns (6,8) have mixed types. Specify dtype option on import or set low_memory=False.\n",
      "\n"
     ]
    }
   ],
   "source": [
    "df = pd.read_csv(\"data/transactions_with_zone_inondable.csv\",encoding=\"utf-8\",sep=\";\")"
   ]
  },
  {
   "cell_type": "code",
   "execution_count": 110,
   "metadata": {},
   "outputs": [],
   "source": [
    "# Calcul de la distance pour chaque ligne du DataFrame\n",
    "df['distance_centre_ville'] = df.apply(\n",
    "    lambda row: modeling.distance_haversine(\n",
    "        row['latitude'], row['longitude'],\n",
    "        row['latitude_mairie'], row['longitude_mairie']\n",
    "    ),\n",
    "    axis=1\n",
    ")"
   ]
  },
  {
   "cell_type": "code",
   "execution_count": 111,
   "metadata": {},
   "outputs": [],
   "source": [
    "import ast\n",
    "\n",
    "# Conversion des chaînes en listes de tuples\n",
    "df[\"beach_coordinates\"] = df[\"beach_coordinates\"].apply(\n",
    "    lambda x: ast.literal_eval(x) if isinstance(x, str) else x\n",
    ")\n",
    "\n",
    "df[\"station\"] = df[\"station\"].apply(\n",
    "    lambda x: ast.literal_eval(x) if isinstance(x, str) else x\n",
    ")"
   ]
  },
  {
   "cell_type": "code",
   "execution_count": 112,
   "metadata": {},
   "outputs": [],
   "source": [
    "def nettoyer_coordinates(coords):\n",
    "    if isinstance(coords, list):  # Si c'est déjà une liste, la garder\n",
    "        return coords\n",
    "    if isinstance(coords, float) or coords is None:  # Si c'est un NaN ou autre, retourner None\n",
    "        return None\n",
    "    return coords  # Par défaut, retourner la valeur initiale (si elle est correcte)\n",
    "\n",
    "df[\"beach_coordinates\"] = df[\"beach_coordinates\"].apply(nettoyer_coordinates)\n",
    "df[\"station\"] = df[\"station\"].apply(nettoyer_coordinates)"
   ]
  },
  {
   "cell_type": "code",
   "execution_count": 113,
   "metadata": {},
   "outputs": [],
   "source": [
    "# Calcul de la distance minimale à la plage ou au port en fonction de la disponibilité des données\n",
    "df[\"distance_min_beach\"] = df.apply(\n",
    "    lambda row: modeling.distance_minimale(row[\"latitude\"], row[\"longitude\"], row[\"beach_coordinates\"])\n",
    "    if row[\"beach_coordinates\"] else None,  # Si aucune coordonnée plage disponible, retourner None\n",
    "    axis=1\n",
    ")\n",
    "\n",
    "# Si distance_min_beach est NaN, calculer la distance au port\n",
    "df[\"distance_min_beach\"] = df.apply(\n",
    "    lambda row: modeling.distance_haversine(\n",
    "        row['latitude'], row['longitude'],\n",
    "        row['latitude_port'], row['longitude_port']\n",
    "    ) if pd.isna(row[\"distance_min_beach\"]) else row[\"distance_min_beach\"],\n",
    "    axis=1\n",
    ")\n"
   ]
  },
  {
   "cell_type": "code",
   "execution_count": 114,
   "metadata": {},
   "outputs": [],
   "source": [
    "df[\"distance_min_station\"] = df.apply(\n",
    "    lambda row: modeling.distance_minimale(row[\"latitude\"], row[\"longitude\"], row[\"station\"])\n",
    "    if row[\"station\"] else None,  # Si aucune coordonnée disponible, retourner None\n",
    "    axis=1\n",
    ")"
   ]
  },
  {
   "cell_type": "code",
   "execution_count": 115,
   "metadata": {},
   "outputs": [],
   "source": [
    "def convertir_en_numerique(df, colonnes):\n",
    "    \"\"\"\n",
    "    Convertit les colonnes spécifiées du DataFrame en type numérique.\n",
    "    \n",
    "    Args:\n",
    "        df (pd.DataFrame): Le DataFrame à modifier.\n",
    "        colonnes (list): Liste des colonnes à convertir en numériques.\n",
    "        \n",
    "    Returns:\n",
    "        pd.DataFrame: Le DataFrame avec les colonnes converties.\n",
    "    \"\"\"\n",
    "    for col in colonnes:\n",
    "        df[col] = pd.to_numeric(df[col], errors='coerce')\n",
    "    return df"
   ]
  },
  {
   "cell_type": "code",
   "execution_count": 116,
   "metadata": {},
   "outputs": [
    {
     "name": "stdout",
     "output_type": "stream",
     "text": [
      "code_scenario\n",
      "02Moy    2617\n",
      "04Fai    2292\n",
      "01For    1154\n",
      "03Mcc     939\n",
      "Name: count, dtype: int64\n"
     ]
    }
   ],
   "source": [
    "# Affichage des modalités de 'code_scenario'\n",
    "modalites_code_scenario = df['code_scenario'].value_counts()\n",
    "print(modalites_code_scenario)"
   ]
  },
  {
   "cell_type": "code",
   "execution_count": 117,
   "metadata": {},
   "outputs": [],
   "source": [
    "# Définir les bornes des tranches et les labels\n",
    "bins = [0, 10000, 50000, np.inf]  # Définir les bornes des tranches\n",
    "labels = ['0-10000','10000-50000', 'plus_50000']  # Labels des tranches\n",
    "\n",
    "# Créer la variable catégorielle 'pop'\n",
    "df['pop_cut'] = pd.cut(df['Population'], bins=bins, labels=labels, right=False)\n",
    "\n",
    "# Créer des variables dummies pour les catégories de population\n",
    "df_dummies_population = pd.get_dummies(df['pop_cut'], prefix='population_',drop_first=True)\n",
    "df_dummies_population = df_dummies_population.astype(int)\n",
    "\n",
    "# Ajouter les dummies au DataFrame\n",
    "df = pd.concat([df, df_dummies_population], axis=1)"
   ]
  },
  {
   "cell_type": "code",
   "execution_count": 118,
   "metadata": {},
   "outputs": [],
   "source": [
    "# Création des dummies pour la colonne 'code_scenario'\n",
    "df_dummies_scenario = pd.get_dummies(df['code_scenario'], prefix='scenario')\n",
    "# df_dummies_scenario = df_dummies_scenario.drop(columns=['scenario_04Fai'])\n",
    "df_dummies_scenario = df_dummies_scenario.astype(int)\n",
    "\n",
    "# Ajouter les dummies au DataFrame original\n",
    "df = pd.concat([df, df_dummies_scenario], axis=1)\n"
   ]
  },
  {
   "cell_type": "code",
   "execution_count": 119,
   "metadata": {},
   "outputs": [],
   "source": [
    "# Création des dummies pour la colonne 'departmentName'\n",
    "df_dummies_communes = pd.get_dummies(df['nom_commune'], prefix='commune')\n",
    "# # Si vous souhaitez supprimer une modalit/é particulière, vous pouvez utiliser .drop() :\n",
    "df_dummies_communes = df_dummies_communes.drop(columns=['commune_Nice'])\n",
    "\n",
    "# # Convertir les dummies en entiers (0/1)\n",
    "df_dummies_communes = df_dummies_communes.astype(int)\n",
    "\n",
    "# # Ajouter les dummies pour 'departmentName' au DataFrame original\n",
    "df = pd.concat([df, df_dummies_communes], axis=1)"
   ]
  },
  {
   "cell_type": "code",
   "execution_count": 120,
   "metadata": {},
   "outputs": [],
   "source": [
    "# Création des dummies pour la colonne 'departmentName'\n",
    "df_dummies_department = pd.get_dummies(df['departmentName'], prefix='department')\n",
    "# # Si vous souhaitez supprimer une modalit/é particulière, vous pouvez utiliser .drop() :\n",
    "df_dummies_department = df_dummies_department.drop(columns=['department_Alpes-Maritimes'])\n",
    "\n",
    "# # Convertir les dummies en entiers (0/1)\n",
    "df_dummies_department = df_dummies_department.astype(int)\n",
    "\n",
    "# # Ajouter les dummies pour 'departmentName' au DataFrame original\n",
    "df = pd.concat([df, df_dummies_department], axis=1).drop(columns='departmentName')"
   ]
  },
  {
   "cell_type": "code",
   "execution_count": null,
   "metadata": {},
   "outputs": [
    {
     "name": "stderr",
     "output_type": "stream",
     "text": [
      "C:\\Users\\flori\\AppData\\Local\\Packages\\PythonSoftwareFoundation.Python.3.12_qbz5n2kfra8p0\\LocalCache\\local-packages\\Python312\\site-packages\\statsmodels\\regression\\linear_model.py:1782: RuntimeWarning:\n",
      "\n",
      "divide by zero encountered in scalar divide\n",
      "\n",
      "C:\\Users\\flori\\AppData\\Local\\Packages\\PythonSoftwareFoundation.Python.3.12_qbz5n2kfra8p0\\LocalCache\\local-packages\\Python312\\site-packages\\statsmodels\\stats\\outliers_influence.py:197: RuntimeWarning:\n",
      "\n",
      "divide by zero encountered in scalar divide\n",
      "\n",
      "C:\\Users\\flori\\AppData\\Local\\Packages\\PythonSoftwareFoundation.Python.3.12_qbz5n2kfra8p0\\LocalCache\\local-packages\\Python312\\site-packages\\statsmodels\\regression\\linear_model.py:1782: RuntimeWarning:\n",
      "\n",
      "invalid value encountered in scalar divide\n",
      "\n"
     ]
    }
   ],
   "source": [
    "# Transformation en log de certaines colonnes\n",
    "variables_continues =    [\"surface_reelle_bati\",\n",
    "                          \"prix_m2\",\n",
    "                          \"distance_min_beach\",\n",
    "                          \"distance_min_station\",\n",
    "                          \"distance_centre_ville\"\n",
    "                          ]\n",
    "\n",
    "df = modeling.transformer_log(df, variables_continues)\n",
    "\n",
    "# Colonnes explicatives, simplifiées à partir de variables_continues\n",
    "colonnes_explicatives = [\n",
    "    \"log_surface_reelle_bati\",\n",
    "    \"log_distance_min_beach\",\n",
    "    # \"nombre_pieces_principales\",\n",
    "    \"log_distance_min_station\",\n",
    "    \"log_distance_centre_ville\",\n",
    "    \"zone_inondable\",\n",
    "    # \"scenario_01For\"\n",
    "] + [\n",
    "    col for col in df.columns if col.startswith('population')\n",
    "] + [\n",
    "#     col for col in df.columns if col.startswith('scenario')\n",
    "] + [\n",
    "#     col for col in df.columns if col.startswith('department')\n",
    "# ] + [\n",
    "    col for col in df.columns if col.startswith('commune_')\n",
    "]\n",
    "\n",
    "colonne_dependante = \"log_prix_m2\"\n",
    "\n",
    "# Création du modèle avec dummies pour les départements\n",
    "X,y = modeling.construire_modele_regression(\n",
    "    df,\n",
    "    colonnes_explicatives=colonnes_explicatives,\n",
    "    colonne_dependante=colonne_dependante\n",
    ")\n",
    "\n",
    "X = sm.add_constant(X)\n",
    "model = sm.OLS(y, X).fit()\n",
    "# Ajustement avec covariance robuste de type HC3\n",
    "# model_robust = model.get_robustcov_results(cov_type='HC3')\n",
    "vif_data[\"VIF\"] = [variance_inflation_factor(X.values, i) for i in range(X.shape[1])]\n",
    "\n",
    "# Résumé des résultats\n",
    "# print(model_robust.summary())\n",
    "# Résultats du modèle\n",
    "print(model.summary())\n",
    "print(vif_data)\n"
   ]
  }
 ],
 "metadata": {
  "kernelspec": {
   "display_name": "Python 3",
   "language": "python",
   "name": "python3"
  },
  "language_info": {
   "codemirror_mode": {
    "name": "ipython",
    "version": 3
   },
   "file_extension": ".py",
   "mimetype": "text/x-python",
   "name": "python",
   "nbconvert_exporter": "python",
   "pygments_lexer": "ipython3",
   "version": "3.12.7"
  }
 },
 "nbformat": 4,
 "nbformat_minor": 2
}
