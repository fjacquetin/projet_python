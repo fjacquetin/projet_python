{
 "cells": [
  {
   "cell_type": "code",
   "execution_count": 2,
   "metadata": {},
   "outputs": [
    {
     "name": "stderr",
     "output_type": "stream",
     "text": [
      "ERROR: Could not find a version that satisfies the requirement statsmodel==0.14.4 (from versions: none)\n",
      "ERROR: No matching distribution found for statsmodel==0.14.4\n"
     ]
    }
   ],
   "source": [
    "## La version de python utilisée est 3.12.7\n",
    "\n",
    "!pip install -r requirements.txt -q"
   ]
  },
  {
   "cell_type": "code",
   "execution_count": 3,
   "metadata": {},
   "outputs": [],
   "source": [
    "import pandas as pd\n",
    "import requests as rq\n",
    "import lxml as lxml\n",
    "from bs4 import BeautifulSoup\n",
    "import io as io\n",
    "import math\n",
    "import gzip\n",
    "import shutil\n",
    "import os\n",
    "import geopandas as gpd\n",
    "import matplotlib.pyplot as plt\n",
    "import folium\n",
    "import json\n",
    "from pandasgui import show\n",
    "import numpy as np\n",
    "from io import BytesIO\n",
    "from folium.plugins import HeatMap\n",
    "import nbconvert\n",
    "\n",
    "from script import request_tri\n",
    "from geopy.geocoders import Nominatim\n",
    "from geopy.exc import GeocoderTimedOut"
   ]
  },
  {
   "cell_type": "code",
   "execution_count": 4,
   "metadata": {},
   "outputs": [
    {
     "name": "stderr",
     "output_type": "stream",
     "text": [
      "C:\\Users\\flori\\AppData\\Local\\Temp\\ipykernel_26280\\2978799986.py:2: DtypeWarning: Columns (6,8) have mixed types. Specify dtype option on import or set low_memory=False.\n",
      "  transactions = pd.read_csv(\"data/base.csv\",sep=\";\",encoding=\"utf-8\")\n"
     ]
    }
   ],
   "source": [
    "# Charger le fichier CSV contenant les transactions\n",
    "transactions = pd.read_csv(\"data/base.csv\",sep=\";\",encoding=\"utf-8\")"
   ]
  },
  {
   "cell_type": "code",
   "execution_count": 5,
   "metadata": {},
   "outputs": [
    {
     "name": "stderr",
     "output_type": "stream",
     "text": [
      "PandasGUI INFO — pandasgui.gui — Opening PandasGUI\n",
      "C:\\Users\\flori\\AppData\\Local\\Temp\\ipykernel_26280\\1073385779.py:1: FutureWarning: Series.__getitem__ treating keys as positions is deprecated. In a future version, integer keys will always be treated as labels (consistent with DataFrame behavior). To access a value by position, use `ser.iloc[pos]`\n",
      "  show(transactions.head(100))\n",
      "C:\\Users\\flori\\AppData\\Local\\Temp\\ipykernel_26280\\1073385779.py:1: FutureWarning: Series.__getitem__ treating keys as positions is deprecated. In a future version, integer keys will always be treated as labels (consistent with DataFrame behavior). To access a value by position, use `ser.iloc[pos]`\n",
      "  show(transactions.head(100))\n",
      "C:\\Users\\flori\\AppData\\Local\\Temp\\ipykernel_26280\\1073385779.py:1: FutureWarning:\n",
      "\n",
      "Series.__getitem__ treating keys as positions is deprecated. In a future version, integer keys will always be treated as labels (consistent with DataFrame behavior). To access a value by position, use `ser.iloc[pos]`\n",
      "\n",
      "C:\\Users\\flori\\AppData\\Local\\Temp\\ipykernel_26280\\1073385779.py:1: FutureWarning:\n",
      "\n",
      "Series.__getitem__ treating keys as positions is deprecated. In a future version, integer keys will always be treated as labels (consistent with DataFrame behavior). To access a value by position, use `ser.iloc[pos]`\n",
      "\n",
      "C:\\Users\\flori\\AppData\\Local\\Temp\\ipykernel_26280\\1073385779.py:1: FutureWarning:\n",
      "\n",
      "Series.__getitem__ treating keys as positions is deprecated. In a future version, integer keys will always be treated as labels (consistent with DataFrame behavior). To access a value by position, use `ser.iloc[pos]`\n",
      "\n",
      "C:\\Users\\flori\\AppData\\Local\\Temp\\ipykernel_26280\\1073385779.py:1: FutureWarning:\n",
      "\n",
      "Series.__getitem__ treating keys as positions is deprecated. In a future version, integer keys will always be treated as labels (consistent with DataFrame behavior). To access a value by position, use `ser.iloc[pos]`\n",
      "\n"
     ]
    },
    {
     "data": {
      "text/plain": [
       "<pandasgui.gui.PandasGui at 0x15bc9926f90>"
      ]
     },
     "execution_count": 5,
     "metadata": {},
     "output_type": "execute_result"
    }
   ],
   "source": [
    "show(transactions.head(100))"
   ]
  },
  {
   "cell_type": "code",
   "execution_count": 6,
   "metadata": {},
   "outputs": [
    {
     "name": "stdout",
     "output_type": "stream",
     "text": [
      "Erreur API (400) pour la commune 'None' (lat: nan, lon: nan).\n",
      "Erreur API (400) pour la commune 'None' (lat: nan, lon: nan).\n",
      "Erreur API (400) pour la commune 'None' (lat: nan, lon: nan).\n",
      "Erreur API (400) pour la commune 'None' (lat: nan, lon: nan).\n",
      "Erreur API (400) pour la commune 'None' (lat: nan, lon: nan).\n",
      "Erreur API (400) pour la commune 'None' (lat: nan, lon: nan).\n",
      "Erreur API (400) pour la commune 'None' (lat: nan, lon: nan).\n",
      "Erreur API (400) pour la commune 'None' (lat: nan, lon: nan).\n",
      "Erreur API (400) pour la commune 'None' (lat: nan, lon: nan).\n",
      "Erreur API (400) pour la commune 'None' (lat: nan, lon: nan).\n",
      "Erreur API (400) pour la commune 'None' (lat: nan, lon: nan).\n",
      "Erreur API (400) pour la commune 'None' (lat: nan, lon: nan).\n",
      "Erreur API (400) pour la commune 'None' (lat: nan, lon: nan).\n",
      "Erreur API (400) pour la commune 'None' (lat: nan, lon: nan).\n",
      "Erreur API (400) pour la commune 'None' (lat: nan, lon: nan).\n",
      "Erreur API (400) pour la commune 'None' (lat: nan, lon: nan).\n",
      "Erreur API (400) pour la commune 'None' (lat: nan, lon: nan).\n",
      "Erreur API (400) pour la commune 'None' (lat: nan, lon: nan).\n",
      "Erreur API (400) pour la commune 'None' (lat: nan, lon: nan).\n",
      "Erreur API (400) pour la commune 'None' (lat: nan, lon: nan).\n",
      "Erreur API (400) pour la commune 'None' (lat: nan, lon: nan).\n",
      "Erreur API (400) pour la commune 'None' (lat: nan, lon: nan).\n",
      "Erreur API (400) pour la commune 'None' (lat: nan, lon: nan).\n",
      "Erreur API (400) pour la commune 'None' (lat: nan, lon: nan).\n",
      "Erreur API (400) pour la commune 'None' (lat: nan, lon: nan).\n",
      "Erreur API (400) pour la commune 'None' (lat: nan, lon: nan).\n",
      "Erreur API (400) pour la commune 'None' (lat: nan, lon: nan).\n",
      "Erreur API (400) pour la commune 'None' (lat: nan, lon: nan).\n",
      "Erreur API (400) pour la commune 'None' (lat: nan, lon: nan).\n",
      "Erreur API (400) pour la commune 'None' (lat: nan, lon: nan).\n",
      "Erreur API (400) pour la commune 'None' (lat: nan, lon: nan).\n",
      "Erreur API (400) pour la commune 'None' (lat: nan, lon: nan).\n",
      "Erreur API (400) pour la commune 'None' (lat: nan, lon: nan).\n",
      "Erreur API (400) pour la commune 'None' (lat: nan, lon: nan).\n",
      "Erreur API (400) pour la commune 'None' (lat: nan, lon: nan).\n",
      "Erreur API (400) pour la commune 'None' (lat: nan, lon: nan).\n",
      "Erreur API (400) pour la commune 'None' (lat: nan, lon: nan).\n",
      "Erreur API (400) pour la commune 'None' (lat: nan, lon: nan).\n",
      "Erreur API (400) pour la commune 'None' (lat: nan, lon: nan).\n",
      "Erreur API (400) pour la commune 'None' (lat: nan, lon: nan).\n",
      "Erreur API (400) pour la commune 'None' (lat: nan, lon: nan).\n",
      "Erreur API (400) pour la commune 'None' (lat: nan, lon: nan).\n",
      "Erreur API (400) pour la commune 'None' (lat: nan, lon: nan).\n",
      "Erreur API (400) pour la commune 'None' (lat: nan, lon: nan).\n",
      "Erreur API (400) pour la commune 'None' (lat: nan, lon: nan).\n",
      "Erreur API (400) pour la commune 'None' (lat: nan, lon: nan).\n",
      "Erreur API (400) pour la commune 'None' (lat: nan, lon: nan).\n",
      "Erreur API (400) pour la commune 'None' (lat: nan, lon: nan).\n",
      "Erreur API (400) pour la commune 'None' (lat: nan, lon: nan).\n",
      "Erreur API (400) pour la commune 'None' (lat: nan, lon: nan).\n",
      "Erreur API (400) pour la commune 'None' (lat: nan, lon: nan).\n",
      "Erreur API (400) pour la commune 'None' (lat: nan, lon: nan).\n",
      "Erreur API (400) pour la commune 'None' (lat: nan, lon: nan).\n",
      "Erreur API (400) pour la commune 'None' (lat: nan, lon: nan).\n",
      "Erreur API (400) pour la commune 'None' (lat: nan, lon: nan).\n",
      "Erreur API (400) pour la commune 'None' (lat: nan, lon: nan).\n",
      "Erreur API (400) pour la commune 'None' (lat: nan, lon: nan).\n",
      "Erreur API (400) pour la commune 'None' (lat: nan, lon: nan).\n",
      "Erreur API (400) pour la commune 'None' (lat: nan, lon: nan).\n",
      "Erreur API (400) pour la commune 'None' (lat: nan, lon: nan).\n",
      "Erreur API (400) pour la commune 'None' (lat: nan, lon: nan).\n",
      "Erreur API (400) pour la commune 'None' (lat: nan, lon: nan).\n",
      "Erreur API (400) pour la commune 'None' (lat: nan, lon: nan).\n",
      "Erreur API (400) pour la commune 'None' (lat: nan, lon: nan).\n",
      "Erreur API (400) pour la commune 'None' (lat: nan, lon: nan).\n",
      "Erreur API (400) pour la commune 'None' (lat: nan, lon: nan).\n",
      "Erreur API (400) pour la commune 'None' (lat: nan, lon: nan).\n",
      "Erreur API (400) pour la commune 'None' (lat: nan, lon: nan).\n",
      "Erreur API (400) pour la commune 'None' (lat: nan, lon: nan).\n",
      "Erreur API (400) pour la commune 'None' (lat: nan, lon: nan).\n",
      "Erreur API (400) pour la commune 'None' (lat: nan, lon: nan).\n",
      "Erreur API (400) pour la commune 'None' (lat: nan, lon: nan).\n",
      "Erreur API (400) pour la commune 'None' (lat: nan, lon: nan).\n",
      "Erreur API (400) pour la commune 'None' (lat: nan, lon: nan).\n",
      "Erreur API (400) pour la commune 'None' (lat: nan, lon: nan).\n",
      "Erreur API (400) pour la commune 'None' (lat: nan, lon: nan).\n",
      "Erreur API (400) pour la commune 'None' (lat: nan, lon: nan).\n",
      "Erreur API (400) pour la commune 'None' (lat: nan, lon: nan).\n",
      "Erreur API (400) pour la commune 'None' (lat: nan, lon: nan).\n",
      "Erreur API (400) pour la commune 'None' (lat: nan, lon: nan).\n",
      "Erreur API (400) pour la commune 'None' (lat: nan, lon: nan).\n",
      "Erreur API (400) pour la commune 'None' (lat: nan, lon: nan).\n",
      "Erreur API (400) pour la commune 'None' (lat: nan, lon: nan).\n",
      "Erreur API (400) pour la commune 'None' (lat: nan, lon: nan).\n",
      "Erreur API (400) pour la commune 'None' (lat: nan, lon: nan).\n",
      "Erreur API (400) pour la commune 'None' (lat: nan, lon: nan).\n",
      "Erreur API (400) pour la commune 'None' (lat: nan, lon: nan).\n",
      "Erreur API (400) pour la commune 'None' (lat: nan, lon: nan).\n",
      "Erreur API (400) pour la commune 'None' (lat: nan, lon: nan).\n",
      "Erreur API (400) pour la commune 'None' (lat: nan, lon: nan).\n",
      "Erreur API (400) pour la commune 'None' (lat: nan, lon: nan).\n",
      "Erreur API (400) pour la commune 'None' (lat: nan, lon: nan).\n",
      "Erreur API (400) pour la commune 'None' (lat: nan, lon: nan).\n",
      "Erreur API (400) pour la commune 'None' (lat: nan, lon: nan).\n",
      "Erreur API (400) pour la commune 'None' (lat: nan, lon: nan).\n",
      "Erreur API (400) pour la commune 'None' (lat: nan, lon: nan).\n",
      "Erreur API (400) pour la commune 'None' (lat: nan, lon: nan).\n",
      "Erreur API (400) pour la commune 'None' (lat: nan, lon: nan).\n",
      "Erreur API (400) pour la commune 'None' (lat: nan, lon: nan).\n",
      "Erreur API (400) pour la commune 'None' (lat: nan, lon: nan).\n",
      "Erreur API (400) pour la commune 'None' (lat: nan, lon: nan).\n",
      "Erreur API (400) pour la commune 'None' (lat: nan, lon: nan).\n",
      "Erreur API (400) pour la commune 'None' (lat: nan, lon: nan).\n",
      "Erreur API (400) pour la commune 'None' (lat: nan, lon: nan).\n",
      "Erreur API (400) pour la commune 'None' (lat: nan, lon: nan).\n",
      "Erreur API (400) pour la commune 'None' (lat: nan, lon: nan).\n",
      "Erreur API (400) pour la commune 'None' (lat: nan, lon: nan).\n",
      "Erreur API (400) pour la commune 'None' (lat: nan, lon: nan).\n",
      "Erreur API (400) pour la commune 'None' (lat: nan, lon: nan).\n",
      "Erreur API (400) pour la commune 'None' (lat: nan, lon: nan).\n",
      "Erreur API (400) pour la commune 'None' (lat: nan, lon: nan).\n",
      "Erreur API (400) pour la commune 'None' (lat: nan, lon: nan).\n",
      "Erreur API (400) pour la commune 'None' (lat: nan, lon: nan).\n",
      "Erreur API (400) pour la commune 'None' (lat: nan, lon: nan).\n",
      "Erreur API (400) pour la commune 'None' (lat: nan, lon: nan).\n",
      "Erreur API (400) pour la commune 'None' (lat: nan, lon: nan).\n",
      "Erreur API (400) pour la commune 'None' (lat: nan, lon: nan).\n",
      "Erreur API (400) pour la commune 'None' (lat: nan, lon: nan).\n",
      "Erreur API (400) pour la commune 'None' (lat: nan, lon: nan).\n",
      "Erreur API (400) pour la commune 'None' (lat: nan, lon: nan).\n",
      "Erreur API (400) pour la commune 'None' (lat: nan, lon: nan).\n",
      "Erreur API (400) pour la commune 'None' (lat: nan, lon: nan).\n",
      "Erreur API (400) pour la commune 'None' (lat: nan, lon: nan).\n",
      "Erreur API (400) pour la commune 'None' (lat: nan, lon: nan).\n",
      "Erreur API (400) pour la commune 'None' (lat: nan, lon: nan).\n",
      "Erreur API (400) pour la commune 'None' (lat: nan, lon: nan).\n",
      "Erreur API (400) pour la commune 'None' (lat: nan, lon: nan).\n",
      "Erreur API (400) pour la commune 'None' (lat: nan, lon: nan).\n",
      "Erreur API (400) pour la commune 'None' (lat: nan, lon: nan).\n",
      "Erreur API (400) pour la commune 'None' (lat: nan, lon: nan).\n",
      "Erreur API (400) pour la commune 'None' (lat: nan, lon: nan).\n",
      "Erreur API (400) pour la commune 'None' (lat: nan, lon: nan).\n",
      "Erreur API (400) pour la commune 'None' (lat: nan, lon: nan).\n",
      "Erreur API (400) pour la commune 'None' (lat: nan, lon: nan).\n",
      "Erreur API (400) pour la commune 'None' (lat: nan, lon: nan).\n",
      "Erreur API (400) pour la commune 'None' (lat: nan, lon: nan).\n",
      "Erreur API (400) pour la commune 'None' (lat: nan, lon: nan).\n",
      "Erreur API (400) pour la commune 'None' (lat: nan, lon: nan).\n",
      "Erreur API (400) pour la commune 'None' (lat: nan, lon: nan).\n",
      "Erreur API (400) pour la commune 'None' (lat: nan, lon: nan).\n",
      "Erreur API (400) pour la commune 'None' (lat: nan, lon: nan).\n",
      "Erreur API (400) pour la commune 'None' (lat: nan, lon: nan).\n",
      "Erreur API (400) pour la commune 'None' (lat: nan, lon: nan).\n",
      "Erreur API (400) pour la commune 'None' (lat: nan, lon: nan).\n",
      "Erreur API (400) pour la commune 'None' (lat: nan, lon: nan).\n",
      "Erreur API (400) pour la commune 'None' (lat: nan, lon: nan).\n",
      "Requête expirée pour la commune 'None' (lat: 42.602036, lon: 3.037957).\n",
      "Erreur API (400) pour la commune 'None' (lat: nan, lon: nan).\n",
      "Erreur API (400) pour la commune 'None' (lat: nan, lon: nan).\n",
      "Erreur API (400) pour la commune 'None' (lat: nan, lon: nan).\n",
      "Erreur API (400) pour la commune 'None' (lat: nan, lon: nan).\n",
      "Erreur API (400) pour la commune 'None' (lat: nan, lon: nan).\n",
      "Erreur API (400) pour la commune 'None' (lat: nan, lon: nan).\n",
      "Erreur API (400) pour la commune 'None' (lat: nan, lon: nan).\n",
      "Erreur API (400) pour la commune 'None' (lat: nan, lon: nan).\n",
      "Erreur API (400) pour la commune 'None' (lat: nan, lon: nan).\n",
      "Erreur API (400) pour la commune 'None' (lat: nan, lon: nan).\n",
      "Erreur API (400) pour la commune 'None' (lat: nan, lon: nan).\n",
      "Erreur API (400) pour la commune 'None' (lat: nan, lon: nan).\n"
     ]
    }
   ],
   "source": [
    "# Ajouter une colonne pour savoir si le bien est en zone inondable\n",
    "transactions[['results','identifiant_tri','libelle_type_inondation','code_scenario']] = transactions.apply(\n",
    "    lambda row: pd.Series(request_tri.check_inondable(row['latitude'], row['longitude'])),\n",
    "    axis=1\n",
    ")\n"
   ]
  },
  {
   "cell_type": "code",
   "execution_count": 7,
   "metadata": {},
   "outputs": [],
   "source": [
    "# Sauvegarder le fichier avec les résultats\n",
    "\n",
    "transactions['results'] = transactions['results'].replace({2: 0, 3: 0})\n",
    "transactions = transactions.rename(columns={'results': 'zone_inondable'})\n",
    "transactions.to_csv(\"transactions_with_zone_inondable.csv\",sep=\";\",encoding=\"utf-8\", index=False)"
   ]
  },
  {
   "cell_type": "code",
   "execution_count": 8,
   "metadata": {},
   "outputs": [],
   "source": [
    "# import swifter\n",
    "\n",
    "# test=transactions.iloc[0:1000]\n",
    "# test[['results', 'identifiant_tri', 'libelle_type_inondation', 'code_scenario']] = test.swifter.apply(\n",
    "#     lambda row: pd.Series(request_tri.check_inondable(row['latitude'], row['longitude'])),\n",
    "#     axis=1\n",
    "#     )"
   ]
  },
  {
   "cell_type": "code",
   "execution_count": 9,
   "metadata": {},
   "outputs": [
    {
     "name": "stdout",
     "output_type": "stream",
     "text": [
      "nom_commune\n",
      "Nice                     7718\n",
      "Cannes                   2772\n",
      "Toulon                   2684\n",
      "Saint-Raphaël            2288\n",
      "Brest                    2026\n",
      "                         ... \n",
      "Beauvoir-sur-Mer            1\n",
      "Sainte-Marie-de-Ré          1\n",
      "Lampaul-Plouarzel           1\n",
      "Bourcefranc-le-Chapus       1\n",
      "Hillion                     1\n",
      "Length: 337, dtype: int64\n"
     ]
    }
   ],
   "source": [
    "# Étape 1 : Compter et afficher le nombre de transactions par commune\n",
    "transaction_counts = transactions.groupby('nom_commune').size().sort_values(ascending=False)\n",
    "print(transaction_counts)"
   ]
  },
  {
   "cell_type": "code",
   "execution_count": 10,
   "metadata": {},
   "outputs": [
    {
     "ename": "KeyError",
     "evalue": "'results'",
     "output_type": "error",
     "traceback": [
      "\u001b[1;31m---------------------------------------------------------------------------\u001b[0m",
      "\u001b[1;31mKeyError\u001b[0m                                  Traceback (most recent call last)",
      "File \u001b[1;32m~\\AppData\\Local\\Packages\\PythonSoftwareFoundation.Python.3.12_qbz5n2kfra8p0\\LocalCache\\local-packages\\Python312\\site-packages\\pandas\\core\\indexes\\base.py:3805\u001b[0m, in \u001b[0;36mIndex.get_loc\u001b[1;34m(self, key)\u001b[0m\n\u001b[0;32m   3804\u001b[0m \u001b[38;5;28;01mtry\u001b[39;00m:\n\u001b[1;32m-> 3805\u001b[0m     \u001b[38;5;28;01mreturn\u001b[39;00m \u001b[38;5;28;43mself\u001b[39;49m\u001b[38;5;241;43m.\u001b[39;49m\u001b[43m_engine\u001b[49m\u001b[38;5;241;43m.\u001b[39;49m\u001b[43mget_loc\u001b[49m\u001b[43m(\u001b[49m\u001b[43mcasted_key\u001b[49m\u001b[43m)\u001b[49m\n\u001b[0;32m   3806\u001b[0m \u001b[38;5;28;01mexcept\u001b[39;00m \u001b[38;5;167;01mKeyError\u001b[39;00m \u001b[38;5;28;01mas\u001b[39;00m err:\n",
      "File \u001b[1;32mindex.pyx:167\u001b[0m, in \u001b[0;36mpandas._libs.index.IndexEngine.get_loc\u001b[1;34m()\u001b[0m\n",
      "File \u001b[1;32mindex.pyx:196\u001b[0m, in \u001b[0;36mpandas._libs.index.IndexEngine.get_loc\u001b[1;34m()\u001b[0m\n",
      "File \u001b[1;32mpandas\\\\_libs\\\\hashtable_class_helper.pxi:7081\u001b[0m, in \u001b[0;36mpandas._libs.hashtable.PyObjectHashTable.get_item\u001b[1;34m()\u001b[0m\n",
      "File \u001b[1;32mpandas\\\\_libs\\\\hashtable_class_helper.pxi:7089\u001b[0m, in \u001b[0;36mpandas._libs.hashtable.PyObjectHashTable.get_item\u001b[1;34m()\u001b[0m\n",
      "\u001b[1;31mKeyError\u001b[0m: 'results'",
      "\nThe above exception was the direct cause of the following exception:\n",
      "\u001b[1;31mKeyError\u001b[0m                                  Traceback (most recent call last)",
      "Cell \u001b[1;32mIn[10], line 1\u001b[0m\n\u001b[1;32m----> 1\u001b[0m filtered_transactions \u001b[38;5;241m=\u001b[39m \u001b[43mtransactions\u001b[49m\u001b[38;5;241;43m.\u001b[39;49m\u001b[43mgroupby\u001b[49m\u001b[43m(\u001b[49m\u001b[38;5;124;43m'\u001b[39;49m\u001b[38;5;124;43mnom_commune\u001b[39;49m\u001b[38;5;124;43m'\u001b[39;49m\u001b[43m)\u001b[49m\u001b[38;5;241;43m.\u001b[39;49m\u001b[43mfilter\u001b[49m\u001b[43m(\u001b[49m\n\u001b[0;32m      2\u001b[0m \u001b[43m    \u001b[49m\u001b[38;5;28;43;01mlambda\u001b[39;49;00m\u001b[43m \u001b[49m\u001b[43mgroup\u001b[49m\u001b[43m:\u001b[49m\u001b[43m \u001b[49m\u001b[38;5;28;43mlen\u001b[39;49m\u001b[43m(\u001b[49m\u001b[43mgroup\u001b[49m\u001b[43m)\u001b[49m\u001b[43m \u001b[49m\u001b[38;5;241;43m>\u001b[39;49m\u001b[38;5;241;43m=\u001b[39;49m\u001b[43m \u001b[49m\u001b[38;5;241;43m10\u001b[39;49m\u001b[43m \u001b[49m\u001b[38;5;129;43;01mand\u001b[39;49;00m\u001b[43m \u001b[49m\u001b[43mgroup\u001b[49m\u001b[43m[\u001b[49m\u001b[38;5;124;43m'\u001b[39;49m\u001b[38;5;124;43mresults\u001b[39;49m\u001b[38;5;124;43m'\u001b[39;49m\u001b[43m]\u001b[49m\u001b[38;5;241;43m.\u001b[39;49m\u001b[43msum\u001b[49m\u001b[43m(\u001b[49m\u001b[43m)\u001b[49m\u001b[43m \u001b[49m\u001b[38;5;241;43m>\u001b[39;49m\u001b[43m \u001b[49m\u001b[38;5;241;43m0\u001b[39;49m\u001b[43m \u001b[49m\u001b[38;5;129;43;01mand\u001b[39;49;00m\u001b[43m \u001b[49m\u001b[43m(\u001b[49m\u001b[43mgroup\u001b[49m\u001b[43m[\u001b[49m\u001b[38;5;124;43m'\u001b[39;49m\u001b[38;5;124;43mresults\u001b[39;49m\u001b[38;5;124;43m'\u001b[39;49m\u001b[43m]\u001b[49m\u001b[43m \u001b[49m\u001b[38;5;241;43m==\u001b[39;49m\u001b[43m \u001b[49m\u001b[38;5;241;43m0\u001b[39;49m\u001b[43m)\u001b[49m\u001b[38;5;241;43m.\u001b[39;49m\u001b[43many\u001b[49m\u001b[43m(\u001b[49m\u001b[43m)\u001b[49m\n\u001b[0;32m      3\u001b[0m \u001b[43m)\u001b[49m\n",
      "File \u001b[1;32m~\\AppData\\Local\\Packages\\PythonSoftwareFoundation.Python.3.12_qbz5n2kfra8p0\\LocalCache\\local-packages\\Python312\\site-packages\\pandas\\core\\groupby\\generic.py:1919\u001b[0m, in \u001b[0;36mDataFrameGroupBy.filter\u001b[1;34m(self, func, dropna, *args, **kwargs)\u001b[0m\n\u001b[0;32m   1914\u001b[0m \u001b[38;5;28;01mfor\u001b[39;00m name, group \u001b[38;5;129;01min\u001b[39;00m gen:\n\u001b[0;32m   1915\u001b[0m     \u001b[38;5;66;03m# 2023-02-27 no tests are broken this pinning, but it is documented in the\u001b[39;00m\n\u001b[0;32m   1916\u001b[0m     \u001b[38;5;66;03m#  docstring above.\u001b[39;00m\n\u001b[0;32m   1917\u001b[0m     \u001b[38;5;28mobject\u001b[39m\u001b[38;5;241m.\u001b[39m\u001b[38;5;21m__setattr__\u001b[39m(group, \u001b[38;5;124m\"\u001b[39m\u001b[38;5;124mname\u001b[39m\u001b[38;5;124m\"\u001b[39m, name)\n\u001b[1;32m-> 1919\u001b[0m     res \u001b[38;5;241m=\u001b[39m \u001b[43mfunc\u001b[49m\u001b[43m(\u001b[49m\u001b[43mgroup\u001b[49m\u001b[43m,\u001b[49m\u001b[43m \u001b[49m\u001b[38;5;241;43m*\u001b[39;49m\u001b[43margs\u001b[49m\u001b[43m,\u001b[49m\u001b[43m \u001b[49m\u001b[38;5;241;43m*\u001b[39;49m\u001b[38;5;241;43m*\u001b[39;49m\u001b[43mkwargs\u001b[49m\u001b[43m)\u001b[49m\n\u001b[0;32m   1921\u001b[0m     \u001b[38;5;28;01mtry\u001b[39;00m:\n\u001b[0;32m   1922\u001b[0m         res \u001b[38;5;241m=\u001b[39m res\u001b[38;5;241m.\u001b[39msqueeze()\n",
      "Cell \u001b[1;32mIn[10], line 2\u001b[0m, in \u001b[0;36m<lambda>\u001b[1;34m(group)\u001b[0m\n\u001b[0;32m      1\u001b[0m filtered_transactions \u001b[38;5;241m=\u001b[39m transactions\u001b[38;5;241m.\u001b[39mgroupby(\u001b[38;5;124m'\u001b[39m\u001b[38;5;124mnom_commune\u001b[39m\u001b[38;5;124m'\u001b[39m)\u001b[38;5;241m.\u001b[39mfilter(\n\u001b[1;32m----> 2\u001b[0m     \u001b[38;5;28;01mlambda\u001b[39;00m group: \u001b[38;5;28mlen\u001b[39m(group) \u001b[38;5;241m>\u001b[39m\u001b[38;5;241m=\u001b[39m \u001b[38;5;241m10\u001b[39m \u001b[38;5;129;01mand\u001b[39;00m \u001b[43mgroup\u001b[49m\u001b[43m[\u001b[49m\u001b[38;5;124;43m'\u001b[39;49m\u001b[38;5;124;43mresults\u001b[39;49m\u001b[38;5;124;43m'\u001b[39;49m\u001b[43m]\u001b[49m\u001b[38;5;241m.\u001b[39msum() \u001b[38;5;241m>\u001b[39m \u001b[38;5;241m0\u001b[39m \u001b[38;5;129;01mand\u001b[39;00m (group[\u001b[38;5;124m'\u001b[39m\u001b[38;5;124mresults\u001b[39m\u001b[38;5;124m'\u001b[39m] \u001b[38;5;241m==\u001b[39m \u001b[38;5;241m0\u001b[39m)\u001b[38;5;241m.\u001b[39many()\n\u001b[0;32m      3\u001b[0m )\n",
      "File \u001b[1;32m~\\AppData\\Local\\Packages\\PythonSoftwareFoundation.Python.3.12_qbz5n2kfra8p0\\LocalCache\\local-packages\\Python312\\site-packages\\pandas\\core\\frame.py:4102\u001b[0m, in \u001b[0;36mDataFrame.__getitem__\u001b[1;34m(self, key)\u001b[0m\n\u001b[0;32m   4100\u001b[0m \u001b[38;5;28;01mif\u001b[39;00m \u001b[38;5;28mself\u001b[39m\u001b[38;5;241m.\u001b[39mcolumns\u001b[38;5;241m.\u001b[39mnlevels \u001b[38;5;241m>\u001b[39m \u001b[38;5;241m1\u001b[39m:\n\u001b[0;32m   4101\u001b[0m     \u001b[38;5;28;01mreturn\u001b[39;00m \u001b[38;5;28mself\u001b[39m\u001b[38;5;241m.\u001b[39m_getitem_multilevel(key)\n\u001b[1;32m-> 4102\u001b[0m indexer \u001b[38;5;241m=\u001b[39m \u001b[38;5;28;43mself\u001b[39;49m\u001b[38;5;241;43m.\u001b[39;49m\u001b[43mcolumns\u001b[49m\u001b[38;5;241;43m.\u001b[39;49m\u001b[43mget_loc\u001b[49m\u001b[43m(\u001b[49m\u001b[43mkey\u001b[49m\u001b[43m)\u001b[49m\n\u001b[0;32m   4103\u001b[0m \u001b[38;5;28;01mif\u001b[39;00m is_integer(indexer):\n\u001b[0;32m   4104\u001b[0m     indexer \u001b[38;5;241m=\u001b[39m [indexer]\n",
      "File \u001b[1;32m~\\AppData\\Local\\Packages\\PythonSoftwareFoundation.Python.3.12_qbz5n2kfra8p0\\LocalCache\\local-packages\\Python312\\site-packages\\pandas\\core\\indexes\\base.py:3812\u001b[0m, in \u001b[0;36mIndex.get_loc\u001b[1;34m(self, key)\u001b[0m\n\u001b[0;32m   3807\u001b[0m     \u001b[38;5;28;01mif\u001b[39;00m \u001b[38;5;28misinstance\u001b[39m(casted_key, \u001b[38;5;28mslice\u001b[39m) \u001b[38;5;129;01mor\u001b[39;00m (\n\u001b[0;32m   3808\u001b[0m         \u001b[38;5;28misinstance\u001b[39m(casted_key, abc\u001b[38;5;241m.\u001b[39mIterable)\n\u001b[0;32m   3809\u001b[0m         \u001b[38;5;129;01mand\u001b[39;00m \u001b[38;5;28many\u001b[39m(\u001b[38;5;28misinstance\u001b[39m(x, \u001b[38;5;28mslice\u001b[39m) \u001b[38;5;28;01mfor\u001b[39;00m x \u001b[38;5;129;01min\u001b[39;00m casted_key)\n\u001b[0;32m   3810\u001b[0m     ):\n\u001b[0;32m   3811\u001b[0m         \u001b[38;5;28;01mraise\u001b[39;00m InvalidIndexError(key)\n\u001b[1;32m-> 3812\u001b[0m     \u001b[38;5;28;01mraise\u001b[39;00m \u001b[38;5;167;01mKeyError\u001b[39;00m(key) \u001b[38;5;28;01mfrom\u001b[39;00m \u001b[38;5;21;01merr\u001b[39;00m\n\u001b[0;32m   3813\u001b[0m \u001b[38;5;28;01mexcept\u001b[39;00m \u001b[38;5;167;01mTypeError\u001b[39;00m:\n\u001b[0;32m   3814\u001b[0m     \u001b[38;5;66;03m# If we have a listlike key, _check_indexing_error will raise\u001b[39;00m\n\u001b[0;32m   3815\u001b[0m     \u001b[38;5;66;03m#  InvalidIndexError. Otherwise we fall through and re-raise\u001b[39;00m\n\u001b[0;32m   3816\u001b[0m     \u001b[38;5;66;03m#  the TypeError.\u001b[39;00m\n\u001b[0;32m   3817\u001b[0m     \u001b[38;5;28mself\u001b[39m\u001b[38;5;241m.\u001b[39m_check_indexing_error(key)\n",
      "\u001b[1;31mKeyError\u001b[0m: 'results'"
     ]
    }
   ],
   "source": [
    "filtered_transactions = transactions.groupby('nom_commune').filter(\n",
    "    lambda group: len(group) >= 10 and group['results'].sum() > 0 and (group['results'] == 0).any()\n",
    ")"
   ]
  },
  {
   "cell_type": "code",
   "execution_count": null,
   "metadata": {},
   "outputs": [],
   "source": [
    "# Étape 3 : Calculer la moyenne agrégée des prix par commune et par zone inondable\n",
    "filtered_transactions['prix_m2'] = filtered_transactions['valeur_fonciere'] / filtered_transactions['surface_reelle_bati']"
   ]
  },
  {
   "cell_type": "code",
   "execution_count": null,
   "metadata": {},
   "outputs": [],
   "source": [
    "# Moyenne par commune et zone inondable\n",
    "mean_prices = filtered_transactions.groupby(['nom_commune', 'results'])['prix_m2'].mean().unstack()"
   ]
  },
  {
   "cell_type": "code",
   "execution_count": null,
   "metadata": {},
   "outputs": [
    {
     "ename": "NameError",
     "evalue": "name 'filtered_transactions' is not defined",
     "output_type": "error",
     "traceback": [
      "\u001b[1;31m---------------------------------------------------------------------------\u001b[0m",
      "\u001b[1;31mNameError\u001b[0m                                 Traceback (most recent call last)",
      "Cell \u001b[1;32mIn[3], line 2\u001b[0m\n\u001b[0;32m      1\u001b[0m \u001b[38;5;66;03m# Calcul du prix moyen total par commune\u001b[39;00m\n\u001b[1;32m----> 2\u001b[0m filtered_transactions[\u001b[38;5;124m'\u001b[39m\u001b[38;5;124mprix_m2\u001b[39m\u001b[38;5;124m'\u001b[39m] \u001b[38;5;241m=\u001b[39m \u001b[43mfiltered_transactions\u001b[49m[\u001b[38;5;124m'\u001b[39m\u001b[38;5;124mvaleur_fonciere\u001b[39m\u001b[38;5;124m'\u001b[39m] \u001b[38;5;241m/\u001b[39m filtered_transactions[\u001b[38;5;124m'\u001b[39m\u001b[38;5;124msurface_reelle_bati\u001b[39m\u001b[38;5;124m'\u001b[39m]\n\u001b[0;32m      4\u001b[0m \u001b[38;5;66;03m# Calcul du prix moyen total par commune\u001b[39;00m\n\u001b[0;32m      5\u001b[0m mean_total \u001b[38;5;241m=\u001b[39m transactions\u001b[38;5;241m.\u001b[39mgroupby(\u001b[38;5;124m'\u001b[39m\u001b[38;5;124mnom_commune\u001b[39m\u001b[38;5;124m'\u001b[39m)[\u001b[38;5;124m'\u001b[39m\u001b[38;5;124mprix_m2\u001b[39m\u001b[38;5;124m'\u001b[39m]\u001b[38;5;241m.\u001b[39mmean()\n",
      "\u001b[1;31mNameError\u001b[0m: name 'filtered_transactions' is not defined"
     ]
    }
   ],
   "source": [
    "# Calcul du prix moyen total par commune\n",
    "filtered_transactions['prix_m2'] = filtered_transactions['valeur_fonciere'] / filtered_transactions['surface_reelle_bati']\n",
    "\n",
    "# Calcul du prix moyen total par commune\n",
    "mean_total = transactions.groupby('nom_commune')['prix_m2'].mean()\n",
    "\n",
    "# Calcul du prix moyen par commune et par zone inondable\n",
    "mean_by_zone = filtered_transactions.groupby(['nom_commune', 'results'])['prix_m2'].mean().unstack()\n",
    "\n",
    "# Ajouter les colonnes pour le prix moyen en zone non inondable (results = 0) et zone inondable (results = 1)\n",
    "mean_by_zone = mean_by_zone.rename(columns={0: 'prix_moyen_non_inondable', 1: 'prix_moyen_inondable'})\n",
    "\n",
    "# Ajouter la colonne pour les prix moyens totaux\n",
    "mean_by_zone['prix_moyen_total'] = mean_total\n",
    "\n",
    "# Calculer la différence entre les prix moyens\n",
    "mean_by_zone['différence_inondable'] = mean_by_zone['prix_moyen_inondable'] - mean_by_zone['prix_moyen_non_inondable']\n",
    "\n",
    "# Ajouter le nombre d'observations en zone inondable et non inondable\n",
    "observations_count = filtered_transactions.groupby(['nom_commune', 'results']).size().unstack(fill_value=0)\n",
    "observations_count = observations_count.rename(columns={0: 'nb_non_inondable', 1: 'nb_inondable'})\n",
    "\n",
    "# Joindre ces informations au DataFrame 'mean_by_zone'\n",
    "mean_by_zone = mean_by_zone.join(observations_count)\n",
    "\n",
    "# Trier les communes par différence décroissante\n",
    "result_table = mean_by_zone.sort_values(by='différence_inondable', ascending=False)\n",
    "\n",
    "# Résultat final\n",
    "print(result_table)\n",
    "print(result_table.dtypes)\n",
    "\n",
    "# Exporter le DataFrame final en CSV\n",
    "result_table.to_csv('data/moyenne.csv', encoding=\"utf-8\", sep=\";\", decimal=\",\", index=True)"
   ]
  }
 ],
 "metadata": {
  "kernelspec": {
   "display_name": "Python 3",
   "language": "python",
   "name": "python3"
  },
  "language_info": {
   "codemirror_mode": {
    "name": "ipython",
    "version": 3
   },
   "file_extension": ".py",
   "mimetype": "text/x-python",
   "name": "python",
   "nbconvert_exporter": "python",
   "pygments_lexer": "ipython3",
   "version": "3.12.7"
  }
 },
 "nbformat": 4,
 "nbformat_minor": 2
}
