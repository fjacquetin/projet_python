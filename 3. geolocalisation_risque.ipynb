{
 "cells": [
  {
   "cell_type": "code",
   "execution_count": 9,
   "metadata": {},
   "outputs": [],
   "source": [
    "## La version de python utilisée est 3.12.7\n",
    "\n",
    "!pip install -r requirements.txt -q"
   ]
  },
  {
   "cell_type": "code",
   "execution_count": 2,
   "metadata": {},
   "outputs": [],
   "source": [
    "import pandas as pd\n",
    "import requests as rq\n",
    "import lxml as lxml\n",
    "from bs4 import BeautifulSoup\n",
    "import io as io\n",
    "import math\n",
    "import gzip\n",
    "import shutil\n",
    "import os\n",
    "import geopandas as gpd\n",
    "import matplotlib.pyplot as plt\n",
    "import folium\n",
    "import json\n",
    "from pandasgui import show\n",
    "import numpy as np\n",
    "from io import BytesIO\n",
    "from folium.plugins import HeatMap\n",
    "import nbconvert\n",
    "\n",
    "from script import request_tri\n",
    "from geopy.geocoders import Nominatim\n",
    "from geopy.exc import GeocoderTimedOut"
   ]
  },
  {
   "cell_type": "code",
   "execution_count": null,
   "metadata": {},
   "outputs": [],
   "source": [
    "# Charger le fichier CSV contenant les transactions\n",
    "transactions = pd.read_csv(\"data/base.csv\",sep=\";\",encoding=\"utf-8\")\n",
    "\n",
    "# Ajouter une colonne pour savoir si le bien est en zone inondable\n",
    "transactions[['results','identifiant_tri','libelle_type_inondation','code_scenario']] = transactions.apply(\n",
    "    lambda row: pd.Series(request_tri.check_inondable(row['latitude'], row['longitude'])),\n",
    "    axis=1\n",
    ")\n"
   ]
  },
  {
   "cell_type": "code",
   "execution_count": 39,
   "metadata": {},
   "outputs": [],
   "source": [
    "# Sauvegarder le fichier avec les résultats\n",
    "\n",
    "transactions['results'] = transactions['results'].replace({2: 0, 3: 0})\n",
    "\n",
    "transactions.to_csv(\"transactions_with_zone_inondable.csv\",sep=\";\",encoding=\"utf-8\", index=False)"
   ]
  },
  {
   "cell_type": "code",
   "execution_count": null,
   "metadata": {},
   "outputs": [
    {
     "data": {
      "application/vnd.jupyter.widget-view+json": {
       "model_id": "cfc589e9d20a483880b0f4c9cbdf498a",
       "version_major": 2,
       "version_minor": 0
      },
      "text/plain": [
       "Pandas Apply:   0%|          | 0/1000 [00:00<?, ?it/s]"
      ]
     },
     "metadata": {},
     "output_type": "display_data"
    },
    {
     "name": "stdout",
     "output_type": "stream",
     "text": [
      "Erreur API (400) pour la commune 'None' (lat: nan, lon: nan).\n"
     ]
    },
    {
     "name": "stderr",
     "output_type": "stream",
     "text": [
      "C:\\Users\\flori\\AppData\\Local\\Temp\\ipykernel_19932\\2683548646.py:4: SettingWithCopyWarning: \n",
      "A value is trying to be set on a copy of a slice from a DataFrame.\n",
      "Try using .loc[row_indexer,col_indexer] = value instead\n",
      "\n",
      "See the caveats in the documentation: https://pandas.pydata.org/pandas-docs/stable/user_guide/indexing.html#returning-a-view-versus-a-copy\n",
      "  test[['results', 'identifiant_tri', 'libelle_type_inondation', 'code_scenario']] = test.swifter.apply(\n"
     ]
    }
   ],
   "source": [
    "# import swifter\n",
    "\n",
    "# test=transactions.iloc[0:1000]\n",
    "# test[['results', 'identifiant_tri', 'libelle_type_inondation', 'code_scenario']] = test.swifter.apply(\n",
    "#     lambda row: pd.Series(request_tri.check_inondable(row['latitude'], row['longitude'])),\n",
    "#     axis=1\n",
    "#     )"
   ]
  },
  {
   "cell_type": "code",
   "execution_count": 27,
   "metadata": {},
   "outputs": [
    {
     "name": "stdout",
     "output_type": "stream",
     "text": [
      "nom_commune\n",
      "Nice                        7718\n",
      "Cannes                      2772\n",
      "Toulon                      2684\n",
      "Brest                       2026\n",
      "Antibes                     2019\n",
      "                            ... \n",
      "Montreuil                      1\n",
      "Cadillac                       1\n",
      "Monte                          1\n",
      "Mont-Saxonnex                  1\n",
      "Conflans-Sainte-Honorine       1\n",
      "Length: 645, dtype: int64\n"
     ]
    }
   ],
   "source": [
    "\n",
    "# Étape 1 : Compter et afficher le nombre de transactions par commune\n",
    "transaction_counts = transactions.groupby('nom_commune').size().sort_values(ascending=False)\n",
    "print(transaction_counts)"
   ]
  },
  {
   "cell_type": "code",
   "execution_count": 41,
   "metadata": {},
   "outputs": [],
   "source": [
    "filtered_transactions = transactions.groupby('nom_commune').filter(\n",
    "    lambda group: len(group) >= 10 and group['results'].sum() > 0 and (group['results'] == 0).any()\n",
    ")"
   ]
  },
  {
   "cell_type": "code",
   "execution_count": 34,
   "metadata": {},
   "outputs": [],
   "source": [
    "# Étape 3 : Calculer la moyenne agrégée des prix par commune et par zone inondable\n",
    "filtered_transactions['prix_m2'] = filtered_transactions['valeur_fonciere'] / filtered_transactions['surface_reelle_bati']"
   ]
  },
  {
   "cell_type": "code",
   "execution_count": 35,
   "metadata": {},
   "outputs": [],
   "source": [
    "# Moyenne par commune et zone inondable\n",
    "mean_prices = filtered_transactions.groupby(['nom_commune', 'results'])['prix_m2'].mean().unstack()"
   ]
  },
  {
   "cell_type": "code",
   "execution_count": 49,
   "metadata": {},
   "outputs": [
    {
     "name": "stdout",
     "output_type": "stream",
     "text": [
      "results                 prix_moyen_non_inondable  prix_moyen_inondable  \\\n",
      "nom_commune                                                              \n",
      "Carqueiranne                         4985.877172           9000.000000   \n",
      "Nice                                 6797.640811          10713.955163   \n",
      "Port-Vendres                         3053.529092           6752.030303   \n",
      "Cagnes-sur-Mer                       5646.538284           8977.940631   \n",
      "Dives-sur-Mer                        3590.560495           5410.173293   \n",
      "...                                          ...                   ...   \n",
      "Toulon                               4057.139106           2576.548860   \n",
      "Sérignan                             4232.625174           2675.023332   \n",
      "Roquebrune-sur-Argens                5915.697345           4040.059137   \n",
      "Urrugne                              4996.460936           1776.940783   \n",
      "Saint-Georges-d'Oléron               6492.978020           3210.256410   \n",
      "\n",
      "results                 prix_moyen_total  différence_inondable  \\\n",
      "nom_commune                                                      \n",
      "Carqueiranne                 5002.814399           4014.122828   \n",
      "Nice                         7310.648560           3916.314353   \n",
      "Port-Vendres                 3281.831636           3698.501211   \n",
      "Cagnes-sur-Mer               6398.563708           3331.402347   \n",
      "Dives-sur-Mer                4943.605909           1819.612798   \n",
      "...                                  ...                   ...   \n",
      "Toulon                       3721.192958          -1480.590246   \n",
      "Sérignan                     3347.624128          -1557.601842   \n",
      "Roquebrune-sur-Argens        5851.900127          -1875.638208   \n",
      "Urrugne                      4884.152094          -3219.520154   \n",
      "Saint-Georges-d'Oléron       6194.548783          -3282.721610   \n",
      "\n",
      "results                 nb_non_inondable  nb_inondable  \n",
      "nom_commune                                             \n",
      "Carqueiranne                         236             1  \n",
      "Nice                                6707          1011  \n",
      "Port-Vendres                          76             5  \n",
      "Cagnes-sur-Mer                       734           214  \n",
      "Dives-sur-Mer                         10            29  \n",
      "...                                  ...           ...  \n",
      "Toulon                              2075           609  \n",
      "Sérignan                              19            25  \n",
      "Roquebrune-sur-Argens                142             5  \n",
      "Urrugne                               83             3  \n",
      "Saint-Georges-d'Oléron                10             1  \n",
      "\n",
      "[75 rows x 6 columns]\n",
      "results\n",
      "prix_moyen_non_inondable    float64\n",
      "prix_moyen_inondable        float64\n",
      "prix_moyen_total            float64\n",
      "différence_inondable        float64\n",
      "nb_non_inondable              int64\n",
      "nb_inondable                  int64\n",
      "dtype: object\n"
     ]
    }
   ],
   "source": [
    "# Calcul du prix moyen total par commune\n",
    "filtered_transactions['prix_m2'] = filtered_transactions['valeur_fonciere'] / filtered_transactions['surface_reelle_bati']\n",
    "\n",
    "# Calcul du prix moyen total par commune\n",
    "mean_total = transactions.groupby('nom_commune')['prix_m2'].mean()\n",
    "\n",
    "# Calcul du prix moyen par commune et par zone inondable\n",
    "mean_by_zone = filtered_transactions.groupby(['nom_commune', 'results'])['prix_m2'].mean().unstack()\n",
    "\n",
    "# Ajouter les colonnes pour le prix moyen en zone non inondable (results = 0) et zone inondable (results = 1)\n",
    "mean_by_zone = mean_by_zone.rename(columns={0: 'prix_moyen_non_inondable', 1: 'prix_moyen_inondable'})\n",
    "\n",
    "# Ajouter la colonne pour les prix moyens totaux\n",
    "mean_by_zone['prix_moyen_total'] = mean_total\n",
    "\n",
    "# Calculer la différence entre les prix moyens\n",
    "mean_by_zone['différence_inondable'] = mean_by_zone['prix_moyen_inondable'] - mean_by_zone['prix_moyen_non_inondable']\n",
    "\n",
    "# Ajouter le nombre d'observations en zone inondable et non inondable\n",
    "observations_count = filtered_transactions.groupby(['nom_commune', 'results']).size().unstack(fill_value=0)\n",
    "observations_count = observations_count.rename(columns={0: 'nb_non_inondable', 1: 'nb_inondable'})\n",
    "\n",
    "# Joindre ces informations au DataFrame 'mean_by_zone'\n",
    "mean_by_zone = mean_by_zone.join(observations_count)\n",
    "\n",
    "# Trier les communes par différence décroissante\n",
    "result_table = mean_by_zone.sort_values(by='différence_inondable', ascending=False)\n",
    "\n",
    "# Résultat final\n",
    "print(result_table)\n",
    "print(result_table.dtypes)\n",
    "\n",
    "# Exporter le DataFrame final en CSV\n",
    "result_table.to_csv('data/moyenne.csv', encoding=\"utf-8\", sep=\";\", decimal=\",\", index=True)\n"
   ]
  },
  {
   "cell_type": "code",
   "execution_count": 5,
   "metadata": {},
   "outputs": [
    {
     "data": {
      "text/plain": [
       "{'results': 1,\n",
       " 'data': [{'code_national_tri': '06DREAL20140006',\n",
       "   'identifiant_tri': 'FRD_TRI_NICE',\n",
       "   'libelle_tri': 'Nice Cannes Mandelieu',\n",
       "   'cours_deau': 'riou_siagne',\n",
       "   'typeInondation': {'code': '01', 'libelle': \"débordement de cours d'eau\"},\n",
       "   'scenario': {'code': '04Fai', 'libelle': 'aléa de faible probabilité'},\n",
       "   'date_arrete_pcb': '12/12/2012',\n",
       "   'date_arrete_carte': '20/12/2013',\n",
       "   'date_arrete_pcb_local': None,\n",
       "   'date_arrete_prefet_parties_prenantes': None,\n",
       "   'date_arrete_approbation': None,\n",
       "   'date_arrete_national': None,\n",
       "   'code_insee': '06029',\n",
       "   'libelle_commune': 'CANNES'}],\n",
       " 'response_code': 200,\n",
       " 'message': None}"
      ]
     },
     "execution_count": 5,
     "metadata": {},
     "output_type": "execute_result"
    }
   ],
   "source": [
    "import requests\n",
    "\n",
    "url2 = \"https://georisques.gouv.fr/api/v1/tri_zonage\"  # Remplacez par l'URL de votre API réelle\n",
    "\n",
    "params2 = {\n",
    "    'latlon': f\"{6.958845},{43.541189}\",\n",
    "}\n",
    "\n",
    "response2 = requests.get(url2, params=params2)\n",
    "response2.json()"
   ]
  }
 ],
 "metadata": {
  "kernelspec": {
   "display_name": "Python 3",
   "language": "python",
   "name": "python3"
  },
  "language_info": {
   "codemirror_mode": {
    "name": "ipython",
    "version": 3
   },
   "file_extension": ".py",
   "mimetype": "text/x-python",
   "name": "python",
   "nbconvert_exporter": "python",
   "pygments_lexer": "ipython3",
   "version": "3.12.7"
  }
 },
 "nbformat": 4,
 "nbformat_minor": 2
}
