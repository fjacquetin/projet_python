{
 "cells": [
  {
   "cell_type": "code",
   "execution_count": 1,
   "metadata": {},
   "outputs": [],
   "source": [
    "## La version de python utilisée est 3.12.7\n",
    "\n",
    "!pip install -r requirements.txt -q"
   ]
  },
  {
   "cell_type": "code",
   "execution_count": 2,
   "metadata": {},
   "outputs": [],
   "source": [
    "import pandas as pd\n",
    "import requests as rq\n",
    "import lxml as lxml\n",
    "from bs4 import BeautifulSoup\n",
    "import io as io\n",
    "import math\n",
    "import gzip\n",
    "import shutil\n",
    "import os\n",
    "import geopandas as gpd\n",
    "import matplotlib.pyplot as plt\n",
    "import folium\n",
    "import json\n",
    "from pandasgui import show\n",
    "import numpy as np\n",
    "from io import BytesIO\n",
    "from folium.plugins import HeatMap\n",
    "import nbconvert\n",
    "\n",
    "from script import request_tri\n",
    "from geopy.geocoders import Nominatim\n",
    "from geopy.exc import GeocoderTimedOut"
   ]
  },
  {
   "cell_type": "code",
   "execution_count": null,
   "metadata": {},
   "outputs": [
    {
     "name": "stdout",
     "output_type": "stream",
     "text": [
      "Erreur API (400) pour la commune 'None' (lat: nan, lon: nan).\n",
      "Erreur API (400) pour la commune 'None' (lat: nan, lon: nan).\n",
      "Erreur API (400) pour la commune 'None' (lat: nan, lon: nan).\n",
      "Erreur API (400) pour la commune 'None' (lat: nan, lon: nan).\n",
      "Erreur API (400) pour la commune 'None' (lat: nan, lon: nan).\n"
     ]
    }
   ],
   "source": [
    "# Charger le fichier CSV contenant les transactions\n",
    "transactions = pd.read_csv(\"data/base.csv\",sep=\";\",encoding=\"utf-8\")\n",
    "\n",
    "# Ajouter une colonne pour savoir si le bien est en zone inondable\n",
    "transactions[['results','identifiant_tri','libelle_type_inondation','code_scenario']] = transactions.apply(\n",
    "    lambda row: pd.Series(request_tri.check_inondable(row['latitude'], row['longitude'])),\n",
    "    axis=1\n",
    ")\n",
    "show(test)\n",
    "\n",
    "# Sauvegarder le fichier avec les résultats\n",
    "transactions.to_csv(\"transactions_with_zone_inondable.csv\", index=False)"
   ]
  },
  {
   "cell_type": "code",
   "execution_count": 5,
   "metadata": {},
   "outputs": [
    {
     "data": {
      "text/plain": [
       "{'results': 1,\n",
       " 'data': [{'code_national_tri': '06DREAL20140006',\n",
       "   'identifiant_tri': 'FRD_TRI_NICE',\n",
       "   'libelle_tri': 'Nice Cannes Mandelieu',\n",
       "   'cours_deau': 'riou_siagne',\n",
       "   'typeInondation': {'code': '01', 'libelle': \"débordement de cours d'eau\"},\n",
       "   'scenario': {'code': '04Fai', 'libelle': 'aléa de faible probabilité'},\n",
       "   'date_arrete_pcb': '12/12/2012',\n",
       "   'date_arrete_carte': '20/12/2013',\n",
       "   'date_arrete_pcb_local': None,\n",
       "   'date_arrete_prefet_parties_prenantes': None,\n",
       "   'date_arrete_approbation': None,\n",
       "   'date_arrete_national': None,\n",
       "   'code_insee': '06029',\n",
       "   'libelle_commune': 'CANNES'}],\n",
       " 'response_code': 200,\n",
       " 'message': None}"
      ]
     },
     "execution_count": 5,
     "metadata": {},
     "output_type": "execute_result"
    }
   ],
   "source": [
    "import requests\n",
    "\n",
    "url2 = \"https://georisques.gouv.fr/api/v1/tri_zonage\"  # Remplacez par l'URL de votre API réelle\n",
    "\n",
    "params2 = {\n",
    "    'latlon': f\"{6.958845},{43.541189}\",\n",
    "}\n",
    "\n",
    "response2 = requests.get(url2, params=params2)\n",
    "response2.json()"
   ]
  }
 ],
 "metadata": {
  "kernelspec": {
   "display_name": "Python 3",
   "language": "python",
   "name": "python3"
  },
  "language_info": {
   "codemirror_mode": {
    "name": "ipython",
    "version": 3
   },
   "file_extension": ".py",
   "mimetype": "text/x-python",
   "name": "python",
   "nbconvert_exporter": "python",
   "pygments_lexer": "ipython3",
   "version": "3.12.7"
  }
 },
 "nbformat": 4,
 "nbformat_minor": 2
}
