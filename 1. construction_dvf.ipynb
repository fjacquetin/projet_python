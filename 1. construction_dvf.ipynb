{
 "cells": [
  {
   "cell_type": "code",
   "execution_count": 3,
   "metadata": {},
   "outputs": [],
   "source": [
    "## La version de python utilisée est 3.12.7\n",
    "\n",
    "!pip install -r requirements.txt -q"
   ]
  },
  {
   "cell_type": "code",
   "execution_count": 4,
   "metadata": {},
   "outputs": [],
   "source": [
    "import pandas as pd\n",
    "import requests\n",
    "import lxml as lxml\n",
    "from bs4 import BeautifulSoup\n",
    "import io as io\n",
    "import math\n",
    "import gzip\n",
    "import shutil\n",
    "import os\n",
    "import geopandas as gpd\n",
    "import matplotlib.pyplot as plt\n",
    "import folium\n",
    "import json\n",
    "from pandasgui import show\n",
    "import numpy as np\n",
    "from io import BytesIO\n",
    "from folium.plugins import HeatMap\n",
    "import nbconvert\n",
    "\n",
    "from script import process_data\n",
    "from script import geolocaliser\n",
    "from geopy.geocoders import Nominatim\n",
    "from geopy.exc import GeocoderTimedOut"
   ]
  },
  {
   "cell_type": "markdown",
   "metadata": {},
   "source": [
    "# 2. Création du fichier des transactions cotières"
   ]
  },
  {
   "cell_type": "markdown",
   "metadata": {},
   "source": [
    "On télécharge la base Demande de valeurs foncières (DVF) qui référence, pour l'année 2023, l'ensemble des mutations à titre onéreux (en majeure partie géolocalisées) : https://files.data.gouv.fr/geo-dvf/latest/csv/2023/full.csv.gz\n",
    "\n",
    "Les informations sont issues de la Base nationale des données patrimoniales, alimentées par le système d'information de la DGFip et couvrent la France métropolitaine à l'exception des départements du Bas-Rhin, du Haut-Rhin et de Moselle.\n",
    "\n",
    "La base recense des actes (id_mutation), qui comportent un ou plusieurs mutations distinctes, repérées par le numéro de disposition (numero_disposition).\n",
    "\n",
    "Les observations de la base, appelées \"lignes de restitution\", concernent les différents locaux d'une mutation (Appartement, Maison, Dépendance, Local Industriel), ventilées selon autant de natures de culture présentes dans l'immeuble."
   ]
  },
  {
   "cell_type": "code",
   "execution_count": 5,
   "metadata": {},
   "outputs": [
    {
     "name": "stderr",
     "output_type": "stream",
     "text": [
      "C:\\Users\\flori\\AppData\\Local\\Temp\\ipykernel_2136\\190562132.py:18: DtypeWarning: Columns (8,10,12,14,17,18,20,22,26,35,36) have mixed types. Specify dtype option on import or set low_memory=False.\n",
      "  df = pd.read_csv(\"full.csv\",encoding=\"utf-8\")\n"
     ]
    }
   ],
   "source": [
    "# url = \"https://static.data.gouv.fr/resources/demandes-de-valeurs-foncieres/20241008-071041/valeursfoncieres-2023.txt.zip\"\n",
    "\n",
    "url = \"https://files.data.gouv.fr/geo-dvf/latest/csv/2023/full.csv.gz\"\n",
    "# Envoyer une requête HTTP pour obtenir le fichier CSV\n",
    "\n",
    "downloaded_file = \"full.csv.gz\"\n",
    "response = requests.get(url)\n",
    "\n",
    "with open(downloaded_file, 'wb') as file:\n",
    "    file.write(response.content)\n",
    "\n",
    "# Décompresser le fichier\n",
    "with gzip.open(downloaded_file, 'rb') as f_in:\n",
    "    with open(\"full.csv\", 'wb') as f_out:\n",
    "        shutil.copyfileobj(f_in, f_out)\n",
    "\n",
    "# Charger le fichier CSV dans un DataFrame\n",
    "df = pd.read_csv(\"full.csv\",encoding=\"utf-8\")\n",
    "\n",
    "# Optionnel : supprimer le fichier compressé après décompression\n",
    "os.remove(\"full.csv.gz\")\n",
    "os.remove(\"full.csv\")"
   ]
  },
  {
   "cell_type": "code",
   "execution_count": 6,
   "metadata": {},
   "outputs": [],
   "source": [
    "## Première opération : alléger le dataset\n",
    "\n",
    "colonnes_a_supprimer = ['adresse_suffixe',\n",
    "                        'code_nature_culture',\n",
    "                        'ancien_code_commune',\n",
    "                        'ancien_nom_commune',\n",
    "                        'ancien_id_parcelle',\n",
    "                        'numero_volume',\n",
    "                        'code_nature_culture_speciale',\n",
    "                        'nature_culture_speciale',\n",
    "                        'lot1_numero',\n",
    "                        'lot2_numero',\n",
    "                        'lot3_numero',\n",
    "                        'lot4_numero',\n",
    "                        'lot5_numero',\n",
    "                        'lot1_surface_carrez',\n",
    "                        'lot2_surface_carrez',\n",
    "                        'lot3_surface_carrez',\n",
    "                        'lot4_surface_carrez',\n",
    "                        'lot5_surface_carrez'\n",
    "                        ]\n",
    "\n",
    "df.drop(columns=colonnes_a_supprimer, inplace=True)"
   ]
  },
  {
   "cell_type": "code",
   "execution_count": null,
   "metadata": {},
   "outputs": [],
   "source": []
  },
  {
   "cell_type": "markdown",
   "metadata": {},
   "source": [
    "On importe le fichier des communes cotières et on ne retient que les transactions liées à ces communes"
   ]
  },
  {
   "cell_type": "code",
   "execution_count": 7,
   "metadata": {},
   "outputs": [],
   "source": [
    "# Effectuer un left join entre df_final et df_communes\n",
    "df_cotieres = pd.read_csv('data/communes_cotieres.csv',sep=\";\")\n",
    "df_cotieres = df_cotieres.rename(columns={'latitude': 'latitude_centre'})\n",
    "df_cotieres = df_cotieres.rename(columns={'longitude': 'longitude_centre'})\n",
    "\n",
    "liste_cotieres = sorted(df_cotieres['nom'].unique().tolist())"
   ]
  },
  {
   "cell_type": "markdown",
   "metadata": {},
   "source": [
    "Les données présentes dans le fichier sont les suivantes :\n",
    "\n",
    "Identifiant de mutation / Numéro de disposition: Chaque couple est un identifiant unique d'un acte de vente\n",
    "\n",
    "Nature de la mutation: Il s'agit du type de vente qui a eu lieu. Il peut s'agir d'une vente classique, d'une vente en l’état futur d’achèvement, d'une vente de terrain à bâtir, d'une adjudication, ou d'une expropriation ou échange.\n",
    "\n",
    "Valeur foncière: Montant de la vente. Il est TTC et n'inclut pas les frais de notaire et les éventuels frais d'agence.\n",
    "\n",
    "Adresse: L'adresse exacte du bien est communiquée via plusieurs colonnes comme le numéro de voie, le code postal etc.\n",
    "\n",
    "Latitude/Longitude : Remplies de manière presque exhaustive.\n",
    "\n",
    "Informations cadastrales: Des informations cadastrales sont fournies telles que l'identifiant de parcelle.\n",
    "\n",
    "Nombre de lots : Nombre de lots (restitués jusqu'à 5)\n",
    "\n",
    "Type de local: Il peut s'agir d'une maison, d'un appartement, d'une dépendance (isolée), ou d'un local industriel et commercial ou assimilés.\n",
    "\n",
    "Surface réelle bâti: Il s'agit de la surface réelle mesurée au sol entre les murs, différente de la surface Carrez.\n",
    "\n",
    "Nombre de pièces principales du bien immobilier\n",
    "\n",
    "Nature culture: Pour les terrains une nature de culture est renseignée afin de connaître son utilisation. Les types de terrains possible sont : terrains a bâtir, terrains d'agrément, bois, futaies feuillues, futaies mixtes, oseraies, peupleraies, futaies résineuses, taillis sous futaie, taillis simples, carrières, chemin de fer, eaux, jardins, landes, landes boisées, prés, pâtures, pacages, prés d'embouche, herbages, prés plantes, sols, terres, terres plantées, vergers, vignes\n",
    "\n",
    "Surface Terrain: Surface cadastrale du terrain."
   ]
  },
  {
   "cell_type": "markdown",
   "metadata": {},
   "source": [
    "1er filtre : On restreint DVF aux seules communes côtières."
   ]
  },
  {
   "cell_type": "code",
   "execution_count": 8,
   "metadata": {},
   "outputs": [],
   "source": [
    "df = df[df['nom_commune'].isin(liste_cotieres)]"
   ]
  },
  {
   "cell_type": "markdown",
   "metadata": {},
   "source": [
    "2nd filtre : on ne retient que les ventes."
   ]
  },
  {
   "cell_type": "code",
   "execution_count": 9,
   "metadata": {},
   "outputs": [],
   "source": [
    "df = df[df['nature_mutation']=='Vente']\n",
    "df = df.drop(columns=['nature_mutation'])"
   ]
  },
  {
   "cell_type": "markdown",
   "metadata": {},
   "source": [
    "3ème filtre : On ne retient que les mutations dont la valeur foncière est renseignée"
   ]
  },
  {
   "cell_type": "code",
   "execution_count": 10,
   "metadata": {},
   "outputs": [],
   "source": [
    "df = df[df['valeur_fonciere']>0]"
   ]
  },
  {
   "cell_type": "code",
   "execution_count": 11,
   "metadata": {},
   "outputs": [
    {
     "name": "stdout",
     "output_type": "stream",
     "text": [
      "412848\n",
      "179496\n"
     ]
    }
   ],
   "source": [
    "print(df.shape[0])\n",
    "print(df['id_mutation'].unique().shape[0])"
   ]
  },
  {
   "cell_type": "code",
   "execution_count": 12,
   "metadata": {},
   "outputs": [],
   "source": [
    "from IPython.display import display\n",
    "\n",
    "# Fonction pour afficher le tableau filtré dans un joli format pour Jupyter Notebook\n",
    "def afficher_tableau_par_id_mutation(df, id_mutation_str):\n",
    "    # Filtrer le DataFrame en fonction de l'id_mutation\n",
    "    df_filtered = df[df['id_mutation'].astype(str) == id_mutation_str]\n",
    "    \n",
    "    # Sélectionner les colonnes nécessaires\n",
    "    df_filtered = df_filtered[['id_mutation', 'valeur_fonciere', 'type_local', 'surface_reelle_bati', 'surface_terrain','nature_culture', 'nombre_pieces_principales']]\n",
    "    \n",
    "    # Affichage du tableau joli avec pandas pour Jupyter Notebook\n",
    "    display(df_filtered)\n"
   ]
  },
  {
   "cell_type": "markdown",
   "metadata": {},
   "source": [
    "Cas le plus typique : un seul local dans une seule mutation"
   ]
  },
  {
   "cell_type": "code",
   "execution_count": 13,
   "metadata": {},
   "outputs": [
    {
     "data": {
      "text/html": [
       "<div>\n",
       "<style scoped>\n",
       "    .dataframe tbody tr th:only-of-type {\n",
       "        vertical-align: middle;\n",
       "    }\n",
       "\n",
       "    .dataframe tbody tr th {\n",
       "        vertical-align: top;\n",
       "    }\n",
       "\n",
       "    .dataframe thead th {\n",
       "        text-align: right;\n",
       "    }\n",
       "</style>\n",
       "<table border=\"1\" class=\"dataframe\">\n",
       "  <thead>\n",
       "    <tr style=\"text-align: right;\">\n",
       "      <th></th>\n",
       "      <th>id_mutation</th>\n",
       "      <th>valeur_fonciere</th>\n",
       "      <th>type_local</th>\n",
       "      <th>surface_reelle_bati</th>\n",
       "      <th>surface_terrain</th>\n",
       "      <th>nature_culture</th>\n",
       "      <th>nombre_pieces_principales</th>\n",
       "    </tr>\n",
       "  </thead>\n",
       "  <tbody>\n",
       "    <tr>\n",
       "      <th>1330716</th>\n",
       "      <td>2023-457573</td>\n",
       "      <td>85600.0</td>\n",
       "      <td>Appartement</td>\n",
       "      <td>55.0</td>\n",
       "      <td>NaN</td>\n",
       "      <td>NaN</td>\n",
       "      <td>3.0</td>\n",
       "    </tr>\n",
       "  </tbody>\n",
       "</table>\n",
       "</div>"
      ],
      "text/plain": [
       "         id_mutation  valeur_fonciere   type_local  surface_reelle_bati  \\\n",
       "1330716  2023-457573          85600.0  Appartement                 55.0   \n",
       "\n",
       "         surface_terrain nature_culture  nombre_pieces_principales  \n",
       "1330716              NaN            NaN                        3.0  "
      ]
     },
     "metadata": {},
     "output_type": "display_data"
    }
   ],
   "source": [
    "# Exemple d'utilisation\n",
    "afficher_tableau_par_id_mutation(df, '2023-457573')"
   ]
  },
  {
   "cell_type": "markdown",
   "metadata": {},
   "source": [
    "#Cas n°2 : Plusieurs locaux dans une mutation. Dans ce cas, il faut identifier si la mutation concerne une maison, un appartement, ou autre chose."
   ]
  },
  {
   "cell_type": "code",
   "execution_count": 14,
   "metadata": {},
   "outputs": [
    {
     "data": {
      "text/html": [
       "<div>\n",
       "<style scoped>\n",
       "    .dataframe tbody tr th:only-of-type {\n",
       "        vertical-align: middle;\n",
       "    }\n",
       "\n",
       "    .dataframe tbody tr th {\n",
       "        vertical-align: top;\n",
       "    }\n",
       "\n",
       "    .dataframe thead th {\n",
       "        text-align: right;\n",
       "    }\n",
       "</style>\n",
       "<table border=\"1\" class=\"dataframe\">\n",
       "  <thead>\n",
       "    <tr style=\"text-align: right;\">\n",
       "      <th></th>\n",
       "      <th>id_mutation</th>\n",
       "      <th>valeur_fonciere</th>\n",
       "      <th>type_local</th>\n",
       "      <th>surface_reelle_bati</th>\n",
       "      <th>surface_terrain</th>\n",
       "      <th>nature_culture</th>\n",
       "      <th>nombre_pieces_principales</th>\n",
       "    </tr>\n",
       "  </thead>\n",
       "  <tbody>\n",
       "    <tr>\n",
       "      <th>1330717</th>\n",
       "      <td>2023-457574</td>\n",
       "      <td>230000.0</td>\n",
       "      <td>Appartement</td>\n",
       "      <td>22.0</td>\n",
       "      <td>NaN</td>\n",
       "      <td>NaN</td>\n",
       "      <td>1.0</td>\n",
       "    </tr>\n",
       "    <tr>\n",
       "      <th>1330718</th>\n",
       "      <td>2023-457574</td>\n",
       "      <td>230000.0</td>\n",
       "      <td>Dépendance</td>\n",
       "      <td>NaN</td>\n",
       "      <td>NaN</td>\n",
       "      <td>NaN</td>\n",
       "      <td>0.0</td>\n",
       "    </tr>\n",
       "  </tbody>\n",
       "</table>\n",
       "</div>"
      ],
      "text/plain": [
       "         id_mutation  valeur_fonciere   type_local  surface_reelle_bati  \\\n",
       "1330717  2023-457574         230000.0  Appartement                 22.0   \n",
       "1330718  2023-457574         230000.0   Dépendance                  NaN   \n",
       "\n",
       "         surface_terrain nature_culture  nombre_pieces_principales  \n",
       "1330717              NaN            NaN                        1.0  \n",
       "1330718              NaN            NaN                        0.0  "
      ]
     },
     "metadata": {},
     "output_type": "display_data"
    }
   ],
   "source": [
    "afficher_tableau_par_id_mutation(df, '2023-457574')"
   ]
  },
  {
   "cell_type": "markdown",
   "metadata": {},
   "source": [
    "Cas n°3 : Quand une disposition comporte plusieurs locaux ou plusieurs natures de culture, le fichier de restitution comporte autant de lignes qu’il y a de locaux ou de nature de culture concernés par la mutation.\n",
    "Ainsi, pour une même publication, il peut y avoir 1 à n ligne(s) de restitution. Les données génériques (ainsi que le prix) sont alors répétées sur chaque ligne.\n",
    "On retire d abord les nature_culture autre que \"sols\" puis on repère le type de local principal"
   ]
  },
  {
   "cell_type": "code",
   "execution_count": 15,
   "metadata": {},
   "outputs": [
    {
     "data": {
      "text/html": [
       "<div>\n",
       "<style scoped>\n",
       "    .dataframe tbody tr th:only-of-type {\n",
       "        vertical-align: middle;\n",
       "    }\n",
       "\n",
       "    .dataframe tbody tr th {\n",
       "        vertical-align: top;\n",
       "    }\n",
       "\n",
       "    .dataframe thead th {\n",
       "        text-align: right;\n",
       "    }\n",
       "</style>\n",
       "<table border=\"1\" class=\"dataframe\">\n",
       "  <thead>\n",
       "    <tr style=\"text-align: right;\">\n",
       "      <th></th>\n",
       "      <th>id_mutation</th>\n",
       "      <th>valeur_fonciere</th>\n",
       "      <th>type_local</th>\n",
       "      <th>surface_reelle_bati</th>\n",
       "      <th>surface_terrain</th>\n",
       "      <th>nature_culture</th>\n",
       "      <th>nombre_pieces_principales</th>\n",
       "    </tr>\n",
       "  </thead>\n",
       "  <tbody>\n",
       "    <tr>\n",
       "      <th>1331555</th>\n",
       "      <td>2023-457957</td>\n",
       "      <td>539000.0</td>\n",
       "      <td>Dépendance</td>\n",
       "      <td>NaN</td>\n",
       "      <td>280.0</td>\n",
       "      <td>terrains d'agrément</td>\n",
       "      <td>0.0</td>\n",
       "    </tr>\n",
       "    <tr>\n",
       "      <th>1331556</th>\n",
       "      <td>2023-457957</td>\n",
       "      <td>539000.0</td>\n",
       "      <td>Maison</td>\n",
       "      <td>111.0</td>\n",
       "      <td>280.0</td>\n",
       "      <td>terrains d'agrément</td>\n",
       "      <td>4.0</td>\n",
       "    </tr>\n",
       "    <tr>\n",
       "      <th>1331557</th>\n",
       "      <td>2023-457957</td>\n",
       "      <td>539000.0</td>\n",
       "      <td>Maison</td>\n",
       "      <td>111.0</td>\n",
       "      <td>750.0</td>\n",
       "      <td>sols</td>\n",
       "      <td>4.0</td>\n",
       "    </tr>\n",
       "    <tr>\n",
       "      <th>1331558</th>\n",
       "      <td>2023-457957</td>\n",
       "      <td>539000.0</td>\n",
       "      <td>Dépendance</td>\n",
       "      <td>NaN</td>\n",
       "      <td>750.0</td>\n",
       "      <td>sols</td>\n",
       "      <td>0.0</td>\n",
       "    </tr>\n",
       "  </tbody>\n",
       "</table>\n",
       "</div>"
      ],
      "text/plain": [
       "         id_mutation  valeur_fonciere  type_local  surface_reelle_bati  \\\n",
       "1331555  2023-457957         539000.0  Dépendance                  NaN   \n",
       "1331556  2023-457957         539000.0      Maison                111.0   \n",
       "1331557  2023-457957         539000.0      Maison                111.0   \n",
       "1331558  2023-457957         539000.0  Dépendance                  NaN   \n",
       "\n",
       "         surface_terrain       nature_culture  nombre_pieces_principales  \n",
       "1331555            280.0  terrains d'agrément                        0.0  \n",
       "1331556            280.0  terrains d'agrément                        4.0  \n",
       "1331557            750.0                 sols                        4.0  \n",
       "1331558            750.0                 sols                        0.0  "
      ]
     },
     "metadata": {},
     "output_type": "display_data"
    }
   ],
   "source": [
    "afficher_tableau_par_id_mutation(df, '2023-457957')"
   ]
  },
  {
   "cell_type": "markdown",
   "metadata": {},
   "source": [
    "On ne retient que les surfaces d'habitation, donc celles avec nature_culture vide ou égale à sols."
   ]
  },
  {
   "cell_type": "code",
   "execution_count": 16,
   "metadata": {},
   "outputs": [],
   "source": [
    "df = df[df['nature_culture'].isna() | (df['nature_culture'] == 'sols')]\n"
   ]
  },
  {
   "cell_type": "code",
   "execution_count": 17,
   "metadata": {},
   "outputs": [
    {
     "name": "stderr",
     "output_type": "stream",
     "text": [
      "C:\\Users\\flori\\AppData\\Local\\Temp\\ipykernel_2136\\2045021250.py:40: DeprecationWarning: DataFrameGroupBy.apply operated on the grouping columns. This behavior is deprecated, and in a future version of pandas the grouping columns will be excluded from the operation. Either pass `include_groups=False` to exclude the groupings or explicitly select the grouping columns after groupby to silence this warning.\n",
      "  df = df.groupby(['id_mutation', 'numero_disposition']).apply(process_group)\n"
     ]
    }
   ],
   "source": [
    "def process_group(group):\n",
    "    \n",
    "    # Filtrer les lignes où 'nature_culture' est différent de vide ou de \"sols\"\n",
    "    \n",
    "    maison_present = 'Maison' in group['type_local'].values\n",
    "    appart_present = 'Appartement' in group['type_local'].values\n",
    "    dependance_present = 'Dépendance' in group['type_local'].values\n",
    "    \n",
    "    bati_group = group[group['type_local'].isin(['Maison', 'Appartement'])]\n",
    "    surface_reelle_bati = bati_group['surface_reelle_bati'].fillna(0).sum()\n",
    "    surface_terrain = group['surface_terrain'].fillna(0).sum()\n",
    "    \n",
    "    # Vérifier les colonnes avant d'accéder à leur première valeur\n",
    "    valeur_fonciere = group['valeur_fonciere'].iloc[0] if not group['valeur_fonciere'].empty else None\n",
    "    nombre_pieces_principales = group['nombre_pieces_principales'].max() if not group['nombre_pieces_principales'].isna().all() else None\n",
    "    id_mutation = group['id_mutation'].iloc[0]\n",
    "    numero_dispositon = group['numero_disposition'].iloc[0]\n",
    "    # Résultats\n",
    "    result = {\n",
    "        'id_mutation' : id_mutation,\n",
    "        'numero_disposition' : numero_dispositon,\n",
    "        'valeur_fonciere': valeur_fonciere,\n",
    "        'surface_reelle_bati': surface_reelle_bati,\n",
    "        'surface_terrain': surface_terrain,\n",
    "        'nombre_locaux': len(group),\n",
    "        'maison_present': maison_present,\n",
    "        'appart_present': appart_present,\n",
    "        'dependance': dependance_present,\n",
    "        'nombre_pieces_principales': nombre_pieces_principales,\n",
    "    }\n",
    "\n",
    "    # Ajouter les colonnes supplémentaires (avec vérification)\n",
    "    for col in group.columns:\n",
    "        if col not in result:\n",
    "            result[col] = group[col].iloc[0] if not group[col].empty else None\n",
    "    \n",
    "    return pd.Series(result)\n",
    "\n",
    "# Appliquer le traitement avec le groupement par plusieurs colonnes\n",
    "df = df.groupby(['id_mutation', 'numero_disposition']).apply(process_group)\n",
    "\n",
    "# Réinitialiser l'index\n",
    "df.reset_index(drop=True, inplace=True)"
   ]
  },
  {
   "cell_type": "markdown",
   "metadata": {},
   "source": [
    "On ne retient que les appartements et les maisons"
   ]
  },
  {
   "cell_type": "code",
   "execution_count": 18,
   "metadata": {},
   "outputs": [],
   "source": [
    "df = df[(df['appart_present'] == True) | (df['maison_present'] == True)]\n",
    "\n",
    "# Assigner \"Appartement\" ou \"Maison\" à la colonne type_local\n",
    "df['type_local'] = df.apply(\n",
    "    lambda row: 'Maison' if row['maison_present'] else 'Appartement', axis=1\n",
    ")\n",
    "\n",
    "# Supprimer les colonnes appart_present et maison_present\n",
    "df.drop(columns=['appart_present', 'maison_present'], inplace=True)"
   ]
  },
  {
   "cell_type": "code",
   "execution_count": 19,
   "metadata": {},
   "outputs": [],
   "source": [
    "df = df[df['surface_reelle_bati'] > 0]\n",
    "df['prix_m2'] = df['valeur_fonciere'] / df['surface_reelle_bati']"
   ]
  },
  {
   "cell_type": "markdown",
   "metadata": {},
   "source": [
    "Il reste des doublons. La plupart concernent les exactes mêmes transactions (mais ont des numéros de disposition différentes). Seules quelques unes concernent des dispositions à des adresses différentes. Comme on ne peut pas différencier les prix, on les supprime"
   ]
  },
  {
   "cell_type": "code",
   "execution_count": 20,
   "metadata": {},
   "outputs": [],
   "source": [
    "df.to_csv('save.csv',encoding='utf8',sep=';')"
   ]
  },
  {
   "cell_type": "code",
   "execution_count": 21,
   "metadata": {},
   "outputs": [
    {
     "name": "stderr",
     "output_type": "stream",
     "text": [
      "C:\\Users\\flori\\AppData\\Local\\Temp\\ipykernel_2136\\817348212.py:1: DtypeWarning: Columns (14,16) have mixed types. Specify dtype option on import or set low_memory=False.\n",
      "  df = pd.read_csv('save.csv',encoding=\"utf8\",sep=\";\")\n"
     ]
    }
   ],
   "source": [
    "df = pd.read_csv('save.csv',encoding=\"utf8\",sep=\";\")"
   ]
  },
  {
   "cell_type": "code",
   "execution_count": 22,
   "metadata": {},
   "outputs": [],
   "source": [
    "# Une partie des transactions sont en doublon\n",
    "df = df[~df.duplicated(subset=['id_mutation', 'prix_m2'], keep='first')]\n",
    "\n",
    "df = df[~df.duplicated(subset=['id_mutation'], keep=False)]\n"
   ]
  },
  {
   "cell_type": "code",
   "execution_count": null,
   "metadata": {},
   "outputs": [
    {
     "name": "stdout",
     "output_type": "stream",
     "text": [
      "float64\n",
      "object\n",
      "float64\n",
      "object\n",
      "0    76540\n",
      "1    76540\n",
      "2    76157\n",
      "3    76103\n",
      "4    76540\n",
      "Name: code_commune, dtype: object\n"
     ]
    }
   ],
   "source": [
    "colonnes_a_nettoyer = ['adresse_numero', 'code_postal']\n",
    "df = process_data.nettoyer_colonnes(df, colonnes_a_nettoyer)\n",
    "# Convertir la colonne 'code_commune' en type string\n",
    "df['code_commune'] = df['code_commune'].astype('string')\n",
    "\n",
    "# Ajouter un '0' au début si la chaîne a 4 caractères\n",
    "df['code_commune'] = [x.zfill(5) if len(x) == 4 else x for x in df['code_commune']]\n",
    "\n",
    "# Vérifier les résultats\n",
    "print(df['code_commune'].head())"
   ]
  },
  {
   "cell_type": "code",
   "execution_count": 24,
   "metadata": {},
   "outputs": [
    {
     "name": "stdout",
     "output_type": "stream",
     "text": [
      "  abreviation type_voie_complet\n",
      "0         RUE               Rue\n",
      "1          AV            Avenue\n",
      "2         RTE             Route\n",
      "3         CHE            Chemin\n",
      "4          BD         Boulevard\n"
     ]
    }
   ],
   "source": [
    "# 4ème opération (si besoin de géolocalisation) : Compléter par le type de voie\n",
    "\n",
    "voie = pd.read_csv(\"data/voie.csv\",sep=\";\",encoding=\"utf-8\")\n",
    "print(voie.head())\n",
    "\n",
    "# Liste des abréviations de types de voie\n",
    "abbreviations = voie['abreviation'].tolist()\n",
    "\n",
    "# Appliquer la fonction à la colonne 'adresse_nom_voie'\n",
    "result = [process_data.check_abbreviation(adresse,abbreviations) for adresse in df['adresse_nom_voie']]\n",
    "\n",
    "# Décomposer les résultats dans les colonnes 'type_voie' et 'nom_voie'\n",
    "df['type_voie'] = [x[0] for x in result]\n",
    "df['nom_voie'] = [x[1] for x in result]\n",
    "\n",
    "df = df.merge(voie,left_on=['type_voie'],right_on=['abreviation'])"
   ]
  },
  {
   "cell_type": "code",
   "execution_count": 25,
   "metadata": {},
   "outputs": [
    {
     "name": "stdout",
     "output_type": "stream",
     "text": [
      "0           48 Rue DE CONSTANTINE 76000 Rouen\n",
      "1           45 Rue DES CHARRETTES 76000 Rouen\n",
      "2    14 Boulevard CLAUDE MONET 76380 Canteleu\n",
      "3        20 Allée DES FLEURS 76240 Bonsecours\n",
      "4                   35 Rue MUSTEL 76000 Rouen\n",
      "Name: Adresse, dtype: string\n"
     ]
    }
   ],
   "source": [
    "## 5ème : Réécriture de l'adresse\n",
    "df['Adresse'] = df['adresse_numero'] + ' ' + df['type_voie_complet'] + ' ' + df['nom_voie'] + ' ' + df['code_postal'] + ' ' + df['nom_commune']\n",
    "\n",
    "display(df['Adresse'].head())"
   ]
  },
  {
   "cell_type": "code",
   "execution_count": 26,
   "metadata": {},
   "outputs": [
    {
     "name": "stdout",
     "output_type": "stream",
     "text": [
      "int64\n",
      "object\n",
      "   departmentCode           departmentName  regionCode  \\\n",
      "0               1                      Ain        84.0   \n",
      "1               2                    Aisne        32.0   \n",
      "2               3                   Allier        84.0   \n",
      "3               4  Alpes-de-Haute-Provence        93.0   \n",
      "4               5             Hautes-Alpes        93.0   \n",
      "\n",
      "                   regionName  \n",
      "0        Auvergne-Rhône-Alpes  \n",
      "1             Hauts-de-France  \n",
      "2        Auvergne-Rhône-Alpes  \n",
      "3  Provence-Alpes-Côte d'Azur  \n",
      "4  Provence-Alpes-Côte d'Azur  \n",
      "Type de la colonne 'departmentCode': int64\n",
      "Modalités de 'departmentCode':\n",
      "[  1   2   3   4   5   6   7   8   9  10  11  12  13  14  15  16  17  18\n",
      "  19  21  22  23  24  25  26  27  28  29  20  30  31  32  33  34  35  36\n",
      "  37  38  39  40  41  42  43  44  45  46  47  48  49  50  51  52  53  54\n",
      "  55  56  57  58  59  60  61  62  63  64  65  66  67  68  69  70  71  72\n",
      "  73  74  75  76  77  78  79  80  81  82  83  84  85  86  87  88  89  90\n",
      "  91  92  93  94  95 971 972 973 974 976 987 988]\n",
      "[76 77 78 11 80 82 83 85 1 87 88 89 91 12 13 95 971 14 2 17 '17' '2' '18'\n",
      " '19' '21' '22' '24' '25' '26' '27' '28' '29' '4' '2A' '2B' '30' '31' '32'\n",
      " '33' '5' 33 6 34 35 36 37 38 40 42 44 45 46 47 50 51 52 54 56 58 59 60 62\n",
      " 63 64 65 66 69 71 9 73]\n"
     ]
    }
   ],
   "source": [
    "# Charger les données des codes de région\n",
    "region = pd.read_csv('data/code_region.csv', sep=';')"
   ]
  },
  {
   "cell_type": "code",
   "execution_count": 28,
   "metadata": {},
   "outputs": [
    {
     "name": "stdout",
     "output_type": "stream",
     "text": [
      "                            Nombre de transactions  Part du total (%)\n",
      "regionName                                                           \n",
      "Auvergne-Rhône-Alpes                           121           0.097716\n",
      "Bourgogne-Franche-Comté                         71           0.057338\n",
      "Bretagne                                     19146          15.461770\n",
      "Centre-Val de Loire                             57           0.046032\n",
      "Grand Est                                       42           0.033918\n",
      "Guadeloupe                                       6           0.004845\n",
      "Hauts-de-France                               6059           4.893077\n",
      "Normandie                                    13988          11.296314\n",
      "Nouvelle-Aquitaine                           19804          15.993152\n",
      "Occitanie                                    17042          13.762638\n",
      "Pays de la Loire                             13541          10.935330\n",
      "Provence-Alpes-Côte d'Azur                   33857          27.341958\n",
      "Île-de-France                                   94           0.075912\n"
     ]
    }
   ],
   "source": [
    "#Fusionner df_geolocalisees avec les codes de région\n",
    "df = df.merge(region, left_on=[\"code_departement\"], right_on=['departmentCode'], how='left')\n",
    "\n",
    "df['regionCode'] = df['regionCode'].astype('Int64')  # Utilise Int64 pour gérer les valeurs manquantes\n",
    "#Compter le nombre de transactions par région\n",
    "\n",
    "transactions_par_region = df.groupby('regionName').size()\n",
    "\n",
    "# Calculer le total des transactions\n",
    "total_transactions = transactions_par_region.sum()\n",
    "\n",
    "# Calculer la part de chaque région dans le total des transactions\n",
    "part_region = (transactions_par_region / total_transactions) * 100\n",
    "\n",
    "# Créer un DataFrame avec les résultats\n",
    "tableau_regions = pd.DataFrame({\n",
    "    'Nombre de transactions': transactions_par_region,\n",
    "    'Part du total (%)': part_region\n",
    "})\n",
    "\n",
    "# Afficher le tableau des régions\n",
    "display(tableau_regions)"
   ]
  },
  {
   "cell_type": "markdown",
   "metadata": {},
   "source": [
    "3. Calcul de la base des prix au mètre carré\n",
    "\n",
    "Notre objectif est d'évaluer le prix au mètre carré des biens en distinguant les maisons et les appartements\n",
    "Une mutation peut contenir plusieurs types de locaux\n",
    "\n",
    "On conserve chaque couple mutation/disposition qui contient une nature de culture sols ou vide. On suppose que ces mutations concernent des biens à visée d'habitation. Pour ces mutations, on regarde si elles contiennent :\n",
    "- un local de type 'Maison' :  la transaction est référencée comme une maison\n",
    "- un local de type 'Appartement' (mais sans 'Maison') : la transaction est référencée comme un appartement\n",
    "- aucun local de type 'Maison' ou 'Appartement' : la transaction n'est pas retenue\n",
    "\n",
    "La valeur foncière étant dupliquée, seule sa première occurence est retenue. Le nombre de pièces retenu est le plus grand de toutes les lignes de restitution. Les surfaces réelles sont additionnées par mutation."
   ]
  },
  {
   "cell_type": "markdown",
   "metadata": {},
   "source": [
    "On vérifie que toutes les transactions concernent des surfaces non nulles"
   ]
  },
  {
   "cell_type": "code",
   "execution_count": 29,
   "metadata": {},
   "outputs": [],
   "source": [
    "df_cotieres = df_cotieres.drop_duplicates(subset=['nom'])"
   ]
  },
  {
   "cell_type": "code",
   "execution_count": 30,
   "metadata": {},
   "outputs": [],
   "source": [
    "df = pd.merge(df, df_cotieres, how='left', left_on='nom_commune', right_on='nom')"
   ]
  },
  {
   "cell_type": "code",
   "execution_count": 31,
   "metadata": {},
   "outputs": [
    {
     "name": "stdout",
     "output_type": "stream",
     "text": [
      "Moyenne totale des prix en fonction de la surface : 3901.89 €\n"
     ]
    },
    {
     "name": "stderr",
     "output_type": "stream",
     "text": [
      "C:\\Users\\flori\\AppData\\Local\\Temp\\ipykernel_2136\\1610620510.py:8: DeprecationWarning: DataFrameGroupBy.apply operated on the grouping columns. This behavior is deprecated, and in a future version of pandas the grouping columns will be excluded from the operation. Either pass `include_groups=False` to exclude the groupings or explicitly select the grouping columns after groupby to silence this warning.\n",
      "  .apply(lambda group: group['valeur_fonciere'].sum() / group['surface_reelle_bati'].sum())\n"
     ]
    }
   ],
   "source": [
    "# Calcul de la moyenne des prix totale en fonction de la surface\n",
    "prix_moyen_m2 = df['valeur_fonciere'].sum() / df['surface_reelle_bati'].sum()\n",
    "print(f\"Moyenne totale des prix en fonction de la surface : {prix_moyen_m2:.2f} €\")\n",
    "\n",
    "# Groupement par région et type_local pour calculer les prix moyens\n",
    "prix_moyen = (\n",
    "    df.groupby(['regionName', 'type_local'])\n",
    "    .apply(lambda group: group['valeur_fonciere'].sum() / group['surface_reelle_bati'].sum())\n",
    "    .reset_index(name='prix_moyen')\n",
    ")\n",
    "\n",
    "# Conversion en tableau croisé dynamique (pivot table)\n",
    "tableau_prix_moyen = prix_moyen.pivot_table(\n",
    "    index='regionName',\n",
    "    columns='type_local',\n",
    "    values='prix_moyen',\n",
    "    aggfunc='mean'  # Non nécessaire ici car chaque cellule est déjà agrégée\n",
    ")\n",
    "\n",
    "# Remplir les valeurs manquantes par 0 ou autre\n",
    "tableau_prix_moyen = tableau_prix_moyen.fillna(0)\n",
    "\n",
    "# Calcul du nombre de transactions par région\n",
    "nb_transactions_region = df.groupby('regionName').size()\n",
    "\n",
    "# Calcul du pourcentage d'appartements et de maisons par région\n",
    "nb_transactions_appart = df[df['type_local'] == \"Appartement\"].groupby('regionName').size()\n",
    "nb_transactions_maison = df[df['type_local'] == \"Maison\"].groupby('regionName').size()\n",
    "\n",
    "# Calculer le pourcentage pour chaque type par région\n",
    "pourcentage_appart = (nb_transactions_appart / nb_transactions_region * 100).fillna(0)\n",
    "pourcentage_maison = (nb_transactions_maison / nb_transactions_region * 100).fillna(0)\n"
   ]
  },
  {
   "cell_type": "code",
   "execution_count": 33,
   "metadata": {},
   "outputs": [],
   "source": [
    "# Création de la variable adresse_py en remplaçant les espaces par des \"+\"\n",
    "df['adresse_py'] = df['Adresse'].str.replace(' ', '+', regex=True)"
   ]
  },
  {
   "cell_type": "code",
   "execution_count": 34,
   "metadata": {},
   "outputs": [],
   "source": [
    "commune = pd.read_csv('data/communes_code.csv', sep=';',encoding=\"utf-8\")\n",
    "\n",
    "# Left_join des codes_communes avec les noms des communes geoJson\n",
    "df = df.merge(commune, left_on=[\"code_commune\"], right_on=['code'], how='left')\n",
    "df = df.sort_values(by='code_commune', ascending=True)"
   ]
  },
  {
   "cell_type": "markdown",
   "metadata": {},
   "source": [
    "On souhaite compléter le maximum des transactions qui n'ont pas été géolocalisées précisément dans leur commune."
   ]
  },
  {
   "cell_type": "code",
   "execution_count": 35,
   "metadata": {},
   "outputs": [
    {
     "name": "stdout",
     "output_type": "stream",
     "text": [
      "Sur les 125887 transactions renseignées, 0.42% ne sont pas géolocalisées.\n"
     ]
    }
   ],
   "source": [
    "# Nombre total de transactions renseignées (celles qui ont des valeurs dans 'latitude' et 'longitude')\n",
    "total_transactions_renseignees = df.shape[0]\n",
    "\n",
    "# Nombre de lignes où 'latitude' ou 'longitude' est manquant (sans double compte)\n",
    "non_geolocalisees = df[df['latitude'].isna() | df['longitude'].isna()].shape[0]\n",
    "\n",
    "# Calcul du pourcentage de transactions non géolocalisées\n",
    "pourcentage_non_geolocalisees = (non_geolocalisees / total_transactions_renseignees) * 100\n",
    "\n",
    "# Affichage de la phrase\n",
    "print(f\"Sur les {total_transactions_renseignees} transactions renseignées, {pourcentage_non_geolocalisees:.2f}% ne sont pas géolocalisées.\")"
   ]
  },
  {
   "cell_type": "code",
   "execution_count": 36,
   "metadata": {},
   "outputs": [],
   "source": [
    "# Calculer le nombre de transactions par commune\n",
    "nombre_transactions_cotieres = df.groupby('communeName').size().reset_index(name='Nombre de transactions')"
   ]
  },
  {
   "cell_type": "code",
   "execution_count": 37,
   "metadata": {},
   "outputs": [],
   "source": [
    "df_missing = df[df['latitude'].isna()]"
   ]
  },
  {
   "cell_type": "code",
   "execution_count": 38,
   "metadata": {},
   "outputs": [
    {
     "name": "stdout",
     "output_type": "stream",
     "text": [
      "Series([], Name: count, dtype: object)\n"
     ]
    }
   ],
   "source": [
    "print(df_missing.value_counts()/df.value_counts*100)"
   ]
  },
  {
   "cell_type": "code",
   "execution_count": 39,
   "metadata": {},
   "outputs": [],
   "source": [
    "df_missing = df_missing.drop(columns=['latitude', 'longitude'])"
   ]
  },
  {
   "cell_type": "code",
   "execution_count": 40,
   "metadata": {},
   "outputs": [
    {
     "name": "stdout",
     "output_type": "stream",
     "text": [
      "Erreur de requête pour l'adresse : 19+Rue+DE+L+OCEAN+29840+Porspoder, statut : 429\n",
      "Erreur de requête pour l'adresse : 2+Rue+DE+CREAC+H+AL+LAN+29000+Quimper, statut : 429\n",
      "Erreur de requête pour l'adresse : 7+Avenue+DE+KERDREZEC+29000+Quimper, statut : 429\n",
      "Erreur de requête pour l'adresse : 21+Chemin+DE+KERNOTER+29000+Quimper, statut : 429\n",
      "Erreur de requête pour l'adresse : +Résidence+DU+STILETTO+20167+Ajaccio, statut : 429\n",
      "Erreur de requête pour l'adresse : 2+Allée+DE+PEN+RUIC+29000+Quimper, statut : 429\n",
      "Erreur de requête pour l'adresse : +Résidence+DU+STILETTO+20167+Ajaccio, statut : 429\n",
      "Erreur de requête pour l'adresse : +Résidence+DU+STILETTO+20167+Ajaccio, statut : 429\n",
      "Erreur de requête pour l'adresse : 9001+Résidence+COLLINES+DU+SALARIO+20000+Ajaccio, statut : 429\n",
      "Erreur de requête pour l'adresse : +Résidence+DU+STILETTO+20167+Ajaccio, statut : 429\n",
      "Erreur de requête pour l'adresse : 46+Résidence+LES+JARDINS+D+APPOLONIE+20200+Bastia, statut : 429\n",
      "Erreur de requête pour l'adresse : 46+Résidence+LES+JARDINS+D+APPOLONIE+20200+Bastia, statut : 429\n",
      "Erreur de requête pour l'adresse : 46+Résidence+LES+JARDINS+D+APPOLONIE+20200+Bastia, statut : 429\n",
      "Erreur de requête pour l'adresse : 1000+Avenue+DE+BORGO+20290+Borgo, statut : 429\n",
      "Erreur de requête pour l'adresse : 41+Résidence+PANCRAZI+20290+Monte, statut : 429\n",
      "Erreur de requête pour l'adresse : 29+Rue+D+ARLES+30127+Bellegarde, statut : 429\n",
      "Erreur de requête pour l'adresse : 1+Rue+DE+LA+REPUBLIQUE+33740+Arès, statut : 429\n",
      "Erreur de requête pour l'adresse : 2+Rue+DU+PIC+SAINT+LOUP+30600+Vauvert, statut : 429\n",
      "Erreur de requête pour l'adresse : 1+Chemin+DES+MARAIS+33980+Audenge, statut : 429\n",
      "Erreur de requête pour l'adresse : 1+Route+DE+BORDEAUX+33980+Audenge, statut : 429\n",
      "Erreur de requête pour l'adresse : 20+Rue+DU+MAL+LATTRE+DE+TASSIGNY+33530+Bassens, statut : 429\n",
      "Erreur de requête pour l'adresse : 38+Rue+DU+PONTEILS+33980+Audenge, statut : 429\n",
      "Erreur de requête pour l'adresse : 93+Rue+DE+VERDUN+33130+Bègles, statut : 429\n",
      "Erreur de requête pour l'adresse : 10+Rue+STEHELIN+CAUD+33200+Bordeaux, statut : 429\n",
      "Erreur de requête pour l'adresse : 157+Rue+DU+TONDU+33000+Bordeaux, statut : 429\n",
      "Erreur de requête pour l'adresse : 18+Rue+BAC+NINH+33800+Bordeaux, statut : 429\n",
      "Erreur de requête pour l'adresse : 122+Rue+BERRUER+33000+Bordeaux, statut : 429\n",
      "Erreur de requête pour l'adresse : 10+Rue+STEHELIN+CAUD+33200+Bordeaux, statut : 429\n",
      "Erreur de requête pour l'adresse : 76+Cours+DE+LUZE+33300+Bordeaux, statut : 429\n",
      "Erreur de requête pour l'adresse : 76+Cours+DE+LUZE+33300+Bordeaux, statut : 429\n",
      "Erreur de requête pour l'adresse : 79+Chemin+DE+PATE+33140+Cadaujac, statut : 429Erreur de requête pour l'adresse : 8+Chemin+DE+FON+DE+FAURE+33133+Galgon, statut : 429\n",
      "Erreur de requête pour l'adresse : 67+Rue+DEVEAUX+33200+Bordeaux, statut : 429\n",
      "Erreur de requête pour l'adresse : 115+Cours+DE+LA+MARNE+33470+Gujan-Mestras, statut : 429\n",
      "Erreur de requête pour l'adresse : 23+Rue+DES+GOELANDS+33590+Grayan-et-l'Hôpital, statut : 429\n",
      "\n",
      "Erreur de requête pour l'adresse : 13+Rue+DES+TILLEULS+33121+Carcans, statut : 429\n",
      "Erreur de requête pour l'adresse : 8+Rue+CITE+CONRAD+33300+Bordeaux, statut : 429\n",
      "Erreur de requête pour l'adresse : 171+Avenue+DE+PORTES+33450+Izon, statut : 429\n",
      "Erreur de requête pour l'adresse : 9001+Voie+DU+BAGANAIS+33680+Lacanau, statut : 429\n",
      "Erreur de requête pour l'adresse : 5+Chemin+DU+PORT+DE+L+HOMME+33360+Latresne, statut : 429\n",
      "Erreur de requête pour l'adresse : 49+Route+DE+L+ATLANTIQUE+33680+Lacanau, statut : 429\n",
      "Erreur de requête pour l'adresse : 26+Rue+DE+CANTELAUDE+33680+Lacanau, statut : 429\n",
      "Erreur de requête pour l'adresse : 58+Cours+DES+GIRONDINS+33500+Libourne, statut : 429\n",
      "Erreur de requête pour l'adresse : 40+Rue+HOCHE+33500+Libourne, statut : 429\n",
      "Erreur de requête pour l'adresse : 26+Allée+DU+GRAND+OUSTAU+33950+Lège-Cap-Ferret, statut : 429\n",
      "Erreur de requête pour l'adresse : 1+Rue+ALBERT+CAMUS+33310+Lormont, statut : 429\n",
      "Erreur de requête pour l'adresse : 2+Rue+ALBERT+CAMUS+33310+Lormont, statut : 429\n",
      "Erreur de requête pour l'adresse : 3+Rue+COPPINGER+33310+Lormont, statut : 429\n",
      "Erreur de requête pour l'adresse : 4+Rue+VAL+VERT+33310+Lormont, statut : 429\n",
      "Erreur de requête pour l'adresse : 2+Rue+COPPINGER+33310+Lormont, statut : 429\n",
      "Erreur de requête pour l'adresse : 1+Rue+DU+PROFESSEUR+JEAN+AURIAC+33310+Lormont, statut : 429\n",
      "Erreur de requête pour l'adresse : 7+Route+DE+PAUILLAC+33290+Ludon-Médoc, statut : 429\n",
      "Erreur de requête pour l'adresse : 7+Route+DE+BERN+33460+Macau, statut : 429\n",
      "Erreur de requête pour l'adresse : 41+Rue+DU+BOURDILLOT+33290+Parempuyre, statut : 429\n",
      "Erreur de requête pour l'adresse : 64+Avenue+DE+LA+REPUBLIQUE+33820+Saint-Ciers-sur-Gironde, statut : 429\n",
      "Erreur de requête pour l'adresse : 1+Rue+DE+LA+PAIX+33440+Saint-Louis-de-Montferrand, statut : 429\n",
      "Erreur de requête pour l'adresse : 7+Rue+SAINT+AIGNAN+33450+Saint-Loubès, statut : 429\n",
      "Erreur de requête pour l'adresse : 14+Rue+DE+LA+LIBERTE+33640+Portets, statut : 429\n",
      "Erreur de requête pour l'adresse : 14+Avenue+PAUL+PRINCETEAU+33440+Saint-Vincent-de-Paul, statut : 429\n",
      "Erreur de requête pour l'adresse : 1+Passage+DE+VIREFOUGASSE+33460+Soussans, statut : 429\n",
      "Erreur de requête pour l'adresse : 34+Rue+DES+PARGAUX+33590+Vensac, statut : 429\n",
      "Erreur de requête pour l'adresse : 36+Chemin+DE+LEYRAN+33140+Villenave-d'Ornon, statut : 429\n",
      "Erreur de requête pour l'adresse : 5+Rue+VICTOR+SCHOELCHER+33140+Villenave-d'Ornon, statut : 429\n",
      "Erreur de requête pour l'adresse : 75+Chemin+DE+GUIRAUDETTE+34300+Agde, statut : 429\n",
      "Erreur de requête pour l'adresse : 80+Rue+FERNAND+SOORS+33140+Villenave-d'Ornon, statut : 429\n",
      "Erreur de requête pour l'adresse : 25+Rue+DU+PROF+DEMONS+33140+Villenave-d'Ornon, statut : 429\n",
      "Erreur de requête pour l'adresse : 12+Impasse+BEL+AIR+34300+Agde, statut : 429\n",
      "Erreur de requête pour l'adresse : 5124+Résidence+DU+GOLF+SAINT+THOMAS+34500+Béziers, statut : 429\n",
      "Erreur de requête pour l'adresse : 2+Impasse+DE+LA+RECHE+34540+Balaruc-les-Bains, statut : 429\n",
      "Erreur de requête pour l'adresse : 5124+Résidence+DU+GOLF+SAINT+THOMAS+34500+Béziers, statut : 429\n",
      "Erreur de requête pour l'adresse : 5124+Résidence+DU+GOLF+SAINT+THOMAS+34500+Béziers, statut : 429\n",
      "Erreur de requête pour l'adresse : 5124+Résidence+DU+GOLF+SAINT+THOMAS+34500+Béziers, statut : 429\n",
      "Erreur de requête pour l'adresse : 5124+Résidence+DU+GOLF+SAINT+THOMAS+34500+Béziers, statut : 429\n",
      "Erreur de requête pour l'adresse : 5124+Résidence+DU+GOLF+SAINT+THOMAS+34500+Béziers, statut : 429\n",
      "Erreur de requête pour l'adresse : 18+Rue+DE+LA+MARNE+LA+PEYRADE+34110+Frontignan, statut : 429\n",
      "Erreur de requête pour l'adresse : 299+Chemin+DE+L+AIRETTE+34340+Marseillan, statut : 429\n",
      "Erreur de requête pour l'adresse : 47+Chemin+DE+L+AIRETTE+34340+Marseillan, statut : 429\n",
      "Erreur de requête pour l'adresse : 47+Chemin+DE+L+AIRETTE+34340+Marseillan, statut : 429\n",
      "Erreur de requête pour l'adresse : 47+Chemin+DE+L+AIRETTE+34340+Marseillan, statut : 429\n",
      "Erreur de requête pour l'adresse : 47+Chemin+DE+L+AIRETTE+34340+Marseillan, statut : 429\n",
      "Erreur de requête pour l'adresse : 47+Chemin+DE+L+AIRETTE+34340+Marseillan, statut : 429\n",
      "Erreur de requête pour l'adresse : 6128+Lotissement+LAUDE+MOSCHETTI+34110+Mireval, statut : 429\n",
      "Erreur de requête pour l'adresse : 87+Impasse+DE+LA+CIGALE+34200+Sète, statut : 429\n",
      "Erreur de requête pour l'adresse : 13+Chemin+DU+CARREYROU+34350+Valras-Plage, statut : 429\n",
      "Erreur de requête pour l'adresse : 13+Chemin+DU+CARREYROU+34350+Valras-Plage, statut : 429\n",
      "Erreur de requête pour l'adresse : 6+Rue+DES+VENDANGES+34470+Pérols, statut : 429\n",
      "Erreur de requête pour l'adresse : 195+Rue+REA+34560+Poussan, statut : 429\n",
      "Erreur de requête pour l'adresse : 3+Rue+DU+PONT+DE+LA+GAZE+34470+Pérols, statut : 429\n",
      "Erreur de requête pour l'adresse : 133+Rue+DU+PERIGORD+34200+Sète, statut : 429\n",
      "Erreur de requête pour l'adresse : 18+Rue+DE+LA+VILLE+MARQUE+35800+Saint-Briac-sur-Mer, statut : 429\n",
      "Erreur de requête pour l'adresse : 17+Rue+DU+HAVRE+35400+Saint-Malo, statut : 429\n",
      "Erreur de requête pour l'adresse : 28+Boulevard+SAINT+MICH+DES+SABLONS+35400+Saint-Malo, statut : 429\n",
      "Erreur de requête pour l'adresse : 91+Rue+DES+ECUREUILS+40600+Biscarrosse, statut : 429\n",
      "Erreur de requête pour l'adresse : 495+Rue+DES+BRUYERES+40600+Biscarrosse, statut : 429\n",
      "Erreur de requête pour l'adresse : 18+Rue+DE+RENNES+35430+Saint-Jouan-des-Guérets, statut : 429\n",
      "Erreur de requête pour l'adresse : 155+Rue+DES+ECUREUILS+40600+Biscarrosse, statut : 429\n",
      "Erreur de requête pour l'adresse : 439+Avenue+DE+CAUPOS+40600+Biscarrosse, statut : 429\n",
      "Erreur de requête pour l'adresse : 41+Avenue+DE+WOOLSACK+40200+Mimizan, statut : 429\n",
      "Erreur de requête pour l'adresse : 13+Avenue+DU+MARECHAL+LECLERC+40130+Capbreton, statut : 429\n",
      "Erreur de requête pour l'adresse : 2+Avenue+DES+ACACIAS+40130+Capbreton, statut : 429\n",
      "Erreur de requête pour l'adresse : 14+Rue+MAURICE+MARTIN+40130+Capbreton, statut : 429\n",
      "Erreur de requête pour l'adresse : 41+Route+DE+BALESTE+40200+Mimizan, statut : 429\n",
      "Erreur de requête pour l'adresse : 2+Rue+DES+ARTISANS+40130+Capbreton, statut : 429\n",
      "Erreur de requête pour l'adresse : 7+Avenue+LAMARQUE+CANDO+40200+Mimizan, statut : 429\n",
      "Erreur de requête pour l'adresse : 36+Avenue+JULIAN+GRIMAU+40220+Tarnos, statut : 429Erreur de requête pour l'adresse : 588+Route+OCEANE+40170+Saint-Julien-en-Born, statut : 429\n",
      "Erreur de requête pour l'adresse : 979+Avenue+CHARLES+DE+GAULLE+40510+Seignosse, statut : 429\n",
      "\n",
      "Erreur de requête pour l'adresse : 2160+Avenue+DU+PRESIDENT+KENNEDY+40280+Saint-Pierre-du-Mont, statut : 429Erreur de requête pour l'adresse : 2+Allée+IRENE+ADLER+44340+Bouguenais, statut : 429\n",
      "\n",
      "Erreur de requête pour l'adresse : 6+Allée+ADELE+BLANC-SEC+44340+Bouguenais, statut : 429\n",
      "Erreur de requête pour l'adresse : 1+Rue+DU+COTEAU+44220+Couëron, statut : 429\n",
      "Erreur de requête pour l'adresse : +Rue+DE+LA+CULEE+44580+Villeneuve-en-Retz, statut : 429\n",
      "Erreur de requête pour l'adresse : 67+Rue+DES+PATURES+44550+Montoir-de-Bretagne, statut : 429\n",
      "Erreur de requête pour l'adresse : 43+Rue+ANATOLE+FRANCE+44550+Montoir-de-Bretagne, statut : 429\n",
      "Erreur de requête pour l'adresse : 3+Impasse+BON+ACCUEIL+44220+Couëron, statut : 429\n",
      "Erreur de requête pour l'adresse : 3+Rue+DES+PERRINES+44300+Nantes, statut : 429\n",
      "Erreur de requête pour l'adresse : 1+Rue+DES+PERRINES+44300+Nantes, statut : 429\n",
      "Erreur de requête pour l'adresse : 52+Rue+DE+LA+VILLE+EN+BOIS+44100+Nantes, statut : 429\n",
      "Erreur de requête pour l'adresse : 5+Rue+LOUIS+BLANC+44200+Nantes, statut : 429\n",
      "Erreur de requête pour l'adresse : 45+Boulevard+PAUL+CHABAS+44100+Nantes, statut : 429\n",
      "Erreur de requête pour l'adresse : 23+Rue+DES+OLIVETTES+44000+Nantes, statut : 429\n",
      "Erreur de requête pour l'adresse : 1+Rue+DES+ROCHETTES+44000+Nantes, statut : 429\n",
      "Erreur de requête pour l'adresse : +Avenue+DES+LORIETTES+44380+Pornichet, statut : 429\n",
      "Erreur de requête pour l'adresse : 16+Rue+DES+BOURDONNIERES+44200+Nantes, statut : 429\n",
      "Erreur de requête pour l'adresse : 7+Rue+ETIENNE+COUTAN+44100+Nantes, statut : 429\n",
      "Erreur de requête pour l'adresse : 31+Rue+RENE+GUY+CADOU+44210+Pornic, statut : 429\n",
      "Erreur de requête pour l'adresse : 10+Chemin+DES+IMMORTELLES+44770+Préfailles, statut : 429\n",
      "Erreur de requête pour l'adresse : 22+Rue+STE+ANNE+44770+Préfailles, statut : 429\n",
      "Erreur de requête pour l'adresse : 69+Rue+EMILE+ZOLA+44400+Rezé, statut : 429\n",
      "Erreur de requête pour l'adresse : 131+Rue+MAURICE+JOUAUD+44400+Rezé, statut : 429\n",
      "Erreur de requête pour l'adresse : 64+Rue+DE+LA+GALARNIERE+44400+Rezé, statut : 429\n",
      "Erreur de requête pour l'adresse : 73+Rue+DES+CARTERONS+44400+Rezé, statut : 429\n",
      "Erreur de requête pour l'adresse : 15+Rue+DE+LA+BATAILLERIE+44400+Rezé, statut : 429\n",
      "Erreur de requête pour l'adresse : 49+Rue+DE+LA+NOMLUCE+44250+Saint-Brevin-les-Pins, statut : 429\n",
      "Erreur de requête pour l'adresse : 17+Rue+DE+LA+ROBINIERE+44400+Rezé, statut : 429\n",
      "Erreur de requête pour l'adresse : 53+Avenue+RAYMOND+POINCARE+44250+Saint-Brevin-les-Pins, statut : 429\n",
      "Erreur de requête pour l'adresse : 6+Rue+DU+ROCHER+44800+Saint-Herblain, statut : 429\n",
      "Erreur de requête pour l'adresse : 8+Route+DE+LA+HAIE+44980+Sainte-Luce-sur-Loire, statut : 429Erreur de requête pour l'adresse : 5+Rue+DES+ORMEAUX+44980+Sainte-Luce-sur-Loire, statut : 429\n",
      "Erreur de requête pour l'adresse : +Rue+DU+REDOIS+44730+Saint-Michel-Chef-Chef, statut : 429\n",
      "\n",
      "Erreur de requête pour l'adresse : 40+Rue+DU+STADE+44980+Sainte-Luce-sur-Loire, statut : 429\n",
      "Erreur de requête pour l'adresse : 31+Avenue+PRESIDENT+ROOSEVELT+44250+Saint-Brevin-les-Pins, statut : 429\n",
      "Erreur de requête pour l'adresse : 18+Rue+FRANCOIS+VILLON+44600+Saint-Nazaire, statut : 429\n",
      "Erreur de requête pour l'adresse : 76+Route+DE+LA+COURANCE+44600+Saint-Nazaire, statut : 429\n",
      "Erreur de requête pour l'adresse : 98+Boulevard+DE+LA+REPUBLIQUE+44730+Saint-Michel-Chef-Chef, statut : 429\n",
      "Erreur de requête pour l'adresse : 116+Boulevard+PIERRE+DE+MAUPERTUIS+44600+Saint-Nazaire, statut : 429\n",
      "Erreur de requête pour l'adresse : 46+Boulevard+PRESIDENT+WILSON+44600+Saint-Nazaire, statut : 429\n",
      "Erreur de requête pour l'adresse : 4+Rue+ALAIN+MIMOUN+44230+Saint-Sébastien-sur-Loire, statut : 429\n",
      "Erreur de requête pour l'adresse : 4+Rue+ALAIN+MIMOUN+44230+Saint-Sébastien-sur-Loire, statut : 429\n",
      "Erreur de requête pour l'adresse : 41+Route+DU+MORTIER+VANNERIE+44120+Vertou, statut : 429\n",
      "Erreur de requête pour l'adresse : 10+Rue+DES+GRIMAUDIERES+44570+Trignac, statut : 429\n",
      "Erreur de requête pour l'adresse : 6037+Rue+DU+PAS+BARIL+44120+Vertou, statut : 429\n",
      "Erreur de requête pour l'adresse : 38+Rue+DES+MORTIERS+44120+Vertou, statut : 429\n",
      "Erreur de requête pour l'adresse : 46+Route+DU+MORTIER+VANNERIE+44120+Vertou, statut : 429\n",
      "Erreur de requête pour l'adresse : 41+Rue+HALBORG+50230+Agon-Coutainville, statut : 429\n",
      "Erreur de requête pour l'adresse : 24+Avenue+ARMAND+JULLOU+JULLOUVILLE+50610+Jullouville, statut : 429\n",
      "Erreur de requête pour l'adresse : 32+Route+DE+LA+MAZURIE+50740+Carolles, statut : 429\n",
      "Erreur de requête pour l'adresse : 43+Avenue+ARMAND+JULLOU+JULLOUVILLE+50610+Jullouville, statut : 429\n",
      "Erreur de requête pour l'adresse : 125+Rue+COURAYE+50400+Granville, statut : 429\n",
      "Erreur de requête pour l'adresse : 69+Rue+DU+MOULIN+A+VENT+ANNOVILLE+50660+Lingreville, statut : 429\n",
      "Erreur de requête pour l'adresse : 4+Rue+DE+BOURGOGNE+50430+Saint-Germain-sur-Ay, statut : 429\n",
      "Erreur de requête pour l'adresse : 26+Boulevard+DE+LA+PLAGE+50430+Saint-Germain-sur-Ay, statut : 429\n",
      "Erreur de requête pour l'adresse : 26+Rue+FERNAND+DESPLANQUES+50770+Pirou, statut : 429\n",
      "Erreur de requête pour l'adresse : 482+Rue+DU+BUHOT+50380+Saint-Pair-sur-Mer, statut : 429\n",
      "Erreur de requête pour l'adresse : 20+Rue+CENTRALE+56640+Arzon, statut : 429\n",
      "Erreur de requête pour l'adresse : 4+Rue+DES+CHAMPS+56550+Belz, statut : 429\n",
      "Erreur de requête pour l'adresse : 6+Impasse+PLAHOVEN+56870+Baden, statut : 429\n",
      "Erreur de requête pour l'adresse : 10+Rue+DU+POULIC+56870+Baden, statut : 429\n",
      "Erreur de requête pour l'adresse : 17+Rue+ABBE+JOSEPH+MARTIN+56400+Auray, statut : 429\n",
      "Erreur de requête pour l'adresse : 5507+Route+DE+KERHILLIO+56410+Erdeven, statut : 429\n",
      "Erreur de requête pour l'adresse : 36+Rue+NATIONALE+56410+Erdeven, statut : 429Erreur de requête pour l'adresse : 5248+Rue+NATIONALE+56410+Erdeven, statut : 429\n",
      "\n",
      "Erreur de requête pour l'adresse : 4+Rue+EMILE+JAMES+56410+Étel, statut : 429\n",
      "Erreur de requête pour l'adresse : 3+Rue+DES+MESANGES+56700+Hennebont, statut : 429\n",
      "Erreur de requête pour l'adresse : 6+Rue+DU+DRENEZ+56870+Larmor-Baden, statut : 429\n",
      "Erreur de requête pour l'adresse : 3+Rue+ABBE+LE+BARH+56410+Erdeven, statut : 429\n",
      "Erreur de requête pour l'adresse : 20+VGE+DE+KERIAVAL+56740+Locmariaquer, statut : 429\n",
      "Erreur de requête pour l'adresse : 28+Rue+DU+PORT+DE+PECHE+56170+Quiberon, statut : 429\n",
      "Erreur de requête pour l'adresse : 10+Avenue+DES+DRUIDES+56170+Quiberon, statut : 429\n",
      "Erreur de requête pour l'adresse : 18+Rue+DES+FARFADETS+56170+Quiberon, statut : 429\n",
      "Erreur de requête pour l'adresse : 69+Rue+HENT+MORICE+56370+Sarzeau, statut : 429\n",
      "Erreur de requête pour l'adresse : 47+Rue+DE+STRASBOURG+56000+Vannes, statut : 429\n",
      "Erreur de requête pour l'adresse : 49+Rue+DE+STRASBOURG+56000+Vannes, statut : 429\n",
      "Erreur de requête pour l'adresse : 14+Place+CABELLO+56000+Vannes, statut : 429\n",
      "Erreur de requête pour l'adresse : 29+Rue+JACQUES+PITILION+59640+Dunkerque, statut : 429\n",
      "Erreur de requête pour l'adresse : 5+Rue+DE+TOURCOING+62164+Ambleteuse, statut : 429\n",
      "Erreur de requête pour l'adresse : 100+Rue+GRANDE+RUE+62176+Camiers, statut : 429\n",
      "Erreur de requête pour l'adresse : 86+Rue+CURIE+62730+Marck, statut : 429\n",
      "Erreur de requête pour l'adresse : 60+Rue+MARIE+ANTOINETTE+62630+Étaples, statut : 429\n",
      "Erreur de requête pour l'adresse : 22+Rue+DU+ROUET+62630+Étaples, statut : 429\n",
      "Erreur de requête pour l'adresse : 959+Avenue+FRANCOIS+MITTERRAND+62730+Marck, statut : 429\n",
      "Erreur de requête pour l'adresse : 3510+Route+DES+DUNES+62215+Oye-Plage, statut : 429\n",
      "Erreur de requête pour l'adresse : 23+Rue+JEAN+MOULIN+62930+Wimereux, statut : 429\n",
      "Erreur de requête pour l'adresse : 13+Chemin+DES+OIES+62930+Wimereux, statut : 429\n",
      "Erreur de requête pour l'adresse : 41+Avenue+DE+LAROCHEFOUCAULD+64600+Anglet, statut : 429\n",
      "Erreur de requête pour l'adresse : +Rue+DE+BAHINOS+64600+Anglet, statut : 429\n",
      "Erreur de requête pour l'adresse : 15+Rue+JEAN+MOULIN+62179+Wissant, statut : 429\n",
      "Erreur de requête pour l'adresse : 82+Avenue+D+ESPAGNE+64600+Anglet, statut : 429\n",
      "Erreur de requête pour l'adresse : 5+Avenue+HIRIART+64100+Bayonne, statut : 429\n",
      "Erreur de requête pour l'adresse : 8+Rue+DE+LA+ROSERAIE+64210+Bidart, statut : 429\n",
      "Erreur de requête pour l'adresse : 82+Avenue+D+ESPAGNE+64600+Anglet, statut : 429\n",
      "Erreur de requête pour l'adresse : 16+Rue+GARDAGUE+64200+Biarritz, statut : 429\n",
      "Erreur de requête pour l'adresse : 19+Chemin+DU+MOULIN+DE+HABAS+64100+Bayonne, statut : 429\n",
      "Erreur de requête pour l'adresse : 2+Rue+DOCTEUR+PAUL+RICAU+64500+Saint-Jean-de-Luz, statut : 429\n",
      "Erreur de requête pour l'adresse : 11+Chemin+D+ANCIOLA+64700+Hendaye, statut : 429\n",
      "Erreur de requête pour l'adresse : 1+Rue+DE+LA+LIBERATION+66000+Perpignan, statut : 429\n",
      "Erreur de requête pour l'adresse : 714+Chemin+DES+VIGNES+66380+Pia, statut : 429\n",
      "Erreur de requête pour l'adresse : 10+Chemin+DE+LA+POTERIE+76240+Belbeuf, statut : 429\n",
      "Erreur de requête pour l'adresse : 271+Route+DE+LYON+69970+Marennes, statut : 429\n",
      "Erreur de requête pour l'adresse : 13+Rue+ASSELINE+76200+Dieppe, statut : 429\n",
      "Erreur de requête pour l'adresse : 1+Rue+DU+PENEY+73000+Bassens, statut : 429\n",
      "Erreur de requête pour l'adresse : 51+Grande+Rue+GRANDE+RUE+76200+Dieppe, statut : 429\n",
      "Erreur de requête pour l'adresse : 13+Rue+MISTRAL+66510+Saint-Hippolyte, statut : 429\n",
      "Erreur de requête pour l'adresse : 47+Rue+DEHAIS+76350+Oissel, statut : 429Erreur de requête pour l'adresse : 103+Rue+GUSTAVE+LECOMTE+76350+Oissel, statut : 429\n",
      "\n",
      "Erreur de requête pour l'adresse : 86+Rue+DU+CHAMP+DES+OISEAUX+76000+Rouen, statut : 429\n",
      "Erreur de requête pour l'adresse : 13+Rue+CHASSELIEVRE+76000+Rouen, statut : 429\n",
      "Erreur de requête pour l'adresse : 25+Rue+DES+JARDINS+76000+Rouen, statut : 429\n",
      "Erreur de requête pour l'adresse : 38+Rue+SEVENE+76350+Oissel, statut : 429\n",
      "Erreur de requête pour l'adresse : 160+Rue+DESCROIZILLES+76000+Rouen, statut : 429\n",
      "Erreur de requête pour l'adresse : 66+Rue+DE+LA+VICOMTE+76000+Rouen, statut : 429\n",
      "Erreur de requête pour l'adresse : 17+Avenue+DE+TREMAUVILLE+76113+Sahurs, statut : 429\n",
      "Erreur de requête pour l'adresse : 201+Rue+DE+PARIS+76800+Saint-Étienne-du-Rouvray, statut : 429\n",
      "Erreur de requête pour l'adresse : 201+Rue+DE+PARIS+76800+Saint-Étienne-du-Rouvray, statut : 429\n",
      "Erreur de requête pour l'adresse : 37+Rue+DES+POMMIERS+76280+Saint-Jouin-Bruneval, statut : 429\n",
      "Erreur de requête pour l'adresse : 3+Route+DES+ECHOS+76280+Saint-Jouin-Bruneval, statut : 429\n",
      "Erreur de requête pour l'adresse : 2+Route+DES+QUATRE+FERMES+76280+Saint-Jouin-Bruneval, statut : 429\n",
      "Erreur de requête pour l'adresse : 70+Rue+JEAN+RONDEAUX+76800+Saint-Étienne-du-Rouvray, statut : 429\n",
      "Erreur de requête pour l'adresse : 56+Rue+DES+LILAS+76280+Saint-Jouin-Bruneval, statut : 429\n",
      "Erreur de requête pour l'adresse : 2+Rue+DES+TULIPES+76280+Saint-Jouin-Bruneval, statut : 429\n",
      "Erreur de requête pour l'adresse : 7+Impasse+ANCIEN+STADE+76280+Saint-Jouin-Bruneval, statut : 429\n",
      "Erreur de requête pour l'adresse : 5+Rue+DES+DAHLIAS+76280+Saint-Jouin-Bruneval, statut : 429\n",
      "Erreur de requête pour l'adresse : 23+Chemin+DES+CEDRES+76280+Saint-Jouin-Bruneval, statut : 429\n",
      "Erreur de requête pour l'adresse : 4+Route+DU+MOULIN+76280+Saint-Jouin-Bruneval, statut : 429\n",
      "Erreur de requête pour l'adresse : 171+Rue+CHAUSSEE+SAINT+GEORGES+76840+Saint-Martin-de-Boscherville, statut : 429\n",
      "Erreur de requête pour l'adresse : 59+Chemin+SAINT+GORGON+76840+Saint-Martin-de-Boscherville, statut : 429\n",
      "Erreur de requête pour l'adresse : 16+Rue+GUSTAVE+FLAUBERT+76280+Saint-Jouin-Bruneval, statut : 429\n",
      "Erreur de requête pour l'adresse : 4+Rue+DES+OEILLETS+76280+Saint-Jouin-Bruneval, statut : 429\n",
      "Erreur de requête pour l'adresse : 20+Rue+LORD+LOUIS+MOUNTBATTEN+76280+Saint-Jouin-Bruneval, statut : 429\n",
      "Erreur de requête pour l'adresse : 3+Route+DE+TANVILLE+76280+Saint-Jouin-Bruneval, statut : 429\n",
      "Erreur de requête pour l'adresse : 41+Rue+BAZIRE+76300+Sotteville-lès-Rouen, statut : 429\n",
      "Erreur de requête pour l'adresse : 57+Rue+DE+L'AUMONE+76119+Varengeville-sur-Mer, statut : 429\n",
      "Erreur de requête pour l'adresse : 84+Rue+DES+EPIS+76300+Sotteville-lès-Rouen, statut : 429\n",
      "Erreur de requête pour l'adresse : 51+Rue+DE+FRIAUCOURT+80880+Saint-Quentin-la-Motte-Croix-au-Bailly, statut : 429\n",
      "Erreur de requête pour l'adresse : 402+Rue+DE+QUEND+80120+Fort-Mahon-Plage, statut : 429\n",
      "Erreur de requête pour l'adresse : 283+Rue+DES+IRIS+83230+Bormes-les-Mimosas, statut : 429\n",
      "Erreur de requête pour l'adresse : 3+Chemin+DU+HALLAGE+80350+Mers-les-Bains, statut : 429\n",
      "Erreur de requête pour l'adresse : 808+Boulevard+DE+L+ESCOURCHE+83150+Bandol, statut : 429\n",
      "Erreur de requête pour l'adresse : 6+Chemin+DU+PIERREDON+83990+Saint-Tropez, statut : 429Erreur de requête pour l'adresse : 85+Avenue+DE+PORTISSOL+83110+Sanary-sur-Mer, statut : 429\n",
      "\n",
      "Erreur de requête pour l'adresse : 3370+Route+DE+NICE+83400+Hyères, statut : 429\n",
      "Erreur de requête pour l'adresse : 105+Allée+MIREILLE+83110+Sanary-sur-Mer, statut : 429\n",
      "Erreur de requête pour l'adresse : 1347+Avenue+DE+LA+MER+83140+Six-Fours-les-Plages, statut : 429\n",
      "Erreur de requête pour l'adresse : 31+Avenue+DU+CROISEUR+LEGER+LE+MALIN+83120+Sainte-Maxime, statut : 429\n",
      "Erreur de requête pour l'adresse : 301+Route+DU+FORT+83140+Six-Fours-les-Plages, statut : 429\n",
      "Erreur de requête pour l'adresse : 217+Chemin+DE+LA+BEAUCAIRE+83200+Toulon, statut : 429\n",
      "Erreur de requête pour l'adresse : 381+Avenue+LOUIS+BARTHOU+83000+Toulon, statut : 429\n",
      "Erreur de requête pour l'adresse : 71+Rue+CITE+DROUET+83200+Toulon, statut : 429\n",
      "Erreur de requête pour l'adresse : 409+Avenue+DE+L+ELISA+83100+Toulon, statut : 429\n",
      "Erreur de requête pour l'adresse : 234+Avenue+DOCTEUR+FONTAN+83200+Toulon, statut : 429\n",
      "Erreur de requête pour l'adresse : 381+Avenue+LOUIS+BARTHOU+83000+Toulon, statut : 429\n",
      "Erreur de requête pour l'adresse : 13+Chemin+DES+FIGUIERS+85630+Barbâtre, statut : 429\n",
      "Erreur pour l'adresse : 26+Grande+Rue+GRANDE+RUE+85230+Bouin - HTTPSConnectionPool(host='api-adresse.data.gouv.fr', port=443): Read timed out. (read timeout=None)Erreur pour l'adresse : 9+Rue+DE+LA+MARNE+85230+Saint-Gervais - HTTPSConnectionPool(host='api-adresse.data.gouv.fr', port=443): Read timed out. (read timeout=None)\n",
      "Erreur pour l'adresse : +Grande+Rue+GRAND'RUE+85230+Beauvoir-sur-Mer - ('Connection aborted.', RemoteDisconnected('Remote end closed connection without response'))\n",
      "Erreur pour l'adresse : 15+Rue+DES+RIDELLES+85470+Bretignolles-sur-Mer - HTTPSConnectionPool(host='api-adresse.data.gouv.fr', port=443): Read timed out. (read timeout=None)\n",
      "Erreur pour l'adresse : 9+Boulevard+CHARLES+DE+GAULLE+85470+Bretignolles-sur-Mer - HTTPSConnectionPool(host='api-adresse.data.gouv.fr', port=443): Read timed out. (read timeout=None)\n",
      "Erreur pour l'adresse : 18+Rue+DE+LA+GRANDE+DOUVE+85330+Noirmoutier-en-l'Île - HTTPSConnectionPool(host='api-adresse.data.gouv.fr', port=443): Read timed out. (read timeout=None)\n",
      "\n"
     ]
    }
   ],
   "source": [
    "df_missing = geolocaliser.geolocaliser_actifs(df_missing, 'adresse_py', 'latitude', 'longitude')"
   ]
  },
  {
   "cell_type": "code",
   "execution_count": 41,
   "metadata": {},
   "outputs": [],
   "source": [
    "df_missing = df_missing.dropna(subset=['latitude'])"
   ]
  },
  {
   "cell_type": "code",
   "execution_count": 42,
   "metadata": {},
   "outputs": [],
   "source": [
    "# Concatène les DataFrames en réinitialisant l'index\n",
    "df_final = pd.concat([df, df_missing], ignore_index=True)"
   ]
  },
  {
   "cell_type": "code",
   "execution_count": 43,
   "metadata": {},
   "outputs": [],
   "source": [
    "base_transactions = df_final.drop(columns=['departmentCode','communeName','code'])"
   ]
  },
  {
   "cell_type": "code",
   "execution_count": null,
   "metadata": {},
   "outputs": [],
   "source": [
    "base_transactions.to_parquet(\"data/base.parquet\", index=False, engine=\"pyarrow\")"
   ]
  },
  {
   "cell_type": "code",
   "execution_count": 44,
   "metadata": {},
   "outputs": [],
   "source": [
    "# base_transactions.to_csv(\"data/base.csv\",sep=\";\",index=False,encoding=\"utf-8\")"
   ]
  }
 ],
 "metadata": {
  "kernelspec": {
   "display_name": "Python 3",
   "language": "python",
   "name": "python3"
  },
  "language_info": {
   "codemirror_mode": {
    "name": "ipython",
    "version": 3
   },
   "file_extension": ".py",
   "mimetype": "text/x-python",
   "name": "python",
   "nbconvert_exporter": "python",
   "pygments_lexer": "ipython3",
   "version": "3.12.8"
  }
 },
 "nbformat": 4,
 "nbformat_minor": 2
}
